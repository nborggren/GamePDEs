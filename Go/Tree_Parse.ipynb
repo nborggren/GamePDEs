{
 "cells": [
  {
   "cell_type": "code",
   "execution_count": 10,
   "metadata": {
    "collapsed": false
   },
   "outputs": [
    {
     "name": "stdout",
     "output_type": "stream",
     "text": [
      "5086 7229\n"
     ]
    }
   ],
   "source": [
    "import os\n",
    "\n",
    "def GetMoves(sgf):\n",
    "    tmp=''\n",
    "    for i,j in enumerate(sgf):\n",
    "        if j=='(':\n",
    "            tmp+=GetMoves(sgf[i:])\n",
    "        elif j==')':\n",
    "            tmp+=j\n",
    "            return tmp\n",
    "        else:\n",
    "            tmp+=j\n",
    "    return tmp\n",
    "\n",
    "def ReadGame(game,path='./GoDat/KGS/'):\n",
    "    g=open(path+game)\n",
    "    return g.read()\n",
    "\n",
    "def StripComments(game,path='/Users/nborggren/Codes/GamePDEs/Go/GoDat/KGS/'):\n",
    "    os.system('perl CommentFilter.pl '+path+game+' '+path+game.replace('.sgf','_nocom.sgf'))\n",
    "    \n",
    "def GetKey(sgf,key='PW'):\n",
    "    a=sgf.find(key+'[')\n",
    "    b=sgf[a:].find(']')\n",
    "    return sgf[a+len(key)+1:a+b]  \n",
    "\n",
    "def StripKey(sgf,key='CR'):\n",
    "    while sgf.find(key+'[')>0:\n",
    "        tmp=GetKey(sgf,key=key)\n",
    "        sgf=sgf.replace(key+'['+tmp+']','')\n",
    "    return sgf\n",
    "\n",
    "def CleanSGF(game,path='/Users/nborggren/Codes/GamePDEs/Go/GoDat/KGS/',write=1):\n",
    "    #StripComments(game,path=path)\n",
    "    #sgf=ReadGame(game.replace('.sgf','_nocom.sgf'),path=path)\n",
    "    sgf=ReadGame(game,path=path)\n",
    "    sgf=sgf.replace('\\n','')\n",
    "    for i in ['CR','WL','BL','OB','OW','C','RU','KM','TM','OT','PW','PB','WR','BR','DT','PRE','RE']:\n",
    "        sgf=StripKey(sgf,key=i)\n",
    "    if write==1:\n",
    "        g=open(path+game.replace('.sgf','_clean.sgf'),'w')\n",
    "        g.write(sgf)\n",
    "    return sgf\n",
    "\n",
    "def GetCorners(sgf):\n",
    "    c1=[]\n",
    "    c2=[]\n",
    "    c3=[]\n",
    "    c4=[]\n",
    "    moves=sgf.split(';')\n",
    "    moves=moves[2:]\n",
    "    locs=[i[2:4] for i in moves]\n",
    "    letters='abcdefghijklmnopqrs'\n",
    "    bletters='srqponmlkjihgfedcba'\n",
    "    sym={}\n",
    "    for i,j in zip(letters,bletters):\n",
    "        sym[i]=j\n",
    "    l,r=letters[0:10],letters[9:]\n",
    "    for i,j in zip(moves,locs):\n",
    "        if j[0] in l and j[1] in l:\n",
    "            c1.append(i)\n",
    "        if j[0] in l and j[1] in r:\n",
    "            tmp=i.replace(j[1],sym[j[1]])\n",
    "            c2.append(tmp)\n",
    "        if j[0] in r and j[1] in r:\n",
    "            tmp=i.replace(j[1],sym[j[1]])\n",
    "            tmp=tmp.replace(j[0],sym[j[0]])\n",
    "            c3.append(tmp)\n",
    "        if j[0] in r and j[1] in l:\n",
    "            tmp=i.replace(j[0],sym[j[0]])\n",
    "            c4.append(tmp)\n",
    "    return [c1,c2,c3,c4]\n",
    "\n",
    "def WriteCorners(corner,path='./GoDat/Corners/',name='test'):\n",
    "    if len(corner)==0:return\n",
    "    header=\"(;GM[1]FF[4]CA[UTF-8]ST[2]\\nSZ[19]\\n;\"\n",
    "    record=header\n",
    "    for i in corner[:-1]:record+=i+';'\n",
    "    record+=corner[-1].replace(')','')+')'\n",
    "    f=open(path+name+'.sgf','w')\n",
    "    f.write(record)\n",
    "    f.close()\n",
    "\n",
    "def GetSyms(sgf,src='notlist'):\n",
    "    c1=[]\n",
    "    c2=[]\n",
    "    c3=[]\n",
    "    c4=[]\n",
    "    c5=[]\n",
    "    c6=[]\n",
    "    c7=[]\n",
    "    c8=[]\n",
    "    if src=='notlist':\n",
    "        moves=sgf.split(';')\n",
    "        moves=moves[2:]\n",
    "    else:\n",
    "        moves=sgf\n",
    "    #print moves\n",
    "    locs=[i[2:4] for i in moves]\n",
    "    #print locs\n",
    "    letters='abcdefghijklmnopqrs'\n",
    "    bletters='srqponmlkjihgfedcba'\n",
    "    sym={}\n",
    "    for i,j in zip(letters,bletters):\n",
    "        sym[i]=j\n",
    "    for i,j in zip(moves,locs):\n",
    "        c1.append(i)\n",
    "        tmp=j[0]+sym[j[1]]\n",
    "        c2.append(i.replace(j,tmp))\n",
    "        tmp=sym[j[0]]+sym[j[1]]\n",
    "        c3.append(i.replace(j,tmp))\n",
    "        tmp=sym[j[0]]+j[1]\n",
    "        c4.append(i.replace(j,tmp))\n",
    "        tmp=j[1]+j[0]\n",
    "        c5.append(i.replace(j,tmp))\n",
    "        tmp=j[1]+sym[j[0]]\n",
    "        c6.append(i.replace(j,tmp))\n",
    "        tmp=sym[j[1]]+sym[j[0]]\n",
    "        c7.append(i.replace(j,tmp))\n",
    "        tmp=sym[j[1]]+j[0]\n",
    "        c8.append(i.replace(j,tmp))\n",
    "    return [c1,c2,c3,c4,c5,c6,c7,c8]\n",
    "\n",
    "def PatternSearch(pattern,games,path='./GoDat/KGS/'):\n",
    "    m=len(pattern)\n",
    "    patterns=[]\n",
    "    mygames=[]\n",
    "    rev = {}\n",
    "    rev['B']='W'\n",
    "    rev['W']='B'\n",
    "    for i in games:\n",
    "        try:\n",
    "            sgf = ReadGame(i.replace('.sgf','_clean.sgf'),path=path)\n",
    "            corners=GetCorners(sgf)\n",
    "        except IndexError:\n",
    "            continue\n",
    "        for j in corners:\n",
    "            a=GetSyms(j,src='list')\n",
    "            for k in a:\n",
    "                if k[0:m]==pattern or k[0:m]==[rev[l[0]]+l[1:] for l in pattern]:\n",
    "                    mygames.append(i)\n",
    "                    patterns.append(k)\n",
    "    return patterns,mygames\n",
    "\n",
    "\n",
    "def PatternSearchCorners(pattern,corners,games,path='/Users/nborggren/Codes/ipy/go/go4go/'):\n",
    "    games=[]\n",
    "    patterns=[]\n",
    "    rev = {}\n",
    "    rev['B']='W'\n",
    "    rev['W']='B'\n",
    "    for i,mycorners in zip(games,corners):\n",
    "        for j in mycorners:\n",
    "            a=GetSyms(j,src='list')\n",
    "            print a\n",
    "            for k in a:\n",
    "                print k[0:3],pattern\n",
    "                if k[0:3]==pattern or k[0:3]==[rev[l[0]]+l[1:] for l in pattern]:\n",
    "                    mygames.append(i)\n",
    "                    patterns.append(k)\n",
    "    return patterns,mygames\n",
    "\n",
    "def WritePatterns(patterns,mygames,path='./outputs/',name='test'):\n",
    "    header=\"(;GM[1]FF[4]CA[UTF-8]ST[2]SZ[19]\"\n",
    "    for i,game in zip(patterns,mygames):\n",
    "        if len(i)==0:continue\n",
    "        tmp='(;C['+game+']'\n",
    "        for j in i[:-1]:\n",
    "            j=j.replace(')','')\n",
    "            j=j.replace('(','')\n",
    "            tmp+=j+';'\n",
    "        i[-1]=i[-1].replace('(','')\n",
    "        tmp+=i[-1].replace(')','')   \n",
    "        tmp+=')\\n'\n",
    "        header+=tmp\n",
    "    f=open(path+name+'.sgf','w')\n",
    "    f.write(header+')')\n",
    "    f.close()\n",
    "    \n",
    "def WriteOrderedPatterns(patterns,mygames,path='./outputs/',name='test'):\n",
    "    header=\"(;GM[1]FF[4]CA[UTF-8]ST[2]SZ[19]\"\n",
    "    for i,game in zip(patterns,mygames):\n",
    "        if len(i)==0:continue\n",
    "        tmp='(;C['+game+']'\n",
    "        for j in i[:-1]:\n",
    "            j=j.replace(')','')\n",
    "            j=j.replace('(','')\n",
    "            tmp+=j+';'\n",
    "        i[-1]=i[-1].replace('(','')\n",
    "        tmp+=i[-1].replace(')','')   \n",
    "        tmp+=')\\n'\n",
    "        header+=tmp\n",
    "    f=open(path+name+'.sgf','w')\n",
    "    f.write(header+')')\n",
    "    f.close()\n",
    "\n",
    "f=open('./GoDat/KGS/Borggren.games')\n",
    "mygames=f.read().split('\\n')\n",
    "games = [i for i in mygames if i.find('.sgf')>0 and i.find('/Bogoliubon-7.sgf')<0 and i.find('/Bogoliubon-6.sgf')<0 and i.find('/Bogoliubon-3.sgf')<0 and i.find('/Bogoliubon-5.sgf')<0 and i.find('/Bogoliubon-4.sgf')<0 and i.find('/Bogoliubon.sgf')<0 and i.find('/Bogoliubon-2.sgf')<0]\n",
    "myana = [i for i in mygames if i.find('/Bogoliubon.sgf')>0]\n",
    "print len(games),len(mygames)\n",
    "games.reverse()"
   ]
  },
  {
   "cell_type": "code",
   "execution_count": 11,
   "metadata": {
    "collapsed": false
   },
   "outputs": [
    {
     "name": "stdout",
     "output_type": "stream",
     "text": [
      "2366 3061\n"
     ]
    }
   ],
   "source": [
    "f=open('./inputs/logicg8.games')\n",
    "mygames=f.read().split('\\n')\n",
    "games = [i for i in mygames if i.find('.sgf')>0 and i.find('/Logicg8.sgf')<0]\n",
    "games.reverse()\n",
    "print len(games),len(mygames)"
   ]
  },
  {
   "cell_type": "code",
   "execution_count": 2,
   "metadata": {
    "collapsed": false
   },
   "outputs": [
    {
     "name": "stdout",
     "output_type": "stream",
     "text": [
      "48689 48693\n"
     ]
    }
   ],
   "source": [
    "f = open('/Users/nborggren/Codes/ipy/go/go4go/pro.list')\n",
    "mygames=f.read().split('\\n')\n",
    "games = [i for i in mygames if i.find('.sgf')>0]\n",
    "games.reverse()\n",
    "print len(games),len(mygames)"
   ]
  },
  {
   "cell_type": "code",
   "execution_count": 250,
   "metadata": {
    "collapsed": false
   },
   "outputs": [
    {
     "ename": "IOError",
     "evalue": "[Errno 2] No such file or directory: '/Users/nborggren/Codes/ipy/go/go4go/2016/2/24/Bogoliubon-tf.sgf'",
     "output_type": "error",
     "traceback": [
      "\u001b[0;31m---------------------------------------------------------------------------\u001b[0m",
      "\u001b[0;31mIOError\u001b[0m                                   Traceback (most recent call last)",
      "\u001b[0;32m<ipython-input-250-7ed35cf03aae>\u001b[0m in \u001b[0;36m<module>\u001b[0;34m()\u001b[0m\n\u001b[1;32m      1\u001b[0m \u001b[0mcorners\u001b[0m\u001b[0;34m=\u001b[0m\u001b[0;34m[\u001b[0m\u001b[0;34m]\u001b[0m\u001b[0;34m\u001b[0m\u001b[0m\n\u001b[1;32m      2\u001b[0m \u001b[0;32mfor\u001b[0m \u001b[0mi\u001b[0m \u001b[0;32min\u001b[0m \u001b[0mgames\u001b[0m\u001b[0;34m:\u001b[0m\u001b[0;34m\u001b[0m\u001b[0m\n\u001b[0;32m----> 3\u001b[0;31m     \u001b[0mCleanSGF\u001b[0m\u001b[0;34m(\u001b[0m\u001b[0mi\u001b[0m\u001b[0;34m,\u001b[0m\u001b[0mpath\u001b[0m\u001b[0;34m=\u001b[0m\u001b[0;34m'/Users/nborggren/Codes/ipy/go/go4go/'\u001b[0m\u001b[0;34m)\u001b[0m\u001b[0;34m\u001b[0m\u001b[0m\n\u001b[0m\u001b[1;32m      4\u001b[0m     \u001b[0;31m#patterns,pgames=PatternSearch(['W[cd]', 'B[ed]', 'W[hd]'],games[:3],path='/Users/nborggren/Codes/ipy/go/go4go/')\u001b[0m\u001b[0;34m\u001b[0m\u001b[0;34m\u001b[0m\u001b[0m\n",
      "\u001b[0;32m<ipython-input-249-3691a2107311>\u001b[0m in \u001b[0;36mCleanSGF\u001b[0;34m(game, path, write)\u001b[0m\n\u001b[1;32m     34\u001b[0m     \u001b[0;31m#StripComments(game,path=path)\u001b[0m\u001b[0;34m\u001b[0m\u001b[0;34m\u001b[0m\u001b[0m\n\u001b[1;32m     35\u001b[0m     \u001b[0;31m#sgf=ReadGame(game.replace('.sgf','_nocom.sgf'),path=path)\u001b[0m\u001b[0;34m\u001b[0m\u001b[0;34m\u001b[0m\u001b[0m\n\u001b[0;32m---> 36\u001b[0;31m     \u001b[0msgf\u001b[0m\u001b[0;34m=\u001b[0m\u001b[0mReadGame\u001b[0m\u001b[0;34m(\u001b[0m\u001b[0mgame\u001b[0m\u001b[0;34m,\u001b[0m\u001b[0mpath\u001b[0m\u001b[0;34m=\u001b[0m\u001b[0mpath\u001b[0m\u001b[0;34m)\u001b[0m\u001b[0;34m\u001b[0m\u001b[0m\n\u001b[0m\u001b[1;32m     37\u001b[0m     \u001b[0msgf\u001b[0m\u001b[0;34m=\u001b[0m\u001b[0msgf\u001b[0m\u001b[0;34m.\u001b[0m\u001b[0mreplace\u001b[0m\u001b[0;34m(\u001b[0m\u001b[0;34m'\\n'\u001b[0m\u001b[0;34m,\u001b[0m\u001b[0;34m''\u001b[0m\u001b[0;34m)\u001b[0m\u001b[0;34m\u001b[0m\u001b[0m\n\u001b[1;32m     38\u001b[0m     \u001b[0;32mfor\u001b[0m \u001b[0mi\u001b[0m \u001b[0;32min\u001b[0m \u001b[0;34m[\u001b[0m\u001b[0;34m'CR'\u001b[0m\u001b[0;34m,\u001b[0m\u001b[0;34m'WL'\u001b[0m\u001b[0;34m,\u001b[0m\u001b[0;34m'BL'\u001b[0m\u001b[0;34m,\u001b[0m\u001b[0;34m'OB'\u001b[0m\u001b[0;34m,\u001b[0m\u001b[0;34m'OW'\u001b[0m\u001b[0;34m,\u001b[0m\u001b[0;34m'C'\u001b[0m\u001b[0;34m,\u001b[0m\u001b[0;34m'RU'\u001b[0m\u001b[0;34m,\u001b[0m\u001b[0;34m'KM'\u001b[0m\u001b[0;34m,\u001b[0m\u001b[0;34m'TM'\u001b[0m\u001b[0;34m,\u001b[0m\u001b[0;34m'OT'\u001b[0m\u001b[0;34m,\u001b[0m\u001b[0;34m'PW'\u001b[0m\u001b[0;34m,\u001b[0m\u001b[0;34m'PB'\u001b[0m\u001b[0;34m,\u001b[0m\u001b[0;34m'WR'\u001b[0m\u001b[0;34m,\u001b[0m\u001b[0;34m'BR'\u001b[0m\u001b[0;34m,\u001b[0m\u001b[0;34m'DT'\u001b[0m\u001b[0;34m,\u001b[0m\u001b[0;34m'PRE'\u001b[0m\u001b[0;34m,\u001b[0m\u001b[0;34m'RE'\u001b[0m\u001b[0;34m]\u001b[0m\u001b[0;34m:\u001b[0m\u001b[0;34m\u001b[0m\u001b[0m\n",
      "\u001b[0;32m<ipython-input-249-3691a2107311>\u001b[0m in \u001b[0;36mReadGame\u001b[0;34m(game, path)\u001b[0m\n\u001b[1;32m     14\u001b[0m \u001b[0;34m\u001b[0m\u001b[0m\n\u001b[1;32m     15\u001b[0m \u001b[0;32mdef\u001b[0m \u001b[0mReadGame\u001b[0m\u001b[0;34m(\u001b[0m\u001b[0mgame\u001b[0m\u001b[0;34m,\u001b[0m\u001b[0mpath\u001b[0m\u001b[0;34m=\u001b[0m\u001b[0;34m'./GoDat/KGS/'\u001b[0m\u001b[0;34m)\u001b[0m\u001b[0;34m:\u001b[0m\u001b[0;34m\u001b[0m\u001b[0m\n\u001b[0;32m---> 16\u001b[0;31m     \u001b[0mg\u001b[0m\u001b[0;34m=\u001b[0m\u001b[0mopen\u001b[0m\u001b[0;34m(\u001b[0m\u001b[0mpath\u001b[0m\u001b[0;34m+\u001b[0m\u001b[0mgame\u001b[0m\u001b[0;34m)\u001b[0m\u001b[0;34m\u001b[0m\u001b[0m\n\u001b[0m\u001b[1;32m     17\u001b[0m     \u001b[0;32mreturn\u001b[0m \u001b[0mg\u001b[0m\u001b[0;34m.\u001b[0m\u001b[0mread\u001b[0m\u001b[0;34m(\u001b[0m\u001b[0;34m)\u001b[0m\u001b[0;34m\u001b[0m\u001b[0m\n\u001b[1;32m     18\u001b[0m \u001b[0;34m\u001b[0m\u001b[0m\n",
      "\u001b[0;31mIOError\u001b[0m: [Errno 2] No such file or directory: '/Users/nborggren/Codes/ipy/go/go4go/2016/2/24/Bogoliubon-tf.sgf'"
     ]
    }
   ],
   "source": [
    "corners=[]\n",
    "for i in games:\n",
    "    CleanSGF(i,path='/Users/nborggren/Codes/ipy/go/go4go/')\n",
    "    #patterns,pgames=PatternSearch(['W[cd]', 'B[ed]', 'W[hd]'],games[:3],path='/Users/nborggren/Codes/ipy/go/go4go/')"
   ]
  },
  {
   "cell_type": "code",
   "execution_count": 222,
   "metadata": {
    "collapsed": false
   },
   "outputs": [
    {
     "name": "stdout",
     "output_type": "stream",
     "text": [
      "[['B[dc]', 'B[cf]', 'W[ic]', 'B[gc]', 'W[ie]', 'W[ch]', 'W[cd]', 'B[cc]', 'W[ce]', 'B[cg]', 'W[ed]', 'B[ec]', 'W[dh]', 'B[ef]', 'W[ee]', 'B[ge]', 'W[eg]', 'B[ff]', 'W[df]', 'B[dg]', 'W[de]', 'B[bh]', 'W[bi]', 'B[eh]', 'W[fg]', 'B[ci]', 'W[gf]', 'B[di]', 'W[fe]', 'B[ib]', 'W[jb]', 'B[hb]', 'B[jc]', 'B[jd]', 'B[id]', 'B[he]', 'B[ig]', 'W[bd]', 'W[gi]', 'B[hf]', 'B[gg]', 'W[fh]'], ['W[cd]', 'B[fc]', 'W[hc]', 'B[jc]', 'W[dc]', 'W[gd]', 'B[di]', 'B[jh]', 'W[ji]', 'B[jg]', 'W[cg]', 'B[df]', 'W[cf]', 'B[fd]', 'W[fe]', 'B[ge]', 'W[he]', 'B[gf]', 'W[ee]', 'B[hf]', 'W[ie]', 'B[hb]', 'W[ib]', 'B[gb]', 'W[jb]', 'B[jd]', 'B[ic]', 'B[eb]', 'W[db]', 'B[bh]', 'W[ch]', 'B[ci]'], ['W[dd]', 'B[jc]', 'B[fc]', 'B[cf]', 'W[df]', 'B[dg]', 'W[ef]', 'B[ce]', 'W[cd]', 'B[gd]', 'W[ec]', 'B[eb]', 'W[fd]', 'B[fb]', 'W[db]', 'B[gf]', 'W[gg]', 'B[ch]', 'W[eg]', 'B[hg]', 'W[di]', 'B[ci]', 'W[dj]', 'B[cj]', 'W[hh]', 'B[gh]', 'W[fg]', 'B[ig]', 'W[ih]', 'B[jh]', 'W[ji]', 'B[jg]', 'W[ij]', 'W[jb]', 'B[jd]', 'W[ic]', 'B[id]', 'W[hc]', 'W[hd]', 'B[he]', 'W[gc]', 'B[ge]', 'W[gb]', 'W[dh]', 'B[be]', 'W[cg]', 'B[bg]', 'W[bd]'], ['B[cd]', 'W[ed]', 'B[ec]', 'W[fc]', 'B[dc]', 'W[gd]', 'B[cg]', 'W[jb]', 'W[dj]', 'B[cj]', 'W[di]', 'B[ch]', 'W[ij]', 'B[eg]', 'B[hc]', 'W[eb]', 'B[jc]', 'W[df]', 'B[ee]', 'W[ef]', 'B[de]', 'W[ff]', 'B[cf]', 'W[ic]', 'B[jd]', 'W[ib]', 'B[id]', 'W[hb]', 'W[hd]', 'W[cb]', 'B[db]', 'W[da]', 'B[fb]', 'W[ea]', 'B[cc]', 'W[bb]', 'B[bc]', 'W[gb]', 'B[gi]', 'W[hi]', 'B[fh]', 'W[hh]', 'B[fe])\\n']]\n",
      "[['W[ic]', 'B[gc]'], ['W[hc]', 'B[jc]'], ['B[fc]', 'B[cf]'], ['B[ec]', 'W[fc]']]\n"
     ]
    },
    {
     "ename": "KeyError",
     "evalue": "'B[gc]'",
     "output_type": "error",
     "traceback": [
      "\u001b[0;31m---------------------------------------------------------------------------\u001b[0m",
      "\u001b[0;31mKeyError\u001b[0m                                  Traceback (most recent call last)",
      "\u001b[0;32m<ipython-input-222-8f4baf415485>\u001b[0m in \u001b[0;36m<module>\u001b[0;34m()\u001b[0m\n\u001b[0;32m----> 1\u001b[0;31m \u001b[0mGetSyms\u001b[0m\u001b[0;34m(\u001b[0m\u001b[0mcorners\u001b[0m\u001b[0;34m[\u001b[0m\u001b[0;36m0\u001b[0m\u001b[0;34m]\u001b[0m\u001b[0;34m,\u001b[0m\u001b[0msrc\u001b[0m\u001b[0;34m=\u001b[0m\u001b[0;34m'list'\u001b[0m\u001b[0;34m)\u001b[0m\u001b[0;34m\u001b[0m\u001b[0m\n\u001b[0m",
      "\u001b[0;32m<ipython-input-218-3bea36f7207c>\u001b[0m in \u001b[0;36mGetSyms\u001b[0;34m(sgf, src)\u001b[0m\n\u001b[1;32m    105\u001b[0m     \u001b[0;32mfor\u001b[0m \u001b[0mi\u001b[0m\u001b[0;34m,\u001b[0m\u001b[0mj\u001b[0m \u001b[0;32min\u001b[0m \u001b[0mzip\u001b[0m\u001b[0;34m(\u001b[0m\u001b[0mmoves\u001b[0m\u001b[0;34m,\u001b[0m\u001b[0mlocs\u001b[0m\u001b[0;34m)\u001b[0m\u001b[0;34m:\u001b[0m\u001b[0;34m\u001b[0m\u001b[0m\n\u001b[1;32m    106\u001b[0m         \u001b[0mc1\u001b[0m\u001b[0;34m.\u001b[0m\u001b[0mappend\u001b[0m\u001b[0;34m(\u001b[0m\u001b[0mi\u001b[0m\u001b[0;34m)\u001b[0m\u001b[0;34m\u001b[0m\u001b[0m\n\u001b[0;32m--> 107\u001b[0;31m         \u001b[0mtmp\u001b[0m\u001b[0;34m=\u001b[0m\u001b[0mj\u001b[0m\u001b[0;34m[\u001b[0m\u001b[0;36m0\u001b[0m\u001b[0;34m]\u001b[0m\u001b[0;34m+\u001b[0m\u001b[0msym\u001b[0m\u001b[0;34m[\u001b[0m\u001b[0mj\u001b[0m\u001b[0;34m[\u001b[0m\u001b[0;36m1\u001b[0m\u001b[0;34m]\u001b[0m\u001b[0;34m]\u001b[0m\u001b[0;34m\u001b[0m\u001b[0m\n\u001b[0m\u001b[1;32m    108\u001b[0m         \u001b[0mc2\u001b[0m\u001b[0;34m.\u001b[0m\u001b[0mappend\u001b[0m\u001b[0;34m(\u001b[0m\u001b[0mi\u001b[0m\u001b[0;34m.\u001b[0m\u001b[0mreplace\u001b[0m\u001b[0;34m(\u001b[0m\u001b[0mj\u001b[0m\u001b[0;34m,\u001b[0m\u001b[0mtmp\u001b[0m\u001b[0;34m)\u001b[0m\u001b[0;34m)\u001b[0m\u001b[0;34m\u001b[0m\u001b[0m\n\u001b[1;32m    109\u001b[0m         \u001b[0mtmp\u001b[0m\u001b[0;34m=\u001b[0m\u001b[0msym\u001b[0m\u001b[0;34m[\u001b[0m\u001b[0mj\u001b[0m\u001b[0;34m[\u001b[0m\u001b[0;36m0\u001b[0m\u001b[0;34m]\u001b[0m\u001b[0;34m]\u001b[0m\u001b[0;34m+\u001b[0m\u001b[0msym\u001b[0m\u001b[0;34m[\u001b[0m\u001b[0mj\u001b[0m\u001b[0;34m[\u001b[0m\u001b[0;36m1\u001b[0m\u001b[0;34m]\u001b[0m\u001b[0;34m]\u001b[0m\u001b[0;34m\u001b[0m\u001b[0m\n",
      "\u001b[0;31mKeyError\u001b[0m: 'B[gc]'"
     ]
    }
   ],
   "source": [
    "GetSyms(corners[0],src='list')"
   ]
  },
  {
   "cell_type": "code",
   "execution_count": 149,
   "metadata": {
    "collapsed": false
   },
   "outputs": [],
   "source": [
    "sgf=ReadGame(games[0],path='./GoDat/KGS_logicg8/')"
   ]
  },
  {
   "cell_type": "code",
   "execution_count": 161,
   "metadata": {
    "collapsed": false
   },
   "outputs": [],
   "source": [
    "for i in games:CleanSGF(i,path='./GoDat/KGS_logicg8/')"
   ]
  },
  {
   "cell_type": "code",
   "execution_count": 31,
   "metadata": {
    "collapsed": true
   },
   "outputs": [],
   "source": [
    "for i in games:StripComments(i)"
   ]
  },
  {
   "cell_type": "code",
   "execution_count": 34,
   "metadata": {
    "collapsed": false
   },
   "outputs": [
    {
     "data": {
      "text/plain": [
       "'2016/2/24/Bogoliubon-tf.sgf'"
      ]
     },
     "execution_count": 34,
     "metadata": {},
     "output_type": "execute_result"
    }
   ],
   "source": [
    "games[0]"
   ]
  },
  {
   "cell_type": "code",
   "execution_count": 139,
   "metadata": {
    "collapsed": true
   },
   "outputs": [],
   "source": [
    "for i in games:CleanSGF(i)"
   ]
  },
  {
   "cell_type": "code",
   "execution_count": 140,
   "metadata": {
    "collapsed": false
   },
   "outputs": [],
   "source": [
    "sgf=ReadGame(games[0].replace('.sgf','_clean.sgf'))"
   ]
  },
  {
   "cell_type": "code",
   "execution_count": 217,
   "metadata": {
    "collapsed": false
   },
   "outputs": [],
   "source": [
    "corners=GetCorners(ReadGame(games[0].replace('.sgf','_clean.sgf')))\n",
    "WriteCorners(corners[0],name='0_0')\n",
    "syms=GetSyms(ReadGame(games[0].replace('.sgf','_clean.sgf')))\n",
    "for i,j in enumerate(syms):WriteCorners(syms[i],name='syms_0_'+str(i))"
   ]
  },
  {
   "cell_type": "code",
   "execution_count": 90,
   "metadata": {
    "collapsed": false
   },
   "outputs": [],
   "source": [
    "letters='abcdefghijklmnopqrs'\n",
    "bletters='srqponmlkjihgfedcba'\n",
    "sym={}\n",
    "for i,j in zip(letters,bletters):\n",
    "    sym[i]=j"
   ]
  },
  {
   "cell_type": "code",
   "execution_count": 76,
   "metadata": {
    "collapsed": false
   },
   "outputs": [],
   "source": [
    "l,r=letters[0:10],letters[9:]"
   ]
  },
  {
   "cell_type": "code",
   "execution_count": 161,
   "metadata": {
    "collapsed": false
   },
   "outputs": [],
   "source": [
    "c1=[]\n",
    "c2=[]\n",
    "c3=[]\n",
    "c4=[]\n",
    "for i,j in zip(moves,locs):\n",
    "    if j[0] in l and j[1] in l:\n",
    "        c1.append(i)\n",
    "    if j[0] in l and j[1] in r:\n",
    "        tmp=i.replace(j[1],sym[j[1]])\n",
    "        c2.append(tmp)\n",
    "    if j[0] in r and j[1] in r:\n",
    "        tmp=i.replace(j[1],sym[j[1]])\n",
    "        tmp=tmp.replace(j[0],sym[j[0]])\n",
    "        c3.append(tmp)\n",
    "    if j[0] in r and j[1] in l:\n",
    "        tmp=i.replace(j[0],sym[j[0]])\n",
    "        c4.append(tmp)\n"
   ]
  },
  {
   "cell_type": "code",
   "execution_count": 103,
   "metadata": {
    "collapsed": true
   },
   "outputs": [],
   "source": [
    "header=\"(;GM[1]FF[4]CA[UTF-8]AP[CGoban:3]ST[2]\\nRU[Japanese]SZ[19]KM[6.50]TM[600]OT[5x40 byo-yomi]\\nPW[Bogoliubon]PB[tf]WR[1k]BR[1k]DT[2016-02-24]PRE[B+Resign]\\n;\""
   ]
  },
  {
   "cell_type": "code",
   "execution_count": 142,
   "metadata": {
    "collapsed": true
   },
   "outputs": [],
   "source": [
    "def WriteCorners(corners,path='./GoDat/Corners/'):\n",
    "    header=\"(;GM[1]FF[4]CA[UTF-8]AP[CGoban:3]ST[2]\\nRU[Japanese]SZ[19]KM[6.50]TM[600]OT[5x40 byo-yomi]\\nPW[Bogoliubon]PB[tf]WR[1k]BR[1k]DT[2016-02-24]PRE[B+Resign]\\n;\""
   ]
  },
  {
   "cell_type": "code",
   "execution_count": 143,
   "metadata": {
    "collapsed": false
   },
   "outputs": [
    {
     "data": {
      "text/plain": [
       "'(;GM[1]FF[4]CA[UTF-8]AP[CGoban:3]ST[2]\\nRU[Japanese]SZ[19]KM[6.50]TM[600]OT[5x40 byo-yomi]\\nPW[Bogoliubon]PB[tf]WR[1k]BR[1k]DT[2016-02-24]PRE[B+Resign]\\n;'"
      ]
     },
     "execution_count": 143,
     "metadata": {},
     "output_type": "execute_result"
    }
   ],
   "source": [
    "header"
   ]
  },
  {
   "cell_type": "code",
   "execution_count": 112,
   "metadata": {
    "collapsed": false
   },
   "outputs": [],
   "source": [
    "f=open('test.sgf','w')\n",
    "record=header\n",
    "for i in c1[:-1]:record+=i+';'\n",
    "record+=c1[-1].replace(')','')+')'\n",
    "\n",
    "record+='\\n'+header\n",
    "for i in c2[:-1]:record+=i+';'\n",
    "record+=c2[-1].replace(')','')+')'\n",
    "\n",
    "record+='\\n'+header\n",
    "for i in c1[:-1]:record+=i+';'\n",
    "record+=c1[-1].replace(')','')+')'\n",
    "\n",
    "record+='\\n'+header\n",
    "for i in c1[:-1]:record+=i+';'\n",
    "record+=c1[-1].replace(')','')+')'\n",
    "\n",
    "f.write(record)"
   ]
  },
  {
   "cell_type": "code",
   "execution_count": 115,
   "metadata": {
    "collapsed": true
   },
   "outputs": [],
   "source": [
    "corners=[c1,c2,c3,c4]"
   ]
  },
  {
   "cell_type": "code",
   "execution_count": 119,
   "metadata": {
    "collapsed": false
   },
   "outputs": [],
   "source": [
    "joseki={}\n",
    "joseki[c1[0]]={}\n",
    "joseki[c1[0]][c1[1]]={}\n",
    "        \n"
   ]
  },
  {
   "cell_type": "code",
   "execution_count": 120,
   "metadata": {
    "collapsed": false
   },
   "outputs": [
    {
     "data": {
      "text/plain": [
       "{'W[dc]': {'B[de]': {}}}"
      ]
     },
     "execution_count": 120,
     "metadata": {},
     "output_type": "execute_result"
    }
   ],
   "source": [
    "joseki"
   ]
  },
  {
   "cell_type": "code",
   "execution_count": 121,
   "metadata": {
    "collapsed": true
   },
   "outputs": [],
   "source": [
    "fmove=set()\n",
    "for i in corners:\n",
    "    fmove.add(i[0])\n",
    "    "
   ]
  },
  {
   "cell_type": "code",
   "execution_count": 122,
   "metadata": {
    "collapsed": false
   },
   "outputs": [
    {
     "name": "stdout",
     "output_type": "stream",
     "text": [
      "set(['W[dd]', 'W[dc]', 'B[dd]'])\n"
     ]
    }
   ],
   "source": [
    "print fmove"
   ]
  },
  {
   "cell_type": "code",
   "execution_count": 172,
   "metadata": {
    "collapsed": false
   },
   "outputs": [],
   "source": [
    "corners=GetCorners(ReadGame(games[3],path='/Users/nborggren/Codes/ipy/go/go4go/'))"
   ]
  },
  {
   "cell_type": "code",
   "execution_count": 13,
   "metadata": {
    "collapsed": false
   },
   "outputs": [],
   "source": [
    "for j,i in enumerate(games):\n",
    "    sgf=ReadGame(i.replace('.sgf','_clean.sgf'))\n",
    "    handis=GetKey(sgf='HA')\n",
    "    if handis in [str(k+1) for k in range(9)]:\n",
    "        continue\n",
    "    else:\n",
    "        try:\n",
    "            corners=GetCorners(sgf)\n",
    "        except IndexError:\n",
    "            continue\n",
    "        for k,l in enumerate(corners):\n",
    "            WriteCorners(l,name=str(j)+'_'+str(k))\n"
   ]
  },
  {
   "cell_type": "code",
   "execution_count": null,
   "metadata": {
    "collapsed": true
   },
   "outputs": [],
   "source": [
    "f=open('test.sgf','w')\n",
    "record=header\n",
    "for i in c1[:-1]:record+=i+';'\n",
    "record+=c1[-1].replace(')','')+')'"
   ]
  },
  {
   "cell_type": "code",
   "execution_count": 150,
   "metadata": {
    "collapsed": true
   },
   "outputs": [],
   "source": [
    "WriteCorners(corners[0])"
   ]
  },
  {
   "cell_type": "code",
   "execution_count": 25,
   "metadata": {
    "collapsed": false
   },
   "outputs": [],
   "source": [
    "a=GetSyms(corners[1],src='list')"
   ]
  },
  {
   "cell_type": "code",
   "execution_count": 33,
   "metadata": {
    "collapsed": false
   },
   "outputs": [
    {
     "data": {
      "text/plain": [
       "True"
      ]
     },
     "execution_count": 33,
     "metadata": {},
     "output_type": "execute_result"
    }
   ],
   "source": [
    "a[4][0:3]==['W[cd]', 'B[ed]', 'W[gc]'] or a[4][0:3]==['B[cd]', 'W[ed]', 'B[gc]']"
   ]
  },
  {
   "cell_type": "code",
   "execution_count": 92,
   "metadata": {
    "collapsed": false
   },
   "outputs": [],
   "source": [
    "def PatternSearch(pattern,games):\n",
    "    patterns=[]\n",
    "    mygames=[]\n",
    "    rev = {}\n",
    "    rev['B']='W'\n",
    "    rev['W']='B'\n",
    "    for i in games:\n",
    "        try:\n",
    "            corners=GetCorners(ReadGame(i.replace('.sgf','_clean.sgf')))\n",
    "        except IndexError:\n",
    "            continue\n",
    "        for j in corners:\n",
    "            a=GetSyms(j,src='list')\n",
    "            for k in a:\n",
    "                if k[0:3]==pattern or k[0:3]==[rev[l[0]]+l[1:] for l in pattern]:\n",
    "                    mygames.append(i)\n",
    "                    patterns.append(k)\n",
    "    return patterns,mygames"
   ]
  },
  {
   "cell_type": "code",
   "execution_count": 125,
   "metadata": {
    "collapsed": false
   },
   "outputs": [],
   "source": [
    "patterns,mygames=PatternSearch(['W[cd]', 'B[ed]', 'W[gd]'],games)"
   ]
  },
  {
   "cell_type": "code",
   "execution_count": 164,
   "metadata": {
    "collapsed": false
   },
   "outputs": [
    {
     "name": "stdout",
     "output_type": "stream",
     "text": [
      "35 35\n",
      "45 45\n",
      "140 140\n",
      "1 1\n",
      "0 0\n",
      "1 1\n"
     ]
    }
   ],
   "source": [
    "patterns,mygames=PatternSearch(['W[cd]', 'B[ed]', 'W[gd]'],games,path='./GoDat/KGS_logicg8/')\n",
    "print len(patterns),len(mygames)\n",
    "WritePatterns(patterns,mygames,name='kha1h',path='./outputs/logicg8/')\n",
    "\n",
    "patterns,mygames=PatternSearch(['W[cd]', 'B[ed]', 'W[gc]'],games,path='./GoDat/KGS_logicg8/')\n",
    "print len(patterns),len(mygames)\n",
    "WritePatterns(patterns,mygames,name='kha1l',path='./outputs/logicg8/')\n",
    "\n",
    "patterns,mygames=PatternSearch(['W[cd]', 'B[ed]', 'W[hd]'],games,path='./GoDat/KGS_logicg8/')\n",
    "print len(patterns),len(mygames)\n",
    "WritePatterns(patterns,mygames,name='kha2h',path='./outputs/logicg8/')\n",
    "\n",
    "patterns,mygames=PatternSearch(['W[cd]', 'B[ed]', 'W[hc]'],games,path='./GoDat/KGS_logicg8/')\n",
    "print len(patterns),len(mygames)\n",
    "WritePatterns(patterns,mygames,name='kha2l',path='./outputs/logicg8/')\n",
    "\n",
    "patterns,mygames=PatternSearch(['W[cd]', 'B[ed]', 'W[id]'],games,path='./GoDat/KGS_logicg8/')\n",
    "print len(patterns),len(mygames)\n",
    "WritePatterns(patterns,mygames,name='kha3h',path='./outputs/logicg8/')\n",
    "\n",
    "patterns,mygames=PatternSearch(['W[cd]', 'B[ed]', 'W[ic]'],games,path='./GoDat/KGS_logicg8/')\n",
    "print len(patterns),len(mygames)\n",
    "WritePatterns(patterns,mygames,name='kha3l',path='./outputs/logicg8/')\n",
    "\n"
   ]
  },
  {
   "cell_type": "code",
   "execution_count": 153,
   "metadata": {
    "collapsed": false
   },
   "outputs": [
    {
     "name": "stdout",
     "output_type": "stream",
     "text": [
      "29 29\n",
      "140 140\n",
      "79 79\n",
      "57 57\n",
      "8 8\n",
      "28 28\n"
     ]
    }
   ],
   "source": [
    "patterns,mygames=PatternSearch(['W[cd]', 'B[ec]', 'W[gd]'],games)\n",
    "print len(patterns),len(mygames)\n",
    "WritePatterns(patterns,mygames,name='kla1h')\n",
    "\n",
    "patterns,mygames=PatternSearch(['W[cd]', 'B[ec]', 'W[gc]'],games)\n",
    "print len(patterns),len(mygames)\n",
    "WritePatterns(patterns,mygames,name='kla1l')\n",
    "\n",
    "patterns,mygames=PatternSearch(['W[cd]', 'B[ec]', 'W[hd]'],games)\n",
    "print len(patterns),len(mygames)\n",
    "WritePatterns(patterns,mygames,name='kla2h')\n",
    "\n",
    "patterns,mygames=PatternSearch(['W[cd]', 'B[ec]', 'W[hc]'],games)\n",
    "print len(patterns),len(mygames)\n",
    "WritePatterns(patterns,mygames,name='kla2l')\n",
    "\n",
    "patterns,mygames=PatternSearch(['W[cd]', 'B[ec]', 'W[id]'],games)\n",
    "print len(patterns),len(mygames)\n",
    "WritePatterns(patterns,mygames,name='kla3h')\n",
    "\n",
    "patterns,mygames=PatternSearch(['W[cd]', 'B[ec]', 'W[ic]'],games)\n",
    "print len(patterns),len(mygames)\n",
    "WritePatterns(patterns,mygames,name='kla3l')\n"
   ]
  },
  {
   "cell_type": "code",
   "execution_count": 199,
   "metadata": {
    "collapsed": false
   },
   "outputs": [],
   "source": [
    "corners=[]\n",
    "for i in mygames[:3]:\n",
    "    corners.append(GetCorners(ReadGame(i,path='/Users/nborggren/Codes/ipy/go/go4go/')))\n",
    "    \n",
    "patterns,pgames=PatternSearchCorners(corners,['W[cd]', 'B[ed]', 'W[hd]'],mygames[:3])"
   ]
  },
  {
   "cell_type": "code",
   "execution_count": 230,
   "metadata": {
    "collapsed": false
   },
   "outputs": [
    {
     "data": {
      "text/plain": [
       "48689"
      ]
     },
     "execution_count": 230,
     "metadata": {},
     "output_type": "execute_result"
    }
   ],
   "source": [
    "len(games)"
   ]
  },
  {
   "cell_type": "code",
   "execution_count": 254,
   "metadata": {
    "collapsed": false
   },
   "outputs": [
    {
     "name": "stdout",
     "output_type": "stream",
     "text": [
      "760 760\n"
     ]
    }
   ],
   "source": [
    "patterns,mygames=PatternSearch(['W[dd]', 'B[fc]', 'W[cf]','B[db]','W[gc]'],games,path='/Users/nborggren/Codes/ipy/go/go4go/')\n",
    "print len(patterns),len(mygames)\n",
    "n=len(patterns)/300\n",
    "for i in range(n+1):\n",
    "    WritePatterns(patterns[i*300:min([len(patterns),(i+1)*300])],mygames[i*300:min([len(patterns),(i+1)*300])],name='hlakeimaslideattach_'+str(i),path='./outputs/pros/')\n",
    "    "
   ]
  },
  {
   "cell_type": "code",
   "execution_count": 4,
   "metadata": {
    "collapsed": false
   },
   "outputs": [
    {
     "name": "stdout",
     "output_type": "stream",
     "text": [
      "678 678\n"
     ]
    }
   ],
   "source": [
    "patterns,mygames=PatternSearch(['B[ed]'],games,path='/Users/nborggren/Codes/ipy/go/go4go/')\n",
    "print len(patterns),len(mygames)\n",
    "n=len(patterns)/300\n",
    "for i in range(n+1):\n",
    "    WritePatterns(patterns[i*300:min([len(patterns),(i+1)*300])],mygames[i*300:min([len(patterns),(i+1)*300])],name='5-4_'+str(i),path='./outputs/pros/')\n",
    "    "
   ]
  },
  {
   "cell_type": "code",
   "execution_count": 9,
   "metadata": {
    "collapsed": false
   },
   "outputs": [
    {
     "data": {
      "text/plain": [
       "['B[ge]',\n",
       " 'B[eg]',\n",
       " 'B[hc]',\n",
       " 'W[jb]',\n",
       " 'W[ch]',\n",
       " 'B[hd]',\n",
       " 'W[ij]',\n",
       " 'B[ii]',\n",
       " 'B[cg]',\n",
       " 'B[ci]',\n",
       " 'W[hj]',\n",
       " 'B[je]',\n",
       " 'W[id]',\n",
       " 'W[jj]',\n",
       " 'B[dh]',\n",
       " 'W[gj]',\n",
       " 'W[hc]',\n",
       " 'W[ei]',\n",
       " 'B[jf]',\n",
       " 'B[ih]',\n",
       " 'W[ji]',\n",
       " 'B[gj]',\n",
       " 'B[gi]',\n",
       " 'W[jg]',\n",
       " 'W[gi]',\n",
       " 'B[id]',\n",
       " 'B[jj]',\n",
       " 'B[hj]',\n",
       " 'B[ej]',\n",
       " 'W[cg]',\n",
       " 'B[jh]',\n",
       " 'W[je]',\n",
       " 'B[ic]',\n",
       " 'B[ji]',\n",
       " 'W[di]',\n",
       " 'W[jd]',\n",
       " 'W[dj]',\n",
       " 'W[ci]',\n",
       " 'B[di]',\n",
       " 'B[dj]',\n",
       " 'B[jd]',\n",
       " 'W[cj]',\n",
       " 'W[ce]',\n",
       " 'B[jc]',\n",
       " 'B[gc]',\n",
       " 'B[cj]',\n",
       " 'W[cc]',\n",
       " 'W[jc]',\n",
       " 'W[gc]',\n",
       " 'B[ce]',\n",
       " 'B[cc]',\n",
       " 'W[cd]',\n",
       " 'B[cd]']"
      ]
     },
     "execution_count": 9,
     "metadata": {},
     "output_type": "execute_result"
    }
   ],
   "source": [
    "sorted(list(smoves),key=lambda x: cmoves.count(x))"
   ]
  },
  {
   "cell_type": "code",
   "execution_count": 5,
   "metadata": {
    "collapsed": false
   },
   "outputs": [
    {
     "name": "stdout",
     "output_type": "stream",
     "text": [
      "B[gc] 12\n",
      "W[gi] 2\n",
      "W[jd] 5\n",
      "B[jh] 3\n",
      "B[dj] 7\n",
      "B[ge] 1\n",
      "B[eg] 1\n",
      "B[hc] 1\n",
      "B[id] 2\n",
      "W[jb] 1\n",
      "B[jj] 2\n",
      "W[ch] 1\n",
      "B[hd] 1\n",
      "W[cj] 9\n",
      "B[hj] 2\n",
      "W[ij] 1\n",
      "B[ii] 1\n",
      "B[jc] 11\n",
      "B[cc] 50\n",
      "W[dj] 5\n",
      "B[cg] 1\n",
      "B[ci] 1\n",
      "W[hj] 1\n",
      "B[je] 1\n",
      "W[id] 1\n",
      "B[di] 6\n",
      "B[ce] 30\n",
      "W[cd] 152\n",
      "W[jj] 1\n",
      "W[cc] 18\n",
      "W[jc] 19\n",
      "B[ji] 4\n",
      "W[je] 3\n",
      "B[dh] 1\n",
      "W[gj] 1\n",
      "W[hc] 1\n",
      "B[ic] 3\n",
      "W[ei] 1\n",
      "W[ci] 5\n",
      "W[di] 4\n",
      "W[gc] 28\n",
      "B[jf] 1\n",
      "B[ej] 2\n",
      "B[ih] 1\n",
      "B[cd] 237\n",
      "W[ce] 10\n",
      "W[ji] 1\n",
      "B[gj] 1\n",
      "B[gi] 1\n",
      "B[cj] 14\n",
      "B[jd] 7\n",
      "W[cg] 2\n",
      "W[jg] 1\n"
     ]
    }
   ],
   "source": [
    "cmoves=[i[1] for i in patterns]\n",
    "smoves=set(cmoves)\n",
    "for i in smoves:\n",
    "    print i,cmoves.count(i)\n"
   ]
  },
  {
   "cell_type": "code",
   "execution_count": 257,
   "metadata": {
    "collapsed": false
   },
   "outputs": [
    {
     "name": "stdout",
     "output_type": "stream",
     "text": [
      "375 375\n"
     ]
    }
   ],
   "source": [
    "patterns,mygames=PatternSearch(['B[dd]', 'B[fc]','B[ce]'],games,path='/Users/nborggren/Codes/ipy/go/go4go/')\n",
    "print len(patterns),len(mygames)\n",
    "n=len(patterns)/300\n",
    "for i in range(n+1):\n",
    "    WritePatterns(patterns[i*300:min([len(patterns),(i+1)*300])],mygames[i*300:min([len(patterns),(i+1)*300])],name='hoshienclosure_'+str(i),path='./outputs/pros/')\n",
    "    "
   ]
  },
  {
   "cell_type": "code",
   "execution_count": 244,
   "metadata": {
    "collapsed": false
   },
   "outputs": [],
   "source": [
    "n=len(patterns)/300\n",
    "for i in range(n+1):\n",
    "    WritePatterns(patterns[i*300:min([len(patterns),(i+1)*300])],mygames[i*300:min([len(patterns),(i+1)*300])],name='kla1l_'+str(i),path='./outputs/pros/')\n",
    "    "
   ]
  },
  {
   "cell_type": "code",
   "execution_count": 165,
   "metadata": {
    "collapsed": false
   },
   "outputs": [
    {
     "name": "stdout",
     "output_type": "stream",
     "text": [
      "5 5\n",
      "80 80\n",
      "14 14\n",
      "45 45\n",
      "4 4\n",
      "142 142\n"
     ]
    }
   ],
   "source": [
    "patterns,mygames=PatternSearch(['W[cd]', 'B[ec]', 'W[gd]'],games,path='./GoDat/KGS_logicg8/')\n",
    "print len(patterns),len(mygames)\n",
    "WritePatterns(patterns,mygames,name='kla1h',path='./outputs/logicg8/')\n",
    "\n",
    "patterns,mygames=PatternSearch(['W[cd]', 'B[ec]', 'W[gc]'],games,path='./GoDat/KGS_logicg8/')\n",
    "print len(patterns),len(mygames)\n",
    "WritePatterns(patterns,mygames,name='kla1l',path='./outputs/logicg8/')\n",
    "\n",
    "patterns,mygames=PatternSearch(['W[cd]', 'B[ec]', 'W[hd]'],games,path='./GoDat/KGS_logicg8/')\n",
    "print len(patterns),len(mygames)\n",
    "WritePatterns(patterns,mygames,name='kla2h',path='./outputs/logicg8/')\n",
    "\n",
    "patterns,mygames=PatternSearch(['W[cd]', 'B[ec]', 'W[hc]'],games,path='./GoDat/KGS_logicg8/')\n",
    "print len(patterns),len(mygames)\n",
    "WritePatterns(patterns,mygames,name='kla2l',path='./outputs/logicg8/')\n",
    "\n",
    "patterns,mygames=PatternSearch(['W[cd]', 'B[ec]', 'W[id]'],games,path='./GoDat/KGS_logicg8/')\n",
    "print len(patterns),len(mygames)\n",
    "WritePatterns(patterns,mygames,name='kla3h',path='./outputs/logicg8/')\n",
    "\n",
    "patterns,mygames=PatternSearch(['W[cd]', 'B[ec]', 'W[ic]'],games,path='./GoDat/KGS_logicg8/')\n",
    "print len(patterns),len(mygames)\n",
    "WritePatterns(patterns,mygames,name='kla3l',path='./outputs/logicg8/')\n"
   ]
  },
  {
   "cell_type": "code",
   "execution_count": 132,
   "metadata": {
    "collapsed": false
   },
   "outputs": [
    {
     "name": "stdout",
     "output_type": "stream",
     "text": [
      "1 1\n",
      "8 8\n",
      "2 2\n",
      "0 0\n",
      "35 35\n",
      "444 444\n",
      "183 183\n",
      "79 79\n"
     ]
    }
   ],
   "source": [
    "patterns,mygames=PatternSearch(['W[dd]', 'B[fd]', 'W[hd]'],games)\n",
    "print len(patterns),len(mygames)\n",
    "WritePatterns(patterns,mygames,name='hha1h')\n",
    "\n",
    "patterns,mygames=PatternSearch(['W[dd]', 'B[fd]', 'W[hc]'],games)\n",
    "print len(patterns),len(mygames)\n",
    "WritePatterns(patterns,mygames,name='hha1l')\n",
    "\n",
    "patterns,mygames=PatternSearch(['W[dd]', 'B[fd]', 'W[id]'],games)\n",
    "print len(patterns),len(mygames)\n",
    "WritePatterns(patterns,mygames,name='hha2h')\n",
    "\n",
    "patterns,mygames=PatternSearch(['W[dd]', 'B[fd]', 'W[ic]'],games)\n",
    "print len(patterns),len(mygames)\n",
    "WritePatterns(patterns,mygames,name='hha2l')\n",
    "\n",
    "patterns,mygames=PatternSearch(['W[dd]', 'B[fc]', 'W[hd]'],games)\n",
    "print len(patterns),len(mygames)\n",
    "WritePatterns(patterns,mygames,name='hla1h')\n",
    "\n",
    "patterns,mygames=PatternSearch(['W[dd]', 'B[fc]', 'W[hc]'],games)\n",
    "print len(patterns),len(mygames)\n",
    "WritePatterns(patterns,mygames,name='hla1l')\n",
    "\n",
    "patterns,mygames=PatternSearch(['W[dd]', 'B[fc]', 'W[id]'],games)\n",
    "print len(patterns),len(mygames)\n",
    "WritePatterns(patterns,mygames,name='hla2h')\n",
    "\n",
    "patterns,mygames=PatternSearch(['W[dd]', 'B[fc]', 'W[ic]'],games)\n",
    "print len(patterns),len(mygames)\n",
    "WritePatterns(patterns,mygames,name='hla2l')\n",
    "\n"
   ]
  },
  {
   "cell_type": "code",
   "execution_count": 166,
   "metadata": {
    "collapsed": false
   },
   "outputs": [
    {
     "name": "stdout",
     "output_type": "stream",
     "text": [
      "4 4\n",
      "2 2\n",
      "0 0\n",
      "0 0\n",
      "14 14\n",
      "350 350\n",
      "43 43\n",
      "29 29\n"
     ]
    }
   ],
   "source": [
    "patterns,mygames=PatternSearch(['W[dd]', 'B[fd]', 'W[hd]'],games,path='./GoDat/KGS_logicg8/')\n",
    "print len(patterns),len(mygames)\n",
    "WritePatterns(patterns,mygames,name='hha1h',path='./outputs/logicg8/')\n",
    "\n",
    "patterns,mygames=PatternSearch(['W[dd]', 'B[fd]', 'W[hc]'],games,path='./GoDat/KGS_logicg8/')\n",
    "print len(patterns),len(mygames)\n",
    "WritePatterns(patterns,mygames,name='hha1l',path='./outputs/logicg8/')\n",
    "\n",
    "patterns,mygames=PatternSearch(['W[dd]', 'B[fd]', 'W[id]'],games,path='./GoDat/KGS_logicg8/')\n",
    "print len(patterns),len(mygames)\n",
    "WritePatterns(patterns,mygames,name='hha2h',path='./outputs/logicg8/')\n",
    "\n",
    "patterns,mygames=PatternSearch(['W[dd]', 'B[fd]', 'W[ic]'],games,path='./GoDat/KGS_logicg8/')\n",
    "print len(patterns),len(mygames)\n",
    "WritePatterns(patterns,mygames,name='hha2l',path='./outputs/logicg8/')\n",
    "\n",
    "patterns,mygames=PatternSearch(['W[dd]', 'B[fc]', 'W[hd]'],games,path='./GoDat/KGS_logicg8/')\n",
    "print len(patterns),len(mygames)\n",
    "WritePatterns(patterns,mygames,name='hla1h',path='./outputs/logicg8/')\n",
    "\n",
    "patterns,mygames=PatternSearch(['W[dd]', 'B[fc]', 'W[hc]'],games,path='./GoDat/KGS_logicg8/')\n",
    "print len(patterns),len(mygames)\n",
    "WritePatterns(patterns,mygames,name='hla1l',path='./outputs/logicg8/')\n",
    "\n",
    "patterns,mygames=PatternSearch(['W[dd]', 'B[fc]', 'W[id]'],games,path='./GoDat/KGS_logicg8/')\n",
    "print len(patterns),len(mygames)\n",
    "WritePatterns(patterns,mygames,name='hla2h',path='./outputs/logicg8/')\n",
    "\n",
    "patterns,mygames=PatternSearch(['W[dd]', 'B[fc]', 'W[ic]'],games,path='./GoDat/KGS_logicg8/')\n",
    "print len(patterns),len(mygames)\n",
    "WritePatterns(patterns,mygames,name='hla2l',path='./outputs/logicg8/')\n",
    "\n"
   ]
  },
  {
   "cell_type": "code",
   "execution_count": 124,
   "metadata": {
    "collapsed": false
   },
   "outputs": [],
   "source": [
    "len(patterns)\n",
    "WritePatterns(patterns,mygames,name='onespacehigh')"
   ]
  },
  {
   "cell_type": "code",
   "execution_count": 41,
   "metadata": {
    "collapsed": false
   },
   "outputs": [
    {
     "name": "stdout",
     "output_type": "stream",
     "text": [
      "2016/2/22/takyan-Bogoliubon.sgf\n",
      "2016/2/22/ibara-Bogoliubon.sgf\n",
      "2016/1/15/Bogoliubon-AyaBot05.sgf\n",
      "2016/1/11/AyaBot6-Bogoliubon.sgf\n",
      "2016/1/1/AyaMC2-Bogoliubon.sgf\n",
      "2015/7/21/Bogoliubon-AyaBot02-2.sgf\n",
      "2015/12/20/darkfores3-Bogoliubon.sgf\n",
      "2015/12/19/MCark2-Bogoliubon.sgf\n",
      "2015/12/17/Bogoliubon-AyaBot05.sgf\n",
      "2014/8/17/mobi-Bogoliubon.sgf\n",
      "2014/5/8/Bogoliubon-GoraUralsk.sgf\n",
      "2014/5/25/Nilpferd-Bogoliubon.sgf\n",
      "2014/4/22/matta-Bogoliubon.sgf\n",
      "2014/3/8/Archaic-Bogoliubon.sgf\n",
      "2014/2/2/mausakim-Bogoliubon.sgf\n",
      "2013/9/21/jco-Bogoliubon.sgf\n",
      "2013/9/15/boa-Bogoliubon.sgf\n",
      "2013/9/13/Ubiquity-Bogoliubon.sgf\n",
      "2013/9/13/Bogoliubon-fcwr.sgf\n",
      "2013/9/12/AyaBot04-Bogoliubon.sgf\n",
      "2013/8/23/clee-Bogoliubon.sgf\n",
      "2013/8/10/Request-Bogoliubon.sgf\n",
      "2013/8/10/Bogoliubon-6.sgf\n",
      "2013/7/6/Bogoliubon-facedi.sgf\n",
      "2013/6/15/asa14-Bogoliubon.sgf\n",
      "2013/3/5/arnoblitz-Bogoliubon.sgf\n",
      "2013/12/6/Bogoliubon-peter2.sgf\n",
      "2013/12/25/Bogoliubon-Nigeteiru.sgf\n",
      "2013/12/15/Prezli-Bogoliubon.sgf\n",
      "2013/11/6/LDD99-Bogoliubon.sgf\n",
      "2013/11/3/paulfac-Bogoliubon.sgf\n",
      "2013/11/15/stoneshape-Bogoliubon.sgf\n",
      "2012/4/24/Gaarg-Bogoliubon.sgf\n",
      "2012/4/24/BAHbKA-Bogoliubon.sgf\n",
      "2012/3/31/Bogoliubon-jrss.sgf\n",
      "2012/3/25/matta-Bogoliubon.sgf\n",
      "2012/3/12/mezon-Bogoliubon.sgf\n",
      "2012/2/23/ty0430-Bogoliubon.sgf\n",
      "2012/2/23/mausakim-Bogoliubon.sgf\n",
      "2012/1/9/kougen-Bogoliubon.sgf\n",
      "2011/9/21/winners-Bogoliubon.sgf\n",
      "2011/8/5/menta-Bogoliubon.sgf\n",
      "2011/8/4/Bogoliubon-samara.sgf\n",
      "2011/8/3/fight-Bogoliubon.sgf\n",
      "2011/8/17/fadeout-Bogoliubon.sgf\n",
      "2011/7/5/inagokiti-Bogoliubon.sgf\n",
      "2011/7/3/Bogoliubon-Elhy.sgf\n",
      "2011/7/3/Bogoliubon-3.sgf\n",
      "2011/7/1/Bogoliubon-rmc.sgf\n",
      "2011/6/2/yotu23321-Bogoliubon.sgf\n",
      "2011/6/2/Bogoliubon-Ephidel.sgf\n",
      "2011/6/2/Bogoliubon-3.sgf\n",
      "2011/6/2/Bogoliubon-2.sgf\n",
      "2011/6/19/Saradan-Bogoliubon.sgf\n",
      "2011/6/19/Bogoliubon-2.sgf\n",
      "2011/6/1/icyStone-Bogoliubon.sgf\n",
      "2011/5/17/andres-Bogoliubon.sgf\n",
      "2011/3/10/tunasalad-Bogoliubon.sgf\n",
      "2011/12/9/westmont-Bogoliubon.sgf\n",
      "2011/12/9/wa2010-Bogoliubon.sgf\n",
      "2011/12/9/legende-Bogoliubon.sgf\n",
      "2011/12/8/Bogoliubon-CygnusXI.sgf\n",
      "2011/12/6/tellone-Bogoliubon.sgf\n",
      "2011/12/6/mrwa-Bogoliubon.sgf\n",
      "2011/12/6/jrss-Bogoliubon.sgf\n",
      "2011/12/6/cat99-Bogoliubon.sgf\n",
      "2011/12/20/Bogoliubon-mosi.sgf\n",
      "2011/12/2/don-Bogoliubon.sgf\n",
      "2011/12/2/Bogoliubon-krejnn.sgf\n",
      "2011/12/1/kioo-Bogoliubon.sgf\n",
      "2011/12/1/kioo-Bogoliubon.sgf\n",
      "2011/11/30/phlgo2011-Bogoliubon.sgf\n",
      "2011/11/28/dch-Bogoliubon.sgf\n",
      "2011/11/28/dch-Bogoliubon.sgf\n",
      "2011/11/28/Bogoliubon-amiro.sgf\n",
      "2011/11/28/Bogoliubon-amiro.sgf\n",
      "2011/11/28/Bogoliubon-Morbo.sgf\n",
      "2011/11/28/Bogoliubon-Dave.sgf\n",
      "2011/11/26/gjyf-Bogoliubon.sgf\n",
      "2011/11/25/Oban-Bogoliubon.sgf\n",
      "2011/11/1/wnabego-Bogoliubon.sgf\n",
      "2011/10/21/ssmfung-Bogoliubon-2.sgf\n",
      "2011/10/21/gofor-Bogoliubon.sgf\n",
      "2011/10/21/emptysky-Bogoliubon.sgf\n",
      "2011/10/21/Bogoliubon-Xiangqi.sgf\n",
      "2011/10/19/arrow-Bogoliubon.sgf\n",
      "2010/2/22/qoiqpwqr-Bogoliubon.sgf\n",
      "2009/9/29/Bogoliubon-mun.sgf\n",
      "2009/9/29/Bogoliubon-gotoukuni.sgf\n",
      "2009/8/10/Bogoliubon-logicg8.sgf\n",
      "2009/7/4/dohe-Bogoliubon.sgf\n",
      "2009/7/17/Bogoliubon-Renegade.sgf\n",
      "2009/6/29/Bogoliubon-3.sgf\n",
      "2009/6/26/Bogoliubon-MrSmile.sgf\n",
      "2009/6/24/geronimo-Bogoliubon.sgf\n",
      "2009/6/22/Bogoliubon-2.sgf\n",
      "2009/6/20/PowerTower-Bogoliubon.sgf\n",
      "2009/6/2/Bogoliubon-notowuri.sgf\n",
      "2009/6/17/larryw-Bogoliubon.sgf\n",
      "2009/6/17/Bogoliubon-2.sgf\n",
      "2009/6/10/Lynner-Bogoliubon.sgf\n",
      "2009/5/26/larryw-Bogoliubon.sgf\n",
      "2009/5/25/TWahl-Bogoliubon.sgf\n",
      "2009/5/16/go4life-Bogoliubon.sgf\n",
      "2009/5/10/Bogoliubon-juh.sgf\n",
      "2009/5/1/Reverb-Bogoliubon.sgf\n",
      "2009/4/18/kakuk-Bogoliubon.sgf\n",
      "2009/4/18/Bogoliubon-3.sgf\n",
      "2009/3/9/pers-Bogoliubon.sgf\n",
      "2009/3/24/fredley-Bogoliubon.sgf\n",
      "2009/3/19/savavite-Bogoliubon.sgf\n",
      "2009/3/19/savavite-Bogoliubon.sgf\n",
      "2009/2/5/Bogoliubon-Fukuchan.sgf\n",
      "2009/2/4/Romance-Bogoliubon.sgf\n",
      "2009/2/21/Whitedog-Bogoliubon.sgf\n",
      "2009/12/8/mnbvcxzasd-Bogoliubon.sgf\n",
      "2009/12/3/Bogoliubon-Renegade.sgf\n",
      "2009/12/3/Bogoliubon-Renegade.sgf\n",
      "2009/12/19/Bogoliubon-cocol.sgf\n",
      "2009/12/15/Bogoliubon-miraorange.sgf\n",
      "2009/11/27/uha-Bogoliubon.sgf\n",
      "2009/11/27/uha-Bogoliubon.sgf\n",
      "2009/11/22/Bogoliubon-Yanwangye.sgf\n",
      "2009/11/20/Bogoliubon-Ummagumma.sgf\n",
      "2009/11/2/cesar-Bogoliubon.sgf\n",
      "2009/10/27/Bogoliubon-ccc.sgf\n",
      "2009/1/31/josette-Bogoliubon.sgf\n",
      "2009/1/24/Masumi-Bogoliubon.sgf\n",
      "2009/1/16/Bogoliubon-HiFi.sgf\n",
      "2009/1/16/Bogoliubon-5.sgf\n",
      "2008/9/9/Bogoliubon-aphp.sgf\n",
      "2008/9/13/Imba-Bogoliubon.sgf\n",
      "2008/9/13/Bogoliubon-8.sgf\n",
      "2008/9/10/ys52521-Bogoliubon.sgf\n",
      "2008/9/10/Bogoliubon-okok.sgf\n",
      "2008/8/8/Bogoliubon-Oame.sgf\n",
      "2008/8/7/wanio-Bogoliubon.sgf\n",
      "2008/8/7/Bogoliubon-2.sgf\n",
      "2008/8/25/Bogoliubon-wrathful.sgf\n",
      "2008/7/20/ccc-Bogoliubon.sgf\n",
      "2008/6/9/Bogoliubon-setsuna1.sgf\n",
      "2008/5/31/pmcguire67-Bogoliubon.sgf\n",
      "2008/5/30/sergiop-Bogoliubon.sgf\n",
      "2008/4/21/Bogoliubon-VieTSon.sgf\n",
      "2008/4/15/ConTenGo-Bogoliubon.sgf\n",
      "2008/3/7/holly-Zwom.sgf\n",
      "2008/3/7/holly-Zwom.sgf\n",
      "2008/3/26/lupis-Bogoliubon.sgf\n",
      "2008/3/23/nt6251-Bogoliubon.sgf\n",
      "2008/3/2/Zwom.sgf\n",
      "2008/12/30/iwasiya-Bogoliubon.sgf\n",
      "2008/12/27/s3d-Bogoliubon.sgf\n",
      "2008/12/23/Bogoliubon-2.sgf\n",
      "2008/12/22/donclaboni-Bogoliubon.sgf\n",
      "2008/12/15/Bogoliubon-anduril.sgf\n",
      "2008/12/14/g12345-Bogoliubon.sgf\n",
      "2008/11/6/habinger-Bogoliubon.sgf\n",
      "2008/11/6/Bogoliubon-2.sgf\n",
      "2008/11/17/fire1-Bogoliubon.sgf\n",
      "2008/11/16/Bogoliubon-jorel.sgf\n",
      "2008/10/9/tuya-Bogoliubon.sgf\n",
      "2008/10/8/Redjoker-Bogoliubon.sgf\n",
      "2008/10/24/urumpel-Bogoliubon.sgf\n",
      "2008/10/24/johag-Bogoliubon.sgf\n",
      "2008/10/1/tomrotc-Bogoliubon.sgf\n",
      "2008/10/1/Bogoliubon-fruitdrops.sgf\n",
      "2008/10/1/Bogoliubon-Nikoolas.sgf\n",
      "2007/9/2/knecht06-Zwom.sgf\n",
      "2007/9/2/Zwom.sgf\n",
      "2007/7/24/Bogoliubon-pismaniye.sgf\n",
      "2007/7/17/Zwom-fearless.sgf\n",
      "2007/5/6/sanduo-Bogoliubon.sgf\n",
      "2007/5/18/Zwom.sgf\n",
      "2007/5/13/Zwom-snowmen.sgf\n",
      "2007/4/22/kram-Zwom.sgf\n",
      "2007/4/22/abcde-Bogoliubon.sgf\n",
      "2007/4/14/Zwom-SUPERBALL.sgf\n",
      "2007/4/10/Zwom.sgf\n",
      "2007/4/10/Joven-Zwom.sgf\n",
      "2007/3/6/Calyx-Bogoliubon.sgf\n",
      "2007/3/24/Zwom-knecht06.sgf\n",
      "2007/3/15/Bogoliubon-gotam.sgf\n",
      "2007/2/28/gomania-Bogoliubon.sgf\n",
      "2007/12/17/GokuWachi-Bogoliubon.sgf\n",
      "2007/11/8/changwanli-Bogoliubon.sgf\n",
      "2007/11/4/rinku-Bogoliubon.sgf\n",
      "2007/10/8/vwl-Bogoliubon.sgf\n",
      "2007/1/8/toxxicu-Bogoliubon-2.sgf\n",
      "2007/1/31/gin-Bogoliubon.sgf\n",
      "2007/1/11/feelfe-Bogoliubon.sgf\n",
      "2007/1/1/Zwom-joky.sgf\n",
      "2006/9/2/Remi69-Zwom.sgf\n",
      "2006/9/11/Zwom-kobay.sgf\n",
      "2006/8/28/Zwom.sgf\n",
      "2006/8/28/Zwom-ak2.sgf\n",
      "2006/8/24/Zwom.sgf\n",
      "2006/8/20/sarada-Zwom.sgf\n",
      "2006/8/14/minority-Zwom.sgf\n",
      "2006/7/9/Zwom-2.sgf\n",
      "2006/7/9/GenTsoChkn-Zwom.sgf\n",
      "2006/7/7/Zwom-nicat.sgf\n",
      "2006/7/20/Zwom.sgf\n",
      "2006/7/17/Zwom-al2.sgf\n",
      "2006/6/26/neas-Zwom.sgf\n",
      "2006/6/24/Greenfuse-Zwom.sgf\n",
      "2006/6/22/toxxicu-Zwom.sgf\n",
      "2006/6/13/Zwom-Ploum.sgf\n",
      "2006/5/12/tomm-Zwom.sgf\n",
      "2006/4/19/haos-Zwom.sgf\n",
      "2006/4/1/toyuta-Zwom.sgf\n",
      "2006/3/19/GenTsoChkn-Zwom.sgf\n",
      "2006/2/25/alkala-Zwom.sgf\n",
      "2006/2/11/xyz-pdirac.sgf\n",
      "2006/2/10/roger113-Zwom.sgf\n",
      "2006/2/10/roger113-Zwom.sgf\n",
      "2006/12/9/Zwom-static8358.sgf\n",
      "2006/12/9/Zwom-2.sgf\n",
      "2006/12/29/Bogoliubon-MSRL922.sgf\n",
      "2006/12/19/ja72-Bogoliubon.sgf\n",
      "2006/11/4/KlausB-Zwom.sgf\n",
      "2006/11/2/stoneshape-Bogoliubon.sgf\n",
      "2006/10/8/Bogoliubon-yumedama.sgf\n",
      "2006/10/20/Whatthe-Bogoliubon.sgf\n",
      "2006/10/17/Bogoliubon-2.sgf\n",
      "2006/10/11/zdli2002-Bogoliubon.sgf\n",
      "2005/9/13/Zwom-Fernando.sgf\n",
      "2005/9/10/Gofat-Zwom.sgf\n",
      "2005/7/22/Zwom-2.sgf\n",
      "2005/6/17/pdirac.sgf\n",
      "2005/6/17/Umag-pdirac.sgf\n",
      "2005/5/3/Zwom.sgf\n",
      "2005/5/28/Zwom-ronsuke3.sgf\n",
      "2005/12/10/Zwom-3.sgf\n",
      "2005/10/26/minotaur-Zwom.sgf\n"
     ]
    }
   ],
   "source": [
    "patterns=[]\n",
    "mygames=[]\n",
    "for i in games:\n",
    "    try:\n",
    "        corners=GetCorners(ReadGame(i.replace('.sgf','_clean.sgf')))\n",
    "    except IndexError:\n",
    "        continue\n",
    "    for j in corners:\n",
    "        a=GetSyms(j,src='list')\n",
    "        for k in a:\n",
    "            if k[0:3]==['W[cd]', 'B[ed]', 'W[gc]'] or k[0:3]==['B[cd]', 'W[ed]', 'B[gc]']:\n",
    "                print i\n",
    "                mygames.append(i)\n",
    "                patterns.append(k)"
   ]
  },
  {
   "cell_type": "code",
   "execution_count": 38,
   "metadata": {
    "collapsed": false
   },
   "outputs": [
    {
     "name": "stdout",
     "output_type": "stream",
     "text": [
      "['W[cd]', 'B[ed]', 'W[gc]', 'B[cc]', 'W[dc]', 'B[dd]', 'W[ec]', 'B[fc]', 'W[fd]', 'B[fb]', 'W[cb]', 'B[bc]', 'W[eb]', 'B[gb]', 'W[ce]', 'B[ea]', 'W[db]', 'B[df]', 'W[bb]', 'B[hc]', 'W[de]', 'B[ee]', 'W[ef]', 'B[fe]', 'W[ff]', 'B[ge]', 'W[dg]', 'B[gf]', 'B[ci]', 'B[bh]', 'B[cf]', 'W[bd]', 'B[be]', 'W[ac]', 'B[cg]']\n",
      "['W[cd]', 'B[ed]', 'W[gc]', 'B[cc]', 'W[cg]', 'B[dd]', 'W[bd]', 'B[eb]', 'W[jc]', 'B[bc]', 'B[ci]', 'B[eh]', 'W[ef]', 'W[cj]', 'B[ch]', 'W[dj]', 'B[ej]', 'W[eg]', 'B[id]', 'W[ic]', 'B[jd]', 'B[fe]', 'W[fh]', 'B[ei]', 'W[gf]', 'B[hd]', 'W[gd]', 'B[ge]', 'W[hh]', 'W[hf]', 'B[je]', 'W[gj]', 'W[bg]', 'B[hj]', 'B[ij]', 'B[gi]', 'W[fi]', 'B[fg]', 'W[gh]', 'B[ff]', 'W[bi]', 'B[bh]', 'W[ah]', 'B[bf]', 'W[cf]', 'B[ce]', 'W[be]', 'B[af]', 'W[de])']\n"
     ]
    }
   ],
   "source": [
    "for i in patterns:print i"
   ]
  },
  {
   "cell_type": "code",
   "execution_count": 127,
   "metadata": {
    "collapsed": false
   },
   "outputs": [],
   "source": [
    "\n",
    "def WritePatterns(patterns,mygames,path='./outputs/',name='test'):\n",
    "    header=\"(;GM[1]FF[4]CA[UTF-8]ST[2]SZ[19]\"\n",
    "    for i,game in zip(patterns,mygames):\n",
    "        if len(i)==0:continue\n",
    "        tmp='(;C['+game+']'\n",
    "        for j in i[:-1]:\n",
    "            j=j.replace(')','')\n",
    "            j=j.replace('(','')\n",
    "            tmp+=j+';'\n",
    "        i[-1]=i[-1].replace('(','')\n",
    "        tmp+=i[-1].replace(')','')   \n",
    "        tmp+=')\\n'\n",
    "        header+=tmp\n",
    "    f=open(path+name+'.sgf','w')\n",
    "    f.write(header+')')\n",
    "    f.close()"
   ]
  },
  {
   "cell_type": "code",
   "execution_count": 84,
   "metadata": {
    "collapsed": false
   },
   "outputs": [
    {
     "data": {
      "text/plain": [
       "234"
      ]
     },
     "execution_count": 84,
     "metadata": {},
     "output_type": "execute_result"
    }
   ],
   "source": [
    "len(patterns)"
   ]
  },
  {
   "cell_type": "code",
   "execution_count": 128,
   "metadata": {
    "collapsed": false
   },
   "outputs": [],
   "source": [
    "WritePatterns(patterns,mygames)"
   ]
  },
  {
   "cell_type": "code",
   "execution_count": 168,
   "metadata": {
    "collapsed": false
   },
   "outputs": [
    {
     "name": "stdout",
     "output_type": "stream",
     "text": [
      "['B[dd]', 'W[fc]', 'B[ic]', 'W[cc]', 'B[dc]', 'W[cd]', 'B[de]', 'W[db]', 'B[eb]', 'W[cb]', 'B[ec]', 'W[cf]', 'B[eg]', 'W[cg]', 'B[ej]', 'B[hi]', 'W[gj]', 'B[gi]', 'W[fj]', 'B[fi]', 'W[di]', 'B[ei]', 'W[dj]', 'W[jj]', 'W[ij]', 'B[jg]', 'W[jb]', 'B[ib]', 'W[jc]', 'W[id]', 'B[je]', 'B[jf]', 'W[jd]', 'B[gb]', 'W[hc]', 'B[hb]', 'W[fe]', 'B[ef]', 'W[gf]', 'B[gc]', 'W[gd]', 'B[hd]', 'W[he]', 'B[ie]', 'W[hg]', 'B[hc]', 'W[fb]', 'B[fa]', 'W[fd]', 'B[ga]', 'W[ia]', 'B[ih])']\n"
     ]
    }
   ],
   "source": [
    "print patterns[3]"
   ]
  },
  {
   "cell_type": "code",
   "execution_count": null,
   "metadata": {
    "collapsed": true
   },
   "outputs": [],
   "source": []
  }
 ],
 "metadata": {
  "kernelspec": {
   "display_name": "Python 2",
   "language": "python",
   "name": "python2"
  },
  "language_info": {
   "codemirror_mode": {
    "name": "ipython",
    "version": 2
   },
   "file_extension": ".py",
   "mimetype": "text/x-python",
   "name": "python",
   "nbconvert_exporter": "python",
   "pygments_lexer": "ipython2",
   "version": "2.7.11"
  }
 },
 "nbformat": 4,
 "nbformat_minor": 0
}
