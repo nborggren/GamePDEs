{
 "cells": [
  {
   "cell_type": "code",
   "execution_count": 141,
   "metadata": {
    "collapsed": false
   },
   "outputs": [
    {
     "name": "stdout",
     "output_type": "stream",
     "text": [
      "5086 7229\n"
     ]
    }
   ],
   "source": [
    "import os\n",
    "\n",
    "def GetMoves(sgf):\n",
    "    tmp=''\n",
    "    for i,j in enumerate(sgf):\n",
    "        if j=='(':\n",
    "            tmp+=GetMoves(sgf[i:])\n",
    "        elif j==')':\n",
    "            tmp+=j\n",
    "            return tmp\n",
    "        else:\n",
    "            tmp+=j\n",
    "    return tmp\n",
    "\n",
    "def ReadGame(game,path='./GoDat/KGS/'):\n",
    "    g=open(path+game)\n",
    "    return g.read()\n",
    "\n",
    "def StripComments(game,path='/Users/nborggren/Codes/GamePDEs/Go/GoDat/KGS/'):\n",
    "    os.system('perl CommentFilter.pl '+path+game+' '+path+game.replace('.sgf','_nocom.sgf'))\n",
    "    \n",
    "def GetKey(sgf,key='PW'):\n",
    "    a=sgf.find(key+'[')\n",
    "    b=sgf[a:].find(']')\n",
    "    return sgf[a+len(key)+1:a+b]  \n",
    "\n",
    "def StripKey(sgf,key='CR'):\n",
    "    while sgf.find(key+'[')>0:\n",
    "        tmp=GetKey(sgf,key=key)\n",
    "        sgf=sgf.replace(key+'['+tmp+']','')\n",
    "    return sgf\n",
    "\n",
    "def CleanSGF(game,path='/Users/nborggren/Codes/GamePDEs/Go/GoDat/KGS/'):\n",
    "    StripComments(game)\n",
    "    sgf=ReadGame(game.replace('.sgf','_nocom.sgf'))\n",
    "    sgf=sgf.replace('\\n','')\n",
    "    for i in ['CR','WL','BL','OB','OW','C','RU','KM','TM','OT','PW','PB','WR','BR','DT','PRE','RE']:\n",
    "        sgf=StripKey(sgf,key=i)\n",
    "    g=open(path+game.replace('.sgf','_clean.sgf'),'w')\n",
    "    g.write(sgf)\n",
    "    \n",
    "def GetCorners(sgf):\n",
    "    c1=[]\n",
    "    c2=[]\n",
    "    c3=[]\n",
    "    c4=[]\n",
    "    moves=sgf.split(';')\n",
    "    moves=moves[2:]\n",
    "    locs=[i[2:4] for i in moves]\n",
    "    letters='abcdefghijklmnopqrs'\n",
    "    bletters='srqponmlkjihgfedcba'\n",
    "    sym={}\n",
    "    for i,j in zip(letters,bletters):\n",
    "        sym[i]=j\n",
    "    l,r=letters[0:10],letters[9:]\n",
    "    for i,j in zip(moves,locs):\n",
    "        if j[0] in l and j[1] in l:\n",
    "            c1.append(i)\n",
    "        if j[0] in l and j[1] in r:\n",
    "            tmp=i.replace(j[1],sym[j[1]])\n",
    "            c2.append(tmp)\n",
    "        if j[0] in r and j[1] in r:\n",
    "            tmp=i.replace(j[1],sym[j[1]])\n",
    "            tmp=tmp.replace(j[0],sym[j[0]])\n",
    "            c3.append(tmp)\n",
    "        if j[0] in r and j[1] in l:\n",
    "            tmp=i.replace(j[0],sym[j[0]])\n",
    "            c4.append(tmp)\n",
    "    return [c1,c2,c3,c4]\n",
    "\n",
    "def WriteCorners(corner,path='./GoDat/Corners/',name='test'):\n",
    "    if len(corner)==0:return\n",
    "    header=\"(;GM[1]FF[4]CA[UTF-8]ST[2]\\nSZ[19]\\n;\"\n",
    "    record=header\n",
    "    for i in corner[:-1]:record+=i+';'\n",
    "    record+=corner[-1].replace(')','')+')'\n",
    "    f=open(path+name+'.sgf','w')\n",
    "    f.write(record)\n",
    "    f.close()\n",
    "\n",
    "def GetSyms(sgf,src='notlist'):\n",
    "    c1=[]\n",
    "    c2=[]\n",
    "    c3=[]\n",
    "    c4=[]\n",
    "    c5=[]\n",
    "    c6=[]\n",
    "    c7=[]\n",
    "    c8=[]\n",
    "    if src=='notlist':\n",
    "        moves=sgf.split(';')\n",
    "        moves=moves[2:]\n",
    "    else:\n",
    "        moves=sgf\n",
    "    locs=[i[2:4] for i in moves]\n",
    "    letters='abcdefghijklmnopqrs'\n",
    "    bletters='srqponmlkjihgfedcba'\n",
    "    sym={}\n",
    "    for i,j in zip(letters,bletters):\n",
    "        sym[i]=j\n",
    "    for i,j in zip(moves,locs):\n",
    "        c1.append(i)\n",
    "        tmp=j[0]+sym[j[1]]\n",
    "        c2.append(i.replace(j,tmp))\n",
    "        tmp=sym[j[0]]+sym[j[1]]\n",
    "        c3.append(i.replace(j,tmp))\n",
    "        tmp=sym[j[0]]+j[1]\n",
    "        c4.append(i.replace(j,tmp))\n",
    "        tmp=j[1]+j[0]\n",
    "        c5.append(i.replace(j,tmp))\n",
    "        tmp=j[1]+sym[j[0]]\n",
    "        c6.append(i.replace(j,tmp))\n",
    "        tmp=sym[j[1]]+sym[j[0]]\n",
    "        c7.append(i.replace(j,tmp))\n",
    "        tmp=sym[j[1]]+j[0]\n",
    "        c8.append(i.replace(j,tmp))\n",
    "    return [c1,c2,c3,c4,c5,c6,c7,c8]\n",
    "\n",
    "def PatternSearch(pattern,games):\n",
    "    patterns=[]\n",
    "    mygames=[]\n",
    "    rev = {}\n",
    "    rev['B']='W'\n",
    "    rev['W']='B'\n",
    "    for i in games:\n",
    "        try:\n",
    "            corners=GetCorners(ReadGame(i.replace('.sgf','_clean.sgf')))\n",
    "        except IndexError:\n",
    "            continue\n",
    "        for j in corners:\n",
    "            a=GetSyms(j,src='list')\n",
    "            for k in a:\n",
    "                if k[0:3]==pattern or k[0:3]==[rev[l[0]]+l[1:] for l in pattern]:\n",
    "                    mygames.append(i)\n",
    "                    patterns.append(k)\n",
    "    return patterns,mygames\n",
    "\n",
    "def WritePatterns(patterns,mygames,path='./outputs/',name='test'):\n",
    "    header=\"(;GM[1]FF[4]CA[UTF-8]ST[2]SZ[19]\"\n",
    "    for i,game in zip(patterns,mygames):\n",
    "        if len(i)==0:continue\n",
    "        tmp='(;C['+game+']'\n",
    "        for j in i[:-1]:\n",
    "            j=j.replace(')','')\n",
    "            j=j.replace('(','')\n",
    "            tmp+=j+';'\n",
    "        i[-1]=i[-1].replace('(','')\n",
    "        tmp+=i[-1].replace(')','')   \n",
    "        tmp+=')\\n'\n",
    "        header+=tmp\n",
    "    f=open(path+name+'.sgf','w')\n",
    "    f.write(header+')')\n",
    "    f.close()\n",
    "\n",
    "f=open('./GoDat/KGS/Borggren.games')\n",
    "mygames=f.read().split('\\n')\n",
    "games = [i for i in mygames if i.find('.sgf')>0 and i.find('/Bogoliubon-7.sgf')<0 and i.find('/Bogoliubon-6.sgf')<0 and i.find('/Bogoliubon-3.sgf')<0 and i.find('/Bogoliubon-5.sgf')<0 and i.find('/Bogoliubon-4.sgf')<0 and i.find('/Bogoliubon.sgf')<0 and i.find('/Bogoliubon-2.sgf')<0]\n",
    "myana = [i for i in mygames if i.find('/Bogoliubon.sgf')>0]\n",
    "print len(games),len(mygames)\n",
    "games.reverse()"
   ]
  },
  {
   "cell_type": "code",
   "execution_count": 7,
   "metadata": {
    "collapsed": false
   },
   "outputs": [],
   "source": [
    "sgf=ReadGame(games[0])"
   ]
  },
  {
   "cell_type": "code",
   "execution_count": 31,
   "metadata": {
    "collapsed": true
   },
   "outputs": [],
   "source": [
    "for i in games:StripComments(i)"
   ]
  },
  {
   "cell_type": "code",
   "execution_count": 34,
   "metadata": {
    "collapsed": false
   },
   "outputs": [
    {
     "data": {
      "text/plain": [
       "'2016/2/24/Bogoliubon-tf.sgf'"
      ]
     },
     "execution_count": 34,
     "metadata": {},
     "output_type": "execute_result"
    }
   ],
   "source": [
    "games[0]"
   ]
  },
  {
   "cell_type": "code",
   "execution_count": 139,
   "metadata": {
    "collapsed": true
   },
   "outputs": [],
   "source": [
    "for i in games:CleanSGF(i)"
   ]
  },
  {
   "cell_type": "code",
   "execution_count": 140,
   "metadata": {
    "collapsed": false
   },
   "outputs": [],
   "source": [
    "sgf=ReadGame(games[0].replace('.sgf','_clean.sgf'))"
   ]
  },
  {
   "cell_type": "code",
   "execution_count": 141,
   "metadata": {
    "collapsed": false
   },
   "outputs": [
    {
     "data": {
      "text/plain": [
       "'(;GM[1]FF[4]CA[UTF-8]AP[CGoban:3]ST[2]SZ[19];B[pd];W[dp];B[pp];W[dc];B[de];W[ce];B[dd];W[cd];B[ec];W[cf];B[db];W[cc];B[jc];W[nq];B[kp];W[no];B[pn];W[pr];B[qq];W[kr];B[qk];W[qf];B[qh];W[qc];B[pc];W[qd];B[pe];W[rf];B[og];W[fc];B[ed];W[fb];B[eb];W[df];B[fd];W[ke];B[ld];W[pl];B[ql];W[cn];B[fq];W[eq];B[fp];W[jq];B[mp];W[np];B[lr];W[lq];B[kq];W[mr];B[jr];W[ls];B[iq];W[dk];B[em];W[en];B[fn];W[fm];B[el];W[gm];B[dn];W[eo];B[fo];W[do];B[cm];W[dm];B[dl];W[cl];B[ek];W[bm];B[dj];W[ck];B[ej];W[im];B[ij];W[gj];B[gk];W[jp];B[jo];W[ip];B[hp];W[gn];B[io];W[hk];B[hj];W[ik];B[gi];W[ff];B[gf];W[jj];B[ji];W[ki];B[kj];W[jk];B[jh];W[kh];B[jg];W[kg];B[jf];W[kf];B[lj];W[mi];B[mj];W[ni];B[lm];W[ln];B[kn];W[km];B[kl];W[ll];B[jm];W[kk];B[ml];W[lk];B[mk];W[mm];B[km];W[nm];B[ok];W[nk];B[nl];W[pk];B[oj];W[je];B[hf];W[ph];B[pj];W[pg];B[of];W[oh];B[pb];W[qb];B[qa];W[ra];B[pa];W[cj];B[ie];W[qi];B[rj];W[qr];B[rr];W[rs];B[fr];W[om];B[pm];W[ol];B[nj];W[ri];B[qj];W[rq];B[rp];W[sr];B[dr];W[cq];B[cr];W[br];B[bs];W[ar];B[ci];W[bi];B[ch];W[bh];B[cb];W[sp];B[ro];W[so];B[sn];W[sq];B[rn];W[ne];B[mf];W[me];B[le];W[lf];B[mg];W[li];B[mc];W[nc];B[nb];W[jd];B[ic];W[kc];B[kb];W[lc];B[lb];W[kd];B[md];W[nd];B[mb];W[sj];B[sk];W[si];B[fg];W[eg];B[eh];W[hi];B[ii];W[cg];B[dh])'"
      ]
     },
     "execution_count": 141,
     "metadata": {},
     "output_type": "execute_result"
    }
   ],
   "source": [
    "sgf"
   ]
  },
  {
   "cell_type": "code",
   "execution_count": 28,
   "metadata": {
    "collapsed": false
   },
   "outputs": [],
   "source": [
    "sgf=StripKey(sgf,key='CR')"
   ]
  },
  {
   "cell_type": "code",
   "execution_count": 61,
   "metadata": {
    "collapsed": false
   },
   "outputs": [
    {
     "data": {
      "text/plain": [
       "200"
      ]
     },
     "execution_count": 61,
     "metadata": {},
     "output_type": "execute_result"
    }
   ],
   "source": [
    "sgf.count(';')"
   ]
  },
  {
   "cell_type": "code",
   "execution_count": 62,
   "metadata": {
    "collapsed": true
   },
   "outputs": [],
   "source": [
    "sgf=sgf.replace('\\n','')"
   ]
  },
  {
   "cell_type": "code",
   "execution_count": 208,
   "metadata": {
    "collapsed": true
   },
   "outputs": [],
   "source": []
  },
  {
   "cell_type": "code",
   "execution_count": 216,
   "metadata": {
    "collapsed": true
   },
   "outputs": [],
   "source": [
    "\n",
    "        \n",
    "\n",
    "        "
   ]
  },
  {
   "cell_type": "code",
   "execution_count": 217,
   "metadata": {
    "collapsed": false
   },
   "outputs": [],
   "source": [
    "corners=GetCorners(ReadGame(games[0].replace('.sgf','_clean.sgf')))\n",
    "WriteCorners(corners[0],name='0_0')\n",
    "syms=GetSyms(ReadGame(games[0].replace('.sgf','_clean.sgf')))\n",
    "for i,j in enumerate(syms):WriteCorners(syms[i],name='syms_0_'+str(i))"
   ]
  },
  {
   "cell_type": "code",
   "execution_count": 205,
   "metadata": {
    "collapsed": false
   },
   "outputs": [
    {
     "data": {
      "text/plain": [
       "['W[dc]',\n",
       " 'B[de]',\n",
       " 'W[ce]',\n",
       " 'B[dd]',\n",
       " 'W[cd]',\n",
       " 'B[ec]',\n",
       " 'W[cf]',\n",
       " 'B[db]',\n",
       " 'W[cc]',\n",
       " 'B[jc]',\n",
       " 'W[fc]',\n",
       " 'B[ed]',\n",
       " 'W[fb]',\n",
       " 'B[eb]',\n",
       " 'W[df]',\n",
       " 'B[fd]',\n",
       " 'B[dj]',\n",
       " 'B[ej]',\n",
       " 'B[ij]',\n",
       " 'W[gj]',\n",
       " 'B[hj]',\n",
       " 'B[gi]',\n",
       " 'W[ff]',\n",
       " 'B[gf]',\n",
       " 'W[jj]',\n",
       " 'B[ji]',\n",
       " 'B[jh]',\n",
       " 'B[jg]',\n",
       " 'B[jf]',\n",
       " 'W[je]',\n",
       " 'B[hf]',\n",
       " 'W[cj]',\n",
       " 'B[ie]',\n",
       " 'B[ci]',\n",
       " 'W[bi]',\n",
       " 'B[ch]',\n",
       " 'W[bh]',\n",
       " 'B[cb]',\n",
       " 'W[jd]',\n",
       " 'B[ic]',\n",
       " 'B[fg]',\n",
       " 'W[eg]',\n",
       " 'B[eh]',\n",
       " 'W[hi]',\n",
       " 'B[ii]',\n",
       " 'W[cg]',\n",
       " 'B[dh])']"
      ]
     },
     "execution_count": 205,
     "metadata": {},
     "output_type": "execute_result"
    }
   ],
   "source": [
    "corners[0]"
   ]
  },
  {
   "cell_type": "code",
   "execution_count": 68,
   "metadata": {
    "collapsed": false
   },
   "outputs": [],
   "source": [
    "moves=sgf.split(';')\n",
    "moves=moves[2:]"
   ]
  },
  {
   "cell_type": "code",
   "execution_count": 90,
   "metadata": {
    "collapsed": false
   },
   "outputs": [],
   "source": [
    "letters='abcdefghijklmnopqrs'\n",
    "bletters='srqponmlkjihgfedcba'\n",
    "sym={}\n",
    "for i,j in zip(letters,bletters):\n",
    "    sym[i]=j"
   ]
  },
  {
   "cell_type": "code",
   "execution_count": 76,
   "metadata": {
    "collapsed": false
   },
   "outputs": [],
   "source": [
    "l,r=letters[0:10],letters[9:]"
   ]
  },
  {
   "cell_type": "code",
   "execution_count": 161,
   "metadata": {
    "collapsed": false
   },
   "outputs": [],
   "source": [
    "c1=[]\n",
    "c2=[]\n",
    "c3=[]\n",
    "c4=[]\n",
    "for i,j in zip(moves,locs):\n",
    "    if j[0] in l and j[1] in l:\n",
    "        c1.append(i)\n",
    "    if j[0] in l and j[1] in r:\n",
    "        tmp=i.replace(j[1],sym[j[1]])\n",
    "        c2.append(tmp)\n",
    "    if j[0] in r and j[1] in r:\n",
    "        tmp=i.replace(j[1],sym[j[1]])\n",
    "        tmp=tmp.replace(j[0],sym[j[0]])\n",
    "        c3.append(tmp)\n",
    "    if j[0] in r and j[1] in l:\n",
    "        tmp=i.replace(j[0],sym[j[0]])\n",
    "        c4.append(tmp)\n"
   ]
  },
  {
   "cell_type": "code",
   "execution_count": 103,
   "metadata": {
    "collapsed": true
   },
   "outputs": [],
   "source": [
    "header=\"(;GM[1]FF[4]CA[UTF-8]AP[CGoban:3]ST[2]\\nRU[Japanese]SZ[19]KM[6.50]TM[600]OT[5x40 byo-yomi]\\nPW[Bogoliubon]PB[tf]WR[1k]BR[1k]DT[2016-02-24]PRE[B+Resign]\\n;\""
   ]
  },
  {
   "cell_type": "code",
   "execution_count": 142,
   "metadata": {
    "collapsed": true
   },
   "outputs": [],
   "source": [
    "def WriteCorners(corners,path='./GoDat/Corners/'):\n",
    "    header=\"(;GM[1]FF[4]CA[UTF-8]AP[CGoban:3]ST[2]\\nRU[Japanese]SZ[19]KM[6.50]TM[600]OT[5x40 byo-yomi]\\nPW[Bogoliubon]PB[tf]WR[1k]BR[1k]DT[2016-02-24]PRE[B+Resign]\\n;\""
   ]
  },
  {
   "cell_type": "code",
   "execution_count": 143,
   "metadata": {
    "collapsed": false
   },
   "outputs": [
    {
     "data": {
      "text/plain": [
       "'(;GM[1]FF[4]CA[UTF-8]AP[CGoban:3]ST[2]\\nRU[Japanese]SZ[19]KM[6.50]TM[600]OT[5x40 byo-yomi]\\nPW[Bogoliubon]PB[tf]WR[1k]BR[1k]DT[2016-02-24]PRE[B+Resign]\\n;'"
      ]
     },
     "execution_count": 143,
     "metadata": {},
     "output_type": "execute_result"
    }
   ],
   "source": [
    "header"
   ]
  },
  {
   "cell_type": "code",
   "execution_count": 112,
   "metadata": {
    "collapsed": false
   },
   "outputs": [],
   "source": [
    "f=open('test.sgf','w')\n",
    "record=header\n",
    "for i in c1[:-1]:record+=i+';'\n",
    "record+=c1[-1].replace(')','')+')'\n",
    "\n",
    "record+='\\n'+header\n",
    "for i in c2[:-1]:record+=i+';'\n",
    "record+=c2[-1].replace(')','')+')'\n",
    "\n",
    "record+='\\n'+header\n",
    "for i in c1[:-1]:record+=i+';'\n",
    "record+=c1[-1].replace(')','')+')'\n",
    "\n",
    "record+='\\n'+header\n",
    "for i in c1[:-1]:record+=i+';'\n",
    "record+=c1[-1].replace(')','')+')'\n",
    "\n",
    "f.write(record)"
   ]
  },
  {
   "cell_type": "code",
   "execution_count": 114,
   "metadata": {
    "collapsed": false
   },
   "outputs": [
    {
     "name": "stdout",
     "output_type": "stream",
     "text": [
      "(;GM[1]FF[4]CA[UTF-8]AP[CGoban:3]ST[2]\n",
      "RU[Japanese]SZ[19]KM[6.50]TM[600]OT[5x40 byo-yomi]\n",
      "PW[Bogoliubon]PB[tf]WR[1k]BR[1k]DT[2016-02-24]PRE[B+Resign]\n",
      ";W[dc];B[de];W[ce];B[dd];W[cd];B[ec];W[cf];B[db];W[cc];B[jc];W[fc];B[ed];W[fb];B[eb];W[df];B[fd];B[dj];B[ej];B[ij];W[gj];B[hj];B[gi];W[ff];B[gf];W[jj];B[ji];B[jh];B[jg];B[jf];W[je];B[hf];W[cj];B[ie];B[ci];W[bi];B[ch];W[bh];B[cb];W[jd];B[ic];B[fg];W[eg];B[eh];W[hi];B[ii];W[cg];B[dh])\n",
      "(;GM[1]FF[4]CA[UTF-8]AP[CGoban:3]ST[2]\n",
      "RU[Japanese]SZ[19]KM[6.50]TM[600]OT[5x40 byo-yomi]\n",
      "PW[Bogoliubon]PB[tf]WR[1k]BR[1k]DT[2016-02-24]PRE[B+Resign]\n",
      ";W[dd];W[cf];B[fc];W[ec];B[fd];W[jc];B[jb];B[ic];W[di];B[eg];W[ef];B[ff];W[fg];B[eh];W[gg];B[df];W[ee];B[fe];W[de];B[cg];W[dg];B[dh];W[ch];B[ei];W[bg];B[dj];W[ci];B[ej];W[ig];B[ij];W[gj];B[gi];W[jd];B[je];W[id];B[hd];W[gf];B[ie];W[hi];B[hj];W[ii];W[jj];W[ji];B[jg];W[cj];B[fb];B[db];W[cc];B[cb];W[bb];B[ba];W[ab])\n",
      "(;GM[1]FF[4]CA[UTF-8]AP[CGoban:3]ST[2]\n",
      "RU[Japanese]SZ[19]KM[6.50]TM[600]OT[5x40 byo-yomi]\n",
      "PW[Bogoliubon]PB[tf]WR[1k]BR[1k]DT[2016-02-24]PRE[B+Resign]\n",
      ";W[dc];B[de];W[ce];B[dd];W[cd];B[ec];W[cf];B[db];W[cc];B[jc];W[fc];B[ed];W[fb];B[eb];W[df];B[fd];B[dj];B[ej];B[ij];W[gj];B[hj];B[gi];W[ff];B[gf];W[jj];B[ji];B[jh];B[jg];B[jf];W[je];B[hf];W[cj];B[ie];B[ci];W[bi];B[ch];W[bh];B[cb];W[jd];B[ic];B[fg];W[eg];B[eh];W[hi];B[ii];W[cg];B[dh])\n",
      "(;GM[1]FF[4]CA[UTF-8]AP[CGoban:3]ST[2]\n",
      "RU[Japanese]SZ[19]KM[6.50]TM[600]OT[5x40 byo-yomi]\n",
      "PW[Bogoliubon]PB[tf]WR[1k]BR[1k]DT[2016-02-24]PRE[B+Resign]\n",
      ";W[dc];B[de];W[ce];B[dd];W[cd];B[ec];W[cf];B[db];W[cc];B[jc];W[fc];B[ed];W[fb];B[eb];W[df];B[fd];B[dj];B[ej];B[ij];W[gj];B[hj];B[gi];W[ff];B[gf];W[jj];B[ji];B[jh];B[jg];B[jf];W[je];B[hf];W[cj];B[ie];B[ci];W[bi];B[ch];W[bh];B[cb];W[jd];B[ic];B[fg];W[eg];B[eh];W[hi];B[ii];W[cg];B[dh])\n"
     ]
    }
   ],
   "source": [
    "print record"
   ]
  },
  {
   "cell_type": "code",
   "execution_count": 115,
   "metadata": {
    "collapsed": true
   },
   "outputs": [],
   "source": [
    "corners=[c1,c2,c3,c4]"
   ]
  },
  {
   "cell_type": "code",
   "execution_count": 119,
   "metadata": {
    "collapsed": false
   },
   "outputs": [],
   "source": [
    "joseki={}\n",
    "joseki[c1[0]]={}\n",
    "joseki[c1[0]][c1[1]]={}\n",
    "        \n"
   ]
  },
  {
   "cell_type": "code",
   "execution_count": 120,
   "metadata": {
    "collapsed": false
   },
   "outputs": [
    {
     "data": {
      "text/plain": [
       "{'W[dc]': {'B[de]': {}}}"
      ]
     },
     "execution_count": 120,
     "metadata": {},
     "output_type": "execute_result"
    }
   ],
   "source": [
    "joseki"
   ]
  },
  {
   "cell_type": "code",
   "execution_count": 121,
   "metadata": {
    "collapsed": true
   },
   "outputs": [],
   "source": [
    "fmove=set()\n",
    "for i in corners:\n",
    "    fmove.add(i[0])\n",
    "    "
   ]
  },
  {
   "cell_type": "code",
   "execution_count": 122,
   "metadata": {
    "collapsed": false
   },
   "outputs": [
    {
     "name": "stdout",
     "output_type": "stream",
     "text": [
      "set(['W[dd]', 'W[dc]', 'B[dd]'])\n"
     ]
    }
   ],
   "source": [
    "print fmove"
   ]
  },
  {
   "cell_type": "code",
   "execution_count": 124,
   "metadata": {
    "collapsed": false
   },
   "outputs": [
    {
     "data": {
      "text/plain": [
       "'(;GM[1]FF[4]CA[UTF-8]AP[CGoban:3]ST[2]RU[Japanese]SZ[19]KM[6.50]TM[600]OT[5x40 byo-yomi]PW[Bogoliubon]PB[tf]WR[1k]BR[1k]DT[2016-02-24]PRE[B+Resign];B[pd];W[dp];B[pp];W[dc];B[de];W[ce];B[dd];W[cd];B[ec];W[cf];B[db];W[cc];B[jc];W[nq];B[kp];W[no];B[pn];W[pr];B[qq];W[kr];B[qk];W[qf];B[qh];W[qc];B[pc];W[qd];B[pe];W[rf];B[og];W[fc];B[ed];W[fb];B[eb];W[df];B[fd];W[ke];B[ld];W[pl];B[ql];W[cn];B[fq];W[eq];B[fp];W[jq];B[mp];W[np];B[lr];W[lq];B[kq];W[mr];B[jr];W[ls];B[iq];W[dk];B[em];W[en];B[fn];W[fm];B[el];W[gm];B[dn];W[eo];B[fo];W[do];B[cm];W[dm];B[dl];W[cl];B[ek];W[bm];B[dj];W[ck];B[ej];W[im];B[ij];W[gj];B[gk];W[jp];B[jo];W[ip];B[hp];W[gn];B[io];W[hk];B[hj];W[ik];B[gi];W[ff];B[gf];W[jj];B[ji];W[ki];B[kj];W[jk];B[jh];W[kh];B[jg];W[kg];B[jf];W[kf];B[lj];W[mi];B[mj];W[ni];B[lm];W[ln];B[kn];W[km];B[kl];W[ll];B[jm];W[kk];B[ml];W[lk];B[mk];W[mm];B[km];W[nm];B[ok];W[nk];B[nl];W[pk];B[oj];W[je];B[hf];W[ph];B[pj];W[pg];B[of];W[oh];B[pb];W[qb];B[qa];W[ra];B[pa];W[cj];B[ie];W[qi];B[rj];W[qr];B[rr];W[rs];B[fr];W[om];B[pm];W[ol];B[nj];W[ri];B[qj];W[rq];B[rp];W[sr];B[dr];W[cq];B[cr];W[br];B[bs];W[ar];B[ci];W[bi];B[ch];W[bh];B[cb];W[sp];B[ro];W[so];B[sn];W[sq];B[rn];W[ne];B[mf];W[me];B[le];W[lf];B[mg];W[li];B[mc];W[nc];B[nb];W[jd];B[ic];W[kc];B[kb];W[lc];B[lb];W[kd];B[md];W[nd];B[mb];W[sj];B[sk];W[si];B[fg];W[eg];B[eh];W[hi];B[ii];W[cg];B[dh])'"
      ]
     },
     "execution_count": 124,
     "metadata": {},
     "output_type": "execute_result"
    }
   ],
   "source": [
    "sgf"
   ]
  },
  {
   "cell_type": "code",
   "execution_count": 188,
   "metadata": {
    "collapsed": false
   },
   "outputs": [
    {
     "data": {
      "text/plain": [
       "'(;GM[1]FF[4]CA[UTF-8]AP[CGoban:3]ST[2]SZ[19];B[pd];W[dp];B[pp];W[dc];B[de];W[ce];B[dd];W[cd];B[ec];W[cf];B[db];W[cc];B[jc];W[nq];B[kp];W[no];B[pn];W[pr];B[qq];W[kr];B[qk];W[qf];B[qh];W[qc];B[pc];W[qd];B[pe];W[rf];B[og];W[fc];B[ed];W[fb];B[eb];W[df];B[fd];W[ke];B[ld];W[pl];B[ql];W[cn];B[fq];W[eq];B[fp];W[jq];B[mp];W[np];B[lr];W[lq];B[kq];W[mr];B[jr];W[ls];B[iq];W[dk];B[em];W[en];B[fn];W[fm];B[el];W[gm];B[dn];W[eo];B[fo];W[do];B[cm];W[dm];B[dl];W[cl];B[ek];W[bm];B[dj];W[ck];B[ej];W[im];B[ij];W[gj];B[gk];W[jp];B[jo];W[ip];B[hp];W[gn];B[io];W[hk];B[hj];W[ik];B[gi];W[ff];B[gf];W[jj];B[ji];W[ki];B[kj];W[jk];B[jh];W[kh];B[jg];W[kg];B[jf];W[kf];B[lj];W[mi];B[mj];W[ni];B[lm];W[ln];B[kn];W[km];B[kl];W[ll];B[jm];W[kk];B[ml];W[lk];B[mk];W[mm];B[km];W[nm];B[ok];W[nk];B[nl];W[pk];B[oj];W[je];B[hf];W[ph];B[pj];W[pg];B[of];W[oh];B[pb];W[qb];B[qa];W[ra];B[pa];W[cj];B[ie];W[qi];B[rj];W[qr];B[rr];W[rs];B[fr];W[om];B[pm];W[ol];B[nj];W[ri];B[qj];W[rq];B[rp];W[sr];B[dr];W[cq];B[cr];W[br];B[bs];W[ar];B[ci];W[bi];B[ch];W[bh];B[cb];W[sp];B[ro];W[so];B[sn];W[sq];B[rn];W[ne];B[mf];W[me];B[le];W[lf];B[mg];W[li];B[mc];W[nc];B[nb];W[jd];B[ic];W[kc];B[kb];W[lc];B[lb];W[kd];B[md];W[nd];B[mb];W[sj];B[sk];W[si];B[fg];W[eg];B[eh];W[hi];B[ii];W[cg];B[dh])'"
      ]
     },
     "execution_count": 188,
     "metadata": {},
     "output_type": "execute_result"
    }
   ],
   "source": [
    "ReadGame(games[0].replace('.sgf','_clean.sgf'))"
   ]
  },
  {
   "cell_type": "code",
   "execution_count": 8,
   "metadata": {
    "collapsed": false
   },
   "outputs": [],
   "source": [
    "corners=GetCorners(ReadGame(games[3].replace('.sgf','_clean.sgf')))"
   ]
  },
  {
   "cell_type": "code",
   "execution_count": 13,
   "metadata": {
    "collapsed": false
   },
   "outputs": [],
   "source": [
    "for j,i in enumerate(games):\n",
    "    sgf=ReadGame(i.replace('.sgf','_clean.sgf'))\n",
    "    handis=GetKey(sgf='HA')\n",
    "    if handis in [str(k+1) for k in range(9)]:\n",
    "        continue\n",
    "    else:\n",
    "        try:\n",
    "            corners=GetCorners(sgf)\n",
    "        except IndexError:\n",
    "            continue\n",
    "        for k,l in enumerate(corners):\n",
    "            WriteCorners(l,name=str(j)+'_'+str(k))\n"
   ]
  },
  {
   "cell_type": "code",
   "execution_count": 184,
   "metadata": {
    "collapsed": false
   },
   "outputs": [
    {
     "data": {
      "text/plain": [
       "'2016/2/24/Bogoliubon-tf.sgf'"
      ]
     },
     "execution_count": 184,
     "metadata": {},
     "output_type": "execute_result"
    }
   ],
   "source": [
    "games[0]"
   ]
  },
  {
   "cell_type": "code",
   "execution_count": 173,
   "metadata": {
    "collapsed": true
   },
   "outputs": [],
   "source": []
  },
  {
   "cell_type": "code",
   "execution_count": null,
   "metadata": {
    "collapsed": true
   },
   "outputs": [],
   "source": [
    "f=open('test.sgf','w')\n",
    "record=header\n",
    "for i in c1[:-1]:record+=i+';'\n",
    "record+=c1[-1].replace(')','')+')'"
   ]
  },
  {
   "cell_type": "code",
   "execution_count": 150,
   "metadata": {
    "collapsed": true
   },
   "outputs": [],
   "source": [
    "WriteCorners(corners[0])"
   ]
  },
  {
   "cell_type": "code",
   "execution_count": 178,
   "metadata": {
    "collapsed": true
   },
   "outputs": [],
   "source": [
    "sgf=ReadGame('2004/10/23/plush-Zwom.sgf')"
   ]
  },
  {
   "cell_type": "code",
   "execution_count": 179,
   "metadata": {
    "collapsed": false
   },
   "outputs": [
    {
     "data": {
      "text/plain": [
       "'(;GM[1]FF[4]CA[UTF-8]\\nRU[Japanese]SZ[13]KM[6.50]TM[1650]OT[5x30 byo-yomi]\\nPW[plush]PB[Zwom]DT[2004-10-23]PC[The Kiseido Go Server (KGS) at http://kgs.kiseido.com/]RE[B+Resign]\\n;B[dk]CR[dk]BL[1794.988]\\n;W[dd]CR[dd]WL[1796.796]\\n;B[kj]CR[kj]BL[1792.360]\\n;W[jd]CR[jd]WL[1795.806]\\n;B[kf]CR[kf]BL[1786.830]\\n;W[ke]CR[ke]WL[1783.568]\\n;B[jf]CR[jf]BL[1784.870]\\n;W[ic]CR[ic]WL[1770.906]\\n;B[cf]CR[cf]BL[1781.786]\\n;W[ie]CR[ie]WL[1760.630]\\n;B[if]CR[if]BL[1754.728]\\n;W[hd]CR[hd]WL[1746.608]\\n;B[cd]CR[cd]BL[1752.371]\\n;W[ce]CR[ce]WL[1734.277]\\n;B[de]CR[de]BL[1747.927]\\n;W[be]CR[be]WL[1718.034]\\n;B[bd]CR[bd]BL[1746.858]\\n;W[df]CR[df]WL[1705.195]\\n;B[ee]CR[ee]BL[1741.486]\\n;W[bf]CR[bf]WL[1690.276]\\n;B[cg]CR[cg]BL[1739.859]\\n;W[cc]CR[cc]WL[1663.895]\\n;B[dc]CR[dc]BL[1720.122]\\n;W[ed]CR[ed]WL[1649.613]\\n;B[ec]CR[ec]BL[1704.379]\\n;W[fd]CR[fd]WL[1582.225]\\n;B[bc]CR[bc]BL[1698.497]\\n;W[ef]CR[ef]WL[1554.722]\\n;B[fe]CR[fe]BL[1665.545]\\n;W[ad]CR[ad]WL[1507.285]\\n;B[ac]CR[ac]BL[1652.042]\\n;W[af]CR[af]WL[1492.789]\\n;B[bg]CR[bg]BL[1642.836]\\n;W[ah]CR[ah]WL[1468.027]\\n;B[bh]CR[bh]BL[1628.603]\\n;W[ff]CR[ff]WL[1453.404]\\n;B[ge]CR[ge]BL[1622.998]\\n;W[hf]CR[hf]WL[1438.250]\\n;B[gd]CR[gd]BL[1619.662]\\n;W[gc]CR[gc]WL[1431.521]\\n;B[fc]CR[fc]BL[1612.603]\\n;W[gf]CR[gf]WL[1423.292]\\n;B[hg]CR[hg]BL[1581.733]\\n;W[ig]CR[ig]WL[1385.969]\\n;B[ih]CR[ih]BL[1576.339]\\n;W[jg]CR[jg]WL[1373.966]\\n;B[kg]CR[kg]BL[1573.732]\\n;W[jh]CR[jh]WL[1361.630]\\n;B[ji]CR[ji]BL[1569.471])\\n'"
      ]
     },
     "execution_count": 179,
     "metadata": {},
     "output_type": "execute_result"
    }
   ],
   "source": [
    "sgf"
   ]
  },
  {
   "cell_type": "code",
   "execution_count": 23,
   "metadata": {
    "collapsed": false
   },
   "outputs": [],
   "source": [
    "corners=GetCorners(ReadGame(games[0].replace('.sgf','_clean.sgf')))"
   ]
  },
  {
   "cell_type": "code",
   "execution_count": 24,
   "metadata": {
    "collapsed": true
   },
   "outputs": [],
   "source": [
    "corners=GetCorners(ReadGame(games[3].replace('.sgf','_clean.sgf')))"
   ]
  },
  {
   "cell_type": "code",
   "execution_count": 25,
   "metadata": {
    "collapsed": false
   },
   "outputs": [],
   "source": [
    "a=GetSyms(corners[1],src='list')"
   ]
  },
  {
   "cell_type": "code",
   "execution_count": 33,
   "metadata": {
    "collapsed": false
   },
   "outputs": [
    {
     "data": {
      "text/plain": [
       "True"
      ]
     },
     "execution_count": 33,
     "metadata": {},
     "output_type": "execute_result"
    }
   ],
   "source": [
    "a[4][0:3]==['W[cd]', 'B[ed]', 'W[gc]'] or a[4][0:3]==['B[cd]', 'W[ed]', 'B[gc]']"
   ]
  },
  {
   "cell_type": "code",
   "execution_count": 92,
   "metadata": {
    "collapsed": false
   },
   "outputs": [],
   "source": [
    "def PatternSearch(pattern,games):\n",
    "    patterns=[]\n",
    "    mygames=[]\n",
    "    rev = {}\n",
    "    rev['B']='W'\n",
    "    rev['W']='B'\n",
    "    for i in games:\n",
    "        try:\n",
    "            corners=GetCorners(ReadGame(i.replace('.sgf','_clean.sgf')))\n",
    "        except IndexError:\n",
    "            continue\n",
    "        for j in corners:\n",
    "            a=GetSyms(j,src='list')\n",
    "            for k in a:\n",
    "                if k[0:3]==pattern or k[0:3]==[rev[l[0]]+l[1:] for l in pattern]:\n",
    "                    mygames.append(i)\n",
    "                    patterns.append(k)\n",
    "    return patterns,mygames"
   ]
  },
  {
   "cell_type": "code",
   "execution_count": 125,
   "metadata": {
    "collapsed": false
   },
   "outputs": [],
   "source": [
    "patterns,mygames=PatternSearch(['W[cd]', 'B[ed]', 'W[gd]'],games)"
   ]
  },
  {
   "cell_type": "code",
   "execution_count": 130,
   "metadata": {
    "collapsed": false
   },
   "outputs": [
    {
     "name": "stdout",
     "output_type": "stream",
     "text": [
      "28 28\n",
      "234 234\n",
      "147 147\n",
      "15 15\n",
      "8 8\n",
      "12 12\n"
     ]
    }
   ],
   "source": [
    "patterns,mygames=PatternSearch(['W[cd]', 'B[ed]', 'W[gd]'],games)\n",
    "print len(patterns),len(mygames)\n",
    "WritePatterns(patterns,mygames,name='kha1h')\n",
    "\n",
    "patterns,mygames=PatternSearch(['W[cd]', 'B[ed]', 'W[gc]'],games)\n",
    "print len(patterns),len(mygames)\n",
    "WritePatterns(patterns,mygames,name='kha1l')\n",
    "\n",
    "patterns,mygames=PatternSearch(['W[cd]', 'B[ed]', 'W[hd]'],games)\n",
    "print len(patterns),len(mygames)\n",
    "WritePatterns(patterns,mygames,name='kha2h')\n",
    "\n",
    "patterns,mygames=PatternSearch(['W[cd]', 'B[ed]', 'W[hc]'],games)\n",
    "print len(patterns),len(mygames)\n",
    "WritePatterns(patterns,mygames,name='kha2l')\n",
    "\n",
    "patterns,mygames=PatternSearch(['W[cd]', 'B[ed]', 'W[id]'],games)\n",
    "print len(patterns),len(mygames)\n",
    "WritePatterns(patterns,mygames,name='kha3h')\n",
    "\n",
    "patterns,mygames=PatternSearch(['W[cd]', 'B[ed]', 'W[ic]'],games)\n",
    "print len(patterns),len(mygames)\n",
    "WritePatterns(patterns,mygames,name='kha3l')\n",
    "\n"
   ]
  },
  {
   "cell_type": "code",
   "execution_count": 133,
   "metadata": {
    "collapsed": false
   },
   "outputs": [
    {
     "name": "stdout",
     "output_type": "stream",
     "text": [
      "31 31\n",
      "145 145\n",
      "83 83\n",
      "58 58\n",
      "8 8\n",
      "28 28\n"
     ]
    }
   ],
   "source": [
    "patterns,mygames=PatternSearch(['W[cd]', 'B[ec]', 'W[gd]'],games)\n",
    "print len(patterns),len(mygames)\n",
    "WritePatterns(patterns,mygames,name='kla1h')\n",
    "\n",
    "patterns,mygames=PatternSearch(['W[cd]', 'B[ec]', 'W[gc]'],games)\n",
    "print len(patterns),len(mygames)\n",
    "WritePatterns(patterns,mygames,name='kla1l')\n",
    "\n",
    "patterns,mygames=PatternSearch(['W[cd]', 'B[ec]', 'W[hd]'],games)\n",
    "print len(patterns),len(mygames)\n",
    "WritePatterns(patterns,mygames,name='kla2h')\n",
    "\n",
    "patterns,mygames=PatternSearch(['W[cd]', 'B[ec]', 'W[hc]'],games)\n",
    "print len(patterns),len(mygames)\n",
    "WritePatterns(patterns,mygames,name='kla2l')\n",
    "\n",
    "patterns,mygames=PatternSearch(['W[cd]', 'B[ec]', 'W[id]'],games)\n",
    "print len(patterns),len(mygames)\n",
    "WritePatterns(patterns,mygames,name='kla3h')\n",
    "\n",
    "patterns,mygames=PatternSearch(['W[cd]', 'B[ec]', 'W[ic]'],games)\n",
    "print len(patterns),len(mygames)\n",
    "WritePatterns(patterns,mygames,name='kla3l')\n"
   ]
  },
  {
   "cell_type": "code",
   "execution_count": 132,
   "metadata": {
    "collapsed": false
   },
   "outputs": [
    {
     "name": "stdout",
     "output_type": "stream",
     "text": [
      "1 1\n",
      "8 8\n",
      "2 2\n",
      "0 0\n",
      "35 35\n",
      "444 444\n",
      "183 183\n",
      "79 79\n"
     ]
    }
   ],
   "source": [
    "patterns,mygames=PatternSearch(['W[dd]', 'B[fd]', 'W[hd]'],games)\n",
    "print len(patterns),len(mygames)\n",
    "WritePatterns(patterns,mygames,name='hha1h')\n",
    "\n",
    "patterns,mygames=PatternSearch(['W[dd]', 'B[fd]', 'W[hc]'],games)\n",
    "print len(patterns),len(mygames)\n",
    "WritePatterns(patterns,mygames,name='hha1l')\n",
    "\n",
    "patterns,mygames=PatternSearch(['W[dd]', 'B[fd]', 'W[id]'],games)\n",
    "print len(patterns),len(mygames)\n",
    "WritePatterns(patterns,mygames,name='hha2h')\n",
    "\n",
    "patterns,mygames=PatternSearch(['W[dd]', 'B[fd]', 'W[ic]'],games)\n",
    "print len(patterns),len(mygames)\n",
    "WritePatterns(patterns,mygames,name='hha2l')\n",
    "\n",
    "patterns,mygames=PatternSearch(['W[dd]', 'B[fc]', 'W[hd]'],games)\n",
    "print len(patterns),len(mygames)\n",
    "WritePatterns(patterns,mygames,name='hla1h')\n",
    "\n",
    "patterns,mygames=PatternSearch(['W[dd]', 'B[fc]', 'W[hc]'],games)\n",
    "print len(patterns),len(mygames)\n",
    "WritePatterns(patterns,mygames,name='hla1l')\n",
    "\n",
    "patterns,mygames=PatternSearch(['W[dd]', 'B[fc]', 'W[id]'],games)\n",
    "print len(patterns),len(mygames)\n",
    "WritePatterns(patterns,mygames,name='hla2h')\n",
    "\n",
    "patterns,mygames=PatternSearch(['W[dd]', 'B[fc]', 'W[ic]'],games)\n",
    "print len(patterns),len(mygames)\n",
    "WritePatterns(patterns,mygames,name='hla2l')\n",
    "\n"
   ]
  },
  {
   "cell_type": "code",
   "execution_count": 124,
   "metadata": {
    "collapsed": false
   },
   "outputs": [],
   "source": [
    "len(patterns)\n",
    "WritePatterns(patterns,mygames,name='onespacehigh')"
   ]
  },
  {
   "cell_type": "code",
   "execution_count": 41,
   "metadata": {
    "collapsed": false
   },
   "outputs": [
    {
     "name": "stdout",
     "output_type": "stream",
     "text": [
      "2016/2/22/takyan-Bogoliubon.sgf\n",
      "2016/2/22/ibara-Bogoliubon.sgf\n",
      "2016/1/15/Bogoliubon-AyaBot05.sgf\n",
      "2016/1/11/AyaBot6-Bogoliubon.sgf\n",
      "2016/1/1/AyaMC2-Bogoliubon.sgf\n",
      "2015/7/21/Bogoliubon-AyaBot02-2.sgf\n",
      "2015/12/20/darkfores3-Bogoliubon.sgf\n",
      "2015/12/19/MCark2-Bogoliubon.sgf\n",
      "2015/12/17/Bogoliubon-AyaBot05.sgf\n",
      "2014/8/17/mobi-Bogoliubon.sgf\n",
      "2014/5/8/Bogoliubon-GoraUralsk.sgf\n",
      "2014/5/25/Nilpferd-Bogoliubon.sgf\n",
      "2014/4/22/matta-Bogoliubon.sgf\n",
      "2014/3/8/Archaic-Bogoliubon.sgf\n",
      "2014/2/2/mausakim-Bogoliubon.sgf\n",
      "2013/9/21/jco-Bogoliubon.sgf\n",
      "2013/9/15/boa-Bogoliubon.sgf\n",
      "2013/9/13/Ubiquity-Bogoliubon.sgf\n",
      "2013/9/13/Bogoliubon-fcwr.sgf\n",
      "2013/9/12/AyaBot04-Bogoliubon.sgf\n",
      "2013/8/23/clee-Bogoliubon.sgf\n",
      "2013/8/10/Request-Bogoliubon.sgf\n",
      "2013/8/10/Bogoliubon-6.sgf\n",
      "2013/7/6/Bogoliubon-facedi.sgf\n",
      "2013/6/15/asa14-Bogoliubon.sgf\n",
      "2013/3/5/arnoblitz-Bogoliubon.sgf\n",
      "2013/12/6/Bogoliubon-peter2.sgf\n",
      "2013/12/25/Bogoliubon-Nigeteiru.sgf\n",
      "2013/12/15/Prezli-Bogoliubon.sgf\n",
      "2013/11/6/LDD99-Bogoliubon.sgf\n",
      "2013/11/3/paulfac-Bogoliubon.sgf\n",
      "2013/11/15/stoneshape-Bogoliubon.sgf\n",
      "2012/4/24/Gaarg-Bogoliubon.sgf\n",
      "2012/4/24/BAHbKA-Bogoliubon.sgf\n",
      "2012/3/31/Bogoliubon-jrss.sgf\n",
      "2012/3/25/matta-Bogoliubon.sgf\n",
      "2012/3/12/mezon-Bogoliubon.sgf\n",
      "2012/2/23/ty0430-Bogoliubon.sgf\n",
      "2012/2/23/mausakim-Bogoliubon.sgf\n",
      "2012/1/9/kougen-Bogoliubon.sgf\n",
      "2011/9/21/winners-Bogoliubon.sgf\n",
      "2011/8/5/menta-Bogoliubon.sgf\n",
      "2011/8/4/Bogoliubon-samara.sgf\n",
      "2011/8/3/fight-Bogoliubon.sgf\n",
      "2011/8/17/fadeout-Bogoliubon.sgf\n",
      "2011/7/5/inagokiti-Bogoliubon.sgf\n",
      "2011/7/3/Bogoliubon-Elhy.sgf\n",
      "2011/7/3/Bogoliubon-3.sgf\n",
      "2011/7/1/Bogoliubon-rmc.sgf\n",
      "2011/6/2/yotu23321-Bogoliubon.sgf\n",
      "2011/6/2/Bogoliubon-Ephidel.sgf\n",
      "2011/6/2/Bogoliubon-3.sgf\n",
      "2011/6/2/Bogoliubon-2.sgf\n",
      "2011/6/19/Saradan-Bogoliubon.sgf\n",
      "2011/6/19/Bogoliubon-2.sgf\n",
      "2011/6/1/icyStone-Bogoliubon.sgf\n",
      "2011/5/17/andres-Bogoliubon.sgf\n",
      "2011/3/10/tunasalad-Bogoliubon.sgf\n",
      "2011/12/9/westmont-Bogoliubon.sgf\n",
      "2011/12/9/wa2010-Bogoliubon.sgf\n",
      "2011/12/9/legende-Bogoliubon.sgf\n",
      "2011/12/8/Bogoliubon-CygnusXI.sgf\n",
      "2011/12/6/tellone-Bogoliubon.sgf\n",
      "2011/12/6/mrwa-Bogoliubon.sgf\n",
      "2011/12/6/jrss-Bogoliubon.sgf\n",
      "2011/12/6/cat99-Bogoliubon.sgf\n",
      "2011/12/20/Bogoliubon-mosi.sgf\n",
      "2011/12/2/don-Bogoliubon.sgf\n",
      "2011/12/2/Bogoliubon-krejnn.sgf\n",
      "2011/12/1/kioo-Bogoliubon.sgf\n",
      "2011/12/1/kioo-Bogoliubon.sgf\n",
      "2011/11/30/phlgo2011-Bogoliubon.sgf\n",
      "2011/11/28/dch-Bogoliubon.sgf\n",
      "2011/11/28/dch-Bogoliubon.sgf\n",
      "2011/11/28/Bogoliubon-amiro.sgf\n",
      "2011/11/28/Bogoliubon-amiro.sgf\n",
      "2011/11/28/Bogoliubon-Morbo.sgf\n",
      "2011/11/28/Bogoliubon-Dave.sgf\n",
      "2011/11/26/gjyf-Bogoliubon.sgf\n",
      "2011/11/25/Oban-Bogoliubon.sgf\n",
      "2011/11/1/wnabego-Bogoliubon.sgf\n",
      "2011/10/21/ssmfung-Bogoliubon-2.sgf\n",
      "2011/10/21/gofor-Bogoliubon.sgf\n",
      "2011/10/21/emptysky-Bogoliubon.sgf\n",
      "2011/10/21/Bogoliubon-Xiangqi.sgf\n",
      "2011/10/19/arrow-Bogoliubon.sgf\n",
      "2010/2/22/qoiqpwqr-Bogoliubon.sgf\n",
      "2009/9/29/Bogoliubon-mun.sgf\n",
      "2009/9/29/Bogoliubon-gotoukuni.sgf\n",
      "2009/8/10/Bogoliubon-logicg8.sgf\n",
      "2009/7/4/dohe-Bogoliubon.sgf\n",
      "2009/7/17/Bogoliubon-Renegade.sgf\n",
      "2009/6/29/Bogoliubon-3.sgf\n",
      "2009/6/26/Bogoliubon-MrSmile.sgf\n",
      "2009/6/24/geronimo-Bogoliubon.sgf\n",
      "2009/6/22/Bogoliubon-2.sgf\n",
      "2009/6/20/PowerTower-Bogoliubon.sgf\n",
      "2009/6/2/Bogoliubon-notowuri.sgf\n",
      "2009/6/17/larryw-Bogoliubon.sgf\n",
      "2009/6/17/Bogoliubon-2.sgf\n",
      "2009/6/10/Lynner-Bogoliubon.sgf\n",
      "2009/5/26/larryw-Bogoliubon.sgf\n",
      "2009/5/25/TWahl-Bogoliubon.sgf\n",
      "2009/5/16/go4life-Bogoliubon.sgf\n",
      "2009/5/10/Bogoliubon-juh.sgf\n",
      "2009/5/1/Reverb-Bogoliubon.sgf\n",
      "2009/4/18/kakuk-Bogoliubon.sgf\n",
      "2009/4/18/Bogoliubon-3.sgf\n",
      "2009/3/9/pers-Bogoliubon.sgf\n",
      "2009/3/24/fredley-Bogoliubon.sgf\n",
      "2009/3/19/savavite-Bogoliubon.sgf\n",
      "2009/3/19/savavite-Bogoliubon.sgf\n",
      "2009/2/5/Bogoliubon-Fukuchan.sgf\n",
      "2009/2/4/Romance-Bogoliubon.sgf\n",
      "2009/2/21/Whitedog-Bogoliubon.sgf\n",
      "2009/12/8/mnbvcxzasd-Bogoliubon.sgf\n",
      "2009/12/3/Bogoliubon-Renegade.sgf\n",
      "2009/12/3/Bogoliubon-Renegade.sgf\n",
      "2009/12/19/Bogoliubon-cocol.sgf\n",
      "2009/12/15/Bogoliubon-miraorange.sgf\n",
      "2009/11/27/uha-Bogoliubon.sgf\n",
      "2009/11/27/uha-Bogoliubon.sgf\n",
      "2009/11/22/Bogoliubon-Yanwangye.sgf\n",
      "2009/11/20/Bogoliubon-Ummagumma.sgf\n",
      "2009/11/2/cesar-Bogoliubon.sgf\n",
      "2009/10/27/Bogoliubon-ccc.sgf\n",
      "2009/1/31/josette-Bogoliubon.sgf\n",
      "2009/1/24/Masumi-Bogoliubon.sgf\n",
      "2009/1/16/Bogoliubon-HiFi.sgf\n",
      "2009/1/16/Bogoliubon-5.sgf\n",
      "2008/9/9/Bogoliubon-aphp.sgf\n",
      "2008/9/13/Imba-Bogoliubon.sgf\n",
      "2008/9/13/Bogoliubon-8.sgf\n",
      "2008/9/10/ys52521-Bogoliubon.sgf\n",
      "2008/9/10/Bogoliubon-okok.sgf\n",
      "2008/8/8/Bogoliubon-Oame.sgf\n",
      "2008/8/7/wanio-Bogoliubon.sgf\n",
      "2008/8/7/Bogoliubon-2.sgf\n",
      "2008/8/25/Bogoliubon-wrathful.sgf\n",
      "2008/7/20/ccc-Bogoliubon.sgf\n",
      "2008/6/9/Bogoliubon-setsuna1.sgf\n",
      "2008/5/31/pmcguire67-Bogoliubon.sgf\n",
      "2008/5/30/sergiop-Bogoliubon.sgf\n",
      "2008/4/21/Bogoliubon-VieTSon.sgf\n",
      "2008/4/15/ConTenGo-Bogoliubon.sgf\n",
      "2008/3/7/holly-Zwom.sgf\n",
      "2008/3/7/holly-Zwom.sgf\n",
      "2008/3/26/lupis-Bogoliubon.sgf\n",
      "2008/3/23/nt6251-Bogoliubon.sgf\n",
      "2008/3/2/Zwom.sgf\n",
      "2008/12/30/iwasiya-Bogoliubon.sgf\n",
      "2008/12/27/s3d-Bogoliubon.sgf\n",
      "2008/12/23/Bogoliubon-2.sgf\n",
      "2008/12/22/donclaboni-Bogoliubon.sgf\n",
      "2008/12/15/Bogoliubon-anduril.sgf\n",
      "2008/12/14/g12345-Bogoliubon.sgf\n",
      "2008/11/6/habinger-Bogoliubon.sgf\n",
      "2008/11/6/Bogoliubon-2.sgf\n",
      "2008/11/17/fire1-Bogoliubon.sgf\n",
      "2008/11/16/Bogoliubon-jorel.sgf\n",
      "2008/10/9/tuya-Bogoliubon.sgf\n",
      "2008/10/8/Redjoker-Bogoliubon.sgf\n",
      "2008/10/24/urumpel-Bogoliubon.sgf\n",
      "2008/10/24/johag-Bogoliubon.sgf\n",
      "2008/10/1/tomrotc-Bogoliubon.sgf\n",
      "2008/10/1/Bogoliubon-fruitdrops.sgf\n",
      "2008/10/1/Bogoliubon-Nikoolas.sgf\n",
      "2007/9/2/knecht06-Zwom.sgf\n",
      "2007/9/2/Zwom.sgf\n",
      "2007/7/24/Bogoliubon-pismaniye.sgf\n",
      "2007/7/17/Zwom-fearless.sgf\n",
      "2007/5/6/sanduo-Bogoliubon.sgf\n",
      "2007/5/18/Zwom.sgf\n",
      "2007/5/13/Zwom-snowmen.sgf\n",
      "2007/4/22/kram-Zwom.sgf\n",
      "2007/4/22/abcde-Bogoliubon.sgf\n",
      "2007/4/14/Zwom-SUPERBALL.sgf\n",
      "2007/4/10/Zwom.sgf\n",
      "2007/4/10/Joven-Zwom.sgf\n",
      "2007/3/6/Calyx-Bogoliubon.sgf\n",
      "2007/3/24/Zwom-knecht06.sgf\n",
      "2007/3/15/Bogoliubon-gotam.sgf\n",
      "2007/2/28/gomania-Bogoliubon.sgf\n",
      "2007/12/17/GokuWachi-Bogoliubon.sgf\n",
      "2007/11/8/changwanli-Bogoliubon.sgf\n",
      "2007/11/4/rinku-Bogoliubon.sgf\n",
      "2007/10/8/vwl-Bogoliubon.sgf\n",
      "2007/1/8/toxxicu-Bogoliubon-2.sgf\n",
      "2007/1/31/gin-Bogoliubon.sgf\n",
      "2007/1/11/feelfe-Bogoliubon.sgf\n",
      "2007/1/1/Zwom-joky.sgf\n",
      "2006/9/2/Remi69-Zwom.sgf\n",
      "2006/9/11/Zwom-kobay.sgf\n",
      "2006/8/28/Zwom.sgf\n",
      "2006/8/28/Zwom-ak2.sgf\n",
      "2006/8/24/Zwom.sgf\n",
      "2006/8/20/sarada-Zwom.sgf\n",
      "2006/8/14/minority-Zwom.sgf\n",
      "2006/7/9/Zwom-2.sgf\n",
      "2006/7/9/GenTsoChkn-Zwom.sgf\n",
      "2006/7/7/Zwom-nicat.sgf\n",
      "2006/7/20/Zwom.sgf\n",
      "2006/7/17/Zwom-al2.sgf\n",
      "2006/6/26/neas-Zwom.sgf\n",
      "2006/6/24/Greenfuse-Zwom.sgf\n",
      "2006/6/22/toxxicu-Zwom.sgf\n",
      "2006/6/13/Zwom-Ploum.sgf\n",
      "2006/5/12/tomm-Zwom.sgf\n",
      "2006/4/19/haos-Zwom.sgf\n",
      "2006/4/1/toyuta-Zwom.sgf\n",
      "2006/3/19/GenTsoChkn-Zwom.sgf\n",
      "2006/2/25/alkala-Zwom.sgf\n",
      "2006/2/11/xyz-pdirac.sgf\n",
      "2006/2/10/roger113-Zwom.sgf\n",
      "2006/2/10/roger113-Zwom.sgf\n",
      "2006/12/9/Zwom-static8358.sgf\n",
      "2006/12/9/Zwom-2.sgf\n",
      "2006/12/29/Bogoliubon-MSRL922.sgf\n",
      "2006/12/19/ja72-Bogoliubon.sgf\n",
      "2006/11/4/KlausB-Zwom.sgf\n",
      "2006/11/2/stoneshape-Bogoliubon.sgf\n",
      "2006/10/8/Bogoliubon-yumedama.sgf\n",
      "2006/10/20/Whatthe-Bogoliubon.sgf\n",
      "2006/10/17/Bogoliubon-2.sgf\n",
      "2006/10/11/zdli2002-Bogoliubon.sgf\n",
      "2005/9/13/Zwom-Fernando.sgf\n",
      "2005/9/10/Gofat-Zwom.sgf\n",
      "2005/7/22/Zwom-2.sgf\n",
      "2005/6/17/pdirac.sgf\n",
      "2005/6/17/Umag-pdirac.sgf\n",
      "2005/5/3/Zwom.sgf\n",
      "2005/5/28/Zwom-ronsuke3.sgf\n",
      "2005/12/10/Zwom-3.sgf\n",
      "2005/10/26/minotaur-Zwom.sgf\n"
     ]
    }
   ],
   "source": [
    "patterns=[]\n",
    "mygames=[]\n",
    "for i in games:\n",
    "    try:\n",
    "        corners=GetCorners(ReadGame(i.replace('.sgf','_clean.sgf')))\n",
    "    except IndexError:\n",
    "        continue\n",
    "    for j in corners:\n",
    "        a=GetSyms(j,src='list')\n",
    "        for k in a:\n",
    "            if k[0:3]==['W[cd]', 'B[ed]', 'W[gc]'] or k[0:3]==['B[cd]', 'W[ed]', 'B[gc]']:\n",
    "                print i\n",
    "                mygames.append(i)\n",
    "                patterns.append(k)"
   ]
  },
  {
   "cell_type": "code",
   "execution_count": 38,
   "metadata": {
    "collapsed": false
   },
   "outputs": [
    {
     "name": "stdout",
     "output_type": "stream",
     "text": [
      "['W[cd]', 'B[ed]', 'W[gc]', 'B[cc]', 'W[dc]', 'B[dd]', 'W[ec]', 'B[fc]', 'W[fd]', 'B[fb]', 'W[cb]', 'B[bc]', 'W[eb]', 'B[gb]', 'W[ce]', 'B[ea]', 'W[db]', 'B[df]', 'W[bb]', 'B[hc]', 'W[de]', 'B[ee]', 'W[ef]', 'B[fe]', 'W[ff]', 'B[ge]', 'W[dg]', 'B[gf]', 'B[ci]', 'B[bh]', 'B[cf]', 'W[bd]', 'B[be]', 'W[ac]', 'B[cg]']\n",
      "['W[cd]', 'B[ed]', 'W[gc]', 'B[cc]', 'W[cg]', 'B[dd]', 'W[bd]', 'B[eb]', 'W[jc]', 'B[bc]', 'B[ci]', 'B[eh]', 'W[ef]', 'W[cj]', 'B[ch]', 'W[dj]', 'B[ej]', 'W[eg]', 'B[id]', 'W[ic]', 'B[jd]', 'B[fe]', 'W[fh]', 'B[ei]', 'W[gf]', 'B[hd]', 'W[gd]', 'B[ge]', 'W[hh]', 'W[hf]', 'B[je]', 'W[gj]', 'W[bg]', 'B[hj]', 'B[ij]', 'B[gi]', 'W[fi]', 'B[fg]', 'W[gh]', 'B[ff]', 'W[bi]', 'B[bh]', 'W[ah]', 'B[bf]', 'W[cf]', 'B[ce]', 'W[be]', 'B[af]', 'W[de])']\n"
     ]
    }
   ],
   "source": [
    "for i in patterns:print i"
   ]
  },
  {
   "cell_type": "code",
   "execution_count": 127,
   "metadata": {
    "collapsed": false
   },
   "outputs": [],
   "source": [
    "\n",
    "def WritePatterns(patterns,mygames,path='./outputs/',name='test'):\n",
    "    header=\"(;GM[1]FF[4]CA[UTF-8]ST[2]SZ[19]\"\n",
    "    for i,game in zip(patterns,mygames):\n",
    "        if len(i)==0:continue\n",
    "        tmp='(;C['+game+']'\n",
    "        for j in i[:-1]:\n",
    "            j=j.replace(')','')\n",
    "            j=j.replace('(','')\n",
    "            tmp+=j+';'\n",
    "        i[-1]=i[-1].replace('(','')\n",
    "        tmp+=i[-1].replace(')','')   \n",
    "        tmp+=')\\n'\n",
    "        header+=tmp\n",
    "    f=open(path+name+'.sgf','w')\n",
    "    f.write(header+')')\n",
    "    f.close()"
   ]
  },
  {
   "cell_type": "code",
   "execution_count": 84,
   "metadata": {
    "collapsed": false
   },
   "outputs": [
    {
     "data": {
      "text/plain": [
       "234"
      ]
     },
     "execution_count": 84,
     "metadata": {},
     "output_type": "execute_result"
    }
   ],
   "source": [
    "len(patterns)"
   ]
  },
  {
   "cell_type": "code",
   "execution_count": 128,
   "metadata": {
    "collapsed": false
   },
   "outputs": [],
   "source": [
    "WritePatterns(patterns,mygames)"
   ]
  },
  {
   "cell_type": "code",
   "execution_count": 82,
   "metadata": {
    "collapsed": false
   },
   "outputs": [
    {
     "name": "stdout",
     "output_type": "stream",
     "text": [
      "['B[cd]', 'W[ed]', 'B[gc]', 'W[cc]', 'B[bc]', 'W[dc]', 'B[cg]', 'W[ge]', 'B[jc](', 'W[gd]', 'B[hc]', 'B[fg]', 'W[be]', 'B[bd]', 'W[ce]', 'B[de]', 'W[dd]', 'B[cf]', 'W[df]', 'B[bf]', 'W[eg]', 'B[ae]', 'W[fh]', 'B[eh]', 'W[ei]', 'B[dh]', 'W[gg]', 'B[ff]', 'W[gf]', 'B[fi]', 'W[gh]', 'B[ef]', 'W[fj]', 'B[gi](', 'B[gj]', 'W[ej]', 'W[hj]', 'W[ij]', 'W[hi]', 'W[ci]', 'B[di]', 'W[dj]', 'B[cj]', 'W[bj]', 'W[cj]', 'B[aj]', 'W[ai]', 'B[je]', 'W[hi]', 'B[gj]', 'B[ej]', 'W[hj]', 'B[di]', 'W[hj]', 'B[ej]', 'W[be]', 'B[bd]', 'W[ce]', 'B[de]))']\n"
     ]
    }
   ],
   "source": [
    "print patterns[47]"
   ]
  },
  {
   "cell_type": "code",
   "execution_count": null,
   "metadata": {
    "collapsed": true
   },
   "outputs": [],
   "source": []
  }
 ],
 "metadata": {
  "kernelspec": {
   "display_name": "Python 2",
   "language": "python",
   "name": "python2"
  },
  "language_info": {
   "codemirror_mode": {
    "name": "ipython",
    "version": 2
   },
   "file_extension": ".py",
   "mimetype": "text/x-python",
   "name": "python",
   "nbconvert_exporter": "python",
   "pygments_lexer": "ipython2",
   "version": "2.7.11"
  }
 },
 "nbformat": 4,
 "nbformat_minor": 0
}
