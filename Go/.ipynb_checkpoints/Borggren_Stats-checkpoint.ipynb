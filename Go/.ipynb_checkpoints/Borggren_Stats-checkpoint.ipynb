{
 "cells": [
  {
   "cell_type": "code",
   "execution_count": 3,
   "metadata": {
    "collapsed": true
   },
   "outputs": [],
   "source": [
    "from ROOT import TH1F"
   ]
  },
  {
   "cell_type": "code",
   "execution_count": 2,
   "metadata": {
    "collapsed": true
   },
   "outputs": [],
   "source": [
    "def ReadGame(game,path='./GoDat/KGS/'):\n",
    "    g=open(path+game)\n",
    "    return g.read()"
   ]
  },
  {
   "cell_type": "code",
   "execution_count": 4,
   "metadata": {
    "collapsed": false
   },
   "outputs": [
    {
     "name": "stdout",
     "output_type": "stream",
     "text": [
      "5508 7229\n"
     ]
    }
   ],
   "source": [
    "f=open('./GoDat/KGS/Borggren.games')\n",
    "mygames=f.read().split('\\n')\n",
    "games = [i for i in mygames if i.find('.sgf')>0]\n",
    "myana = [i for i in mygames if i.find('/Bogoliubon.sgf')>0]\n",
    "print len(games),len(mygames)"
   ]
  },
  {
   "cell_type": "code",
   "execution_count": 9,
   "metadata": {
    "collapsed": false
   },
   "outputs": [
    {
     "data": {
      "text/plain": [
       "['2004/10/23/plush-Zwom.sgf',\n",
       " '2004/10/23/tornados-Zwom.sgf',\n",
       " '2004/10/24/Crossroads-Zwom.sgf',\n",
       " '2004/10/24/eminent-Zwom.sgf',\n",
       " '2004/10/24/v0nnie-Zwom.sgf',\n",
       " '2004/10/27/Zwom-NewbieBoy.sgf',\n",
       " '2004/10/27/impu1se-Zwom.sgf',\n",
       " '2004/10/27/spiffster-Zwom.sgf',\n",
       " '2004/10/28/mrkibbles-Zwom.sgf',\n",
       " '2004/10/28/vpoint-Zwom-2.sgf']"
      ]
     },
     "execution_count": 9,
     "metadata": {},
     "output_type": "execute_result"
    }
   ],
   "source": [
    "games[0:10]"
   ]
  },
  {
   "cell_type": "code",
   "execution_count": 13,
   "metadata": {
    "collapsed": false
   },
   "outputs": [
    {
     "data": {
      "text/plain": [
       "\"(;GM[1]FF[4]CA[UTF-8]\\nRU[Japanese]SZ[19]HA[4]KM[0.50]TM[1800]OT[5x30 byo-yomi]\\nPW[Zwom]PB[alphamike]WR[22k]BR[26k]DT[2004-11-12]PC[The Kiseido Go Server (KGS) at http://kgs.kiseido.com/]AB[dd][pd][dp][pp]C[alphamike [26k\\\\]: hallo\\n]RE[B+80.50]\\n;W[nq]CR[nq]WL[1941.866]\\n;B[oq]CR[oq]BL[1946.496]\\n;W[np]CR[np]WL[1940.552]\\n;B[pn]CR[pn]BL[1944.979]\\n;W[jp]CR[jp]WL[1939.448]\\n;B[hp]CR[hp]BL[1942.519]\\n;W[iq]CR[iq]WL[1931.102]\\n;B[hq]CR[hq]BL[1939.716]\\n;W[cf]CR[cf]WL[1928.451]\\n;B[ce]CR[ce]BL[1936.711]\\n;W[df]CR[df]WL[1927.049]\\n;B[fd]CR[fd]BL[1935.220]\\n;W[dj]CR[dj]WL[1925.741]\\n;B[dl]CR[dl]BL[1932.295]\\n;W[ek]CR[ek]WL[1923.372]\\n;B[ck]CR[ck]BL[1930.723]\\n;W[cj]CR[cj]WL[1921.010]\\n;B[bk]CR[bk]BL[1929.047]\\n;W[bj]CR[bj]WL[1919.394]\\n;B[bf]CR[bf]BL[1926.495]\\n;W[bg]CR[bg]WL[1917.407]\\n;B[be]CR[be]BL[1925.164]\\n;W[fm]CR[fm]WL[1897.580]\\n;B[en]CR[en]BL[1922.252]\\n;W[dm]CR[dm]WL[1880.096]\\n;B[em]CR[em]BL[1918.454]\\n;W[el]CR[el]WL[1878.835]\\n;B[cm]CR[cm]BL[1916.182]\\n;W[fn]CR[fn]WL[1872.351]\\n;B[fo]CR[fo]BL[1912.253]\\n;W[dn]CR[dn]WL[1866.818]\\n;B[eo]CR[eo]BL[1910.839]\\n;W[cn]CR[cn]WL[1865.158]\\n;B[bm]CR[bm]BL[1907.398]\\n;W[bn]CR[bn]WL[1858.187]\\n;B[bo]CR[bo]BL[1905.984]\\n;W[dk]CR[dk]WL[1849.187]\\n;B[an]CR[an]BL[1902.971]\\n;W[cl]CR[cl]WL[1845.211]\\n;B[am]CR[am]BL[1901.158]\\n;W[bl]CR[bl]WL[1842.035]\\n;B[pj]CR[pj]BL[1892.515]\\n;W[nc]CR[nc]WL[1836.013]\\n;B[oc]CR[oc]BL[1891.036]\\n;W[nd]CR[nd]WL[1834.367]\\n;B[pf]CR[pf]BL[1886.681]\\n;W[jd]CR[jd]WL[1833.019]\\n;B[ic]CR[ic]BL[1883.859]\\n;W[jc]CR[jc]WL[1831.407]\\n;B[ib]CR[ib]BL[1881.990]\\n;W[jb]CR[jb]WL[1824.864]\\n;B[nf]CR[nf]BL[1880.818]\\n;W[mf]CR[mf]WL[1821.018]\\n;B[mg]CR[mg]BL[1879.205]\\n;W[lf]CR[lf]WL[1812.662]\\n;B[mh]CR[mh]BL[1877.456]\\n;W[he]CR[he]WL[1803.573]\\n;B[hd]CR[hd]BL[1875.545]\\n;W[ff]CR[ff]WL[1800.374]\\n;B[ge]CR[ge]BL[1873.792]\\n;W[gf]CR[gf]WL[1796.452]\\n;B[hf]CR[hf]BL[1872.285]\\n;W[ie]CR[ie]WL[1794.101]\\n;B[al]CR[al]BL[1864.078]\\n;W[ak]CR[ak]WL[1791.136]\\n;B[ao]CR[ao]BL[1862.170]\\n;W[kh]CR[kh]WL[1784.831]\\n;B[lj]CR[lj]BL[1859.023]\\n;W[kj]CR[kj]WL[1778.781]\\n;B[lk]CR[lk]BL[1857.147]\\n;W[kk]CR[kk]WL[1777.293]\\n;B[km]CR[km]BL[1855.743]\\n;W[jm]CR[jm]WL[1769.758]\\n;B[kl]CR[kl]BL[1853.208]\\n;W[jl]CR[jl]WL[1768.950]\\n;B[kn]CR[kn]BL[1851.336]\\n;W[co]CR[co]WL[1751.099]\\n;B[bp]CR[bp]BL[1841.953]\\n;W[cp]CR[cp]WL[1749.245]\\n;B[bq]CR[bq]BL[1839.656]\\n;W[cq]CR[cq]WL[1747.967]\\n;B[cr]CR[cr]BL[1832.416]\\n;W[dr]CR[dr]WL[1744.307]\\n;B[cs]CR[cs]BL[1828.733]\\n;W[ds]CR[ds]WL[1741.747]\\n;B[ar]CR[ar]BL[1828.043]\\n;W[dq]CR[dq]WL[1732.656]\\n;B[eq]CR[eq]BL[1818.760]\\n;W[in]CR[in]WL[1721.572]\\n;B[er]CR[er]BL[1815.836]\\n;W[nn]CR[nn]WL[1718.165]\\n;B[ol]CR[ol]BL[1812.751]\\n;W[nl]CR[nl]WL[1716.476]\\n;B[nk]CR[nk]BL[1811.136]\\n;W[om]CR[om]WL[1698.978]\\n;B[ml]CR[ml]BL[1809.364]\\n;W[nm]CR[nm]WL[1696.777]\\n;B[ok]CR[ok]BL[1808.248]\\n;W[pm]CR[pm]WL[1693.245]\\n;B[qm]CR[qm]BL[1806.416]\\n;W[pl]CR[pl]WL[1691.674]\\n;B[qk]CR[qk]BL[1805.046]\\n;W[ql]CR[ql]WL[1690.659]\\n;B[rl]CR[rl]BL[1803.738]\\n;W[po]CR[po]WL[1677.513]\\n;B[qn]CR[qn]BL[1801.927]\\n;W[qo]CR[qo]WL[1670.854]\\n;B[qp]CR[qp]BL[1800.036]\\n;W[ro]CR[ro]WL[1657.873]\\n;B[rm]CR[rm]BL[1798.191]\\n;W[rp]CR[rp]WL[1653.474]\\n;B[rq]CR[rq]BL[1795.628]\\n;W[op]CR[op]WL[1650.099]\\n;B[or]CR[or]BL[1792.692]\\n;W[nr]CR[nr]WL[1634.788]\\n;B[os]CR[os]BL[1788.927]\\n;W[ns]CR[ns]WL[1625.949]\\n;B[qr]CR[qr]BL[1787.990]\\n;W[pq]CR[pq]WL[1623.883]\\n;B[qq]CR[qq]BL[1786.296]\\n;W[sq]CR[sq]WL[1615.558]\\n;B[sr]CR[sr]BL[1782.132]\\n;W[pr]CR[pr]WL[1603.528]\\n;B[ps]CR[ps]BL[1780.446]\\n;W[sp]CR[sp]WL[1590.271]\\n;B[ip]CR[ip]BL[1766.289]\\n;W[jo]CR[jo]WL[1576.302]\\n;B[ir]CR[ir]BL[1764.746]\\n;W[jq]CR[jq]WL[1574.693]\\n;B[jr]CR[jr]BL[1763.740]\\n;W[kr]CR[kr]WL[1573.171]\\n;B[es]CR[es]BL[1760.259]\\n;W[js]CR[js]WL[1553.251]\\n;B[is]CR[is]BL[1758.143]\\n;W[hr]CR[hr]WL[1549.113]\\n;B[ks]CR[ks]BL[1756.610]\\n;W[ls]CR[ls]WL[1547.221]\\n;B[gr]CR[gr]BL[1751.357]\\n;W[js]CR[js]WL[1544.649]\\n;B[hs]CR[hs]BL[1750.039]\\n;W[ks]CR[ks]WL[1542.515]\\n;B[do]CR[do]BL[1748.592]\\n;W[go]CR[go]WL[1535.125]\\n;B[dl]CR[dl]BL[1746.747]C[Zwom [22k\\\\]: that's what I get for not paying attention\\nalphamike [26k\\\\]: ;-)\\n]\\n;W[gp]CR[gp]WL[1489.973]\\n;B[gq]CR[gq]BL[1734.962]\\n;W[hg]CR[hg]WL[1476.497]\\n;B[if]CR[if]BL[1732.892]\\n;W[jf]CR[jf]WL[1475.129]\\n;B[id]CR[id]BL[1728.604]\\n;W[je]CR[je]WL[1472.011]\\n;B[ho]CR[ho]BL[1727.618]\\n;W[hn]CR[hn]WL[1470.146]\\n;B[gn]CR[gn]BL[1726.329]\\n;W[gm]CR[gm]WL[1468.954]\\n;B[fp]CR[fp]BL[1724.956]\\n;W[gn]CR[gn]WL[1468.220]\\n;B[jk]CR[jk]BL[1720.895]\\n;W[jj]CR[jj]WL[1464.311]\\n;B[ik]CR[ik]BL[1719.462]\\n;W[ij]CR[ij]WL[1461.472]\\n;B[hk]CR[hk]BL[1717.380]\\n;W[hj]CR[hj]WL[1460.144]\\n;B[jn]CR[jn]BL[1716.242]\\n;W[im]CR[im]WL[1452.467]\\n;B[ko]CR[ko]BL[1714.077]\\n;W[gk]CR[gk]WL[1451.288]\\n;B[kq]CR[kq]BL[1712.870]\\n;W[kp]CR[kp]WL[1443.854]\\n;B[lq]CR[lq]BL[1711.100]\\n;W[ms]CR[ms]WL[1432.418]\\n;B[lp]CR[lp]BL[1708.347]\\n;W[io]CR[io]WL[1430.993]\\n;B[lo]CR[lo]BL[1705.259]\\n;W[mo]CR[mo]WL[1403.834]\\n;B[mn]CR[mn]BL[1701.721]\\n;W[mp]CR[mp]WL[1399.125]\\n;B[mr]CR[mr]BL[1694.818]\\n;W[on]CR[on]WL[1384.060]\\n;B[mm]CR[mm]BL[1689.094]\\n;W[rn]CR[rn]WL[1380.969]\\n;B[sn]CR[sn]BL[1684.175]\\n;W[pk]CR[pk]WL[1370.867]\\n;B[qj]CR[qj]BL[1669.822]\\n;W[li]CR[li]WL[1344.608]\\n;B[mi]CR[mi]BL[1667.718]\\n;W[so]CR[so]WL[1254.500]\\n;B[sk]CR[sk]BL[1663.864]C[Zwom [22k\\\\]: alright I don't think you needed for stones against me.\\n]\\n;W[qc]CR[qc]WL[1225.144]\\n;B[qd]CR[qd]BL[1661.557]\\n;W[pc]CR[pc]WL[1220.120]\\n;B[od]CR[od]BL[1659.781]\\n;W[ob]CR[ob]WL[1218.649]\\n;B[rc]CR[rc]BL[1656.956]\\n;W[rb]CR[rb]WL[1201.330]C[alphamike [26k\\\\]: well one day I will be 22k\\n]\\n;B[sc]CR[sc]BL[1650.322]C[Zwom [22k\\\\]: someday soon even\\n]\\n;W[sb]CR[sb]WL[1189.044]C[alphamike [26k\\\\]: by that time you will be 18k and I get four stones again\\nalphamike [26k\\\\]: ...... maybe\\n]\\n;B[re]CR[re]BL[1617.411]\\n;W[af]CR[af]WL[1176.863]\\n;B[ae]CR[ae]BL[1614.536]\\n;W[ag]CR[ag]WL[1173.320]\\n;B[ia]CR[ia]BL[1609.105]\\n;W[ja]CR[ja]WL[1171.427]\\n;B[cc]CR[cc]BL[1607.335]\\n;W[de]CR[de]WL[1167.300]\\n;B[ed]CR[ed]BL[1605.120]\\n;W[fe]CR[fe]WL[1165.764]\\n;B[gd]CR[gd]BL[1603.045]\\n;W[ee]CR[ee]WL[1164.838]\\n;B[me]CR[me]BL[1601.517]\\n;W[ne]CR[ne]WL[1161.547]\\n;B[lh]CR[lh]BL[1599.381]\\n;W[ki]CR[ki]WL[1158.116]\\n;B[of]CR[of]BL[1593.379]\\n;W[oe]CR[oe]WL[1154.047]\\n;B[pe]CR[pe]BL[1591.924]\\n;W[lg]CR[lg]WL[1149.801]\\n;B[ld]CR[ld]BL[1587.932]\\n;W[md]CR[md]WL[1136.934]\\n;B[le]CR[le]BL[1584.013]\\n;W[nb]CR[nb]WL[1122.463]\\n;B[cg]CR[cg]BL[1533.484]\\n;W[ch]CR[ch]WL[1118.560]\\n;B[dg]CR[dg]BL[1531.978]\\n;W[eg]CR[eg]WL[1116.637]\\n;B[qa]CR[qa]BL[1512.387]\\n;W[qb]CR[qb]WL[1108.724]\\n;B[]BL[1512.387]\\n;W[rg]CR[rg]WL[1079.338]\\n;B[rh]CR[rh]BL[1506.104]\\n;W[ri]CR[ri]WL[1064.680]\\n;B[qh]CR[qh]BL[1486.662]\\n;W[qi]CR[qi]WL[1049.581]\\n;B[pi]CR[pi]BL[1483.927]\\n;W[sj]CR[sj]WL[1033.432]\\n;B[rj]CR[rj]BL[1477.379]\\n;W[sm]CR[sm]WL[1031.326]\\n;B[si]CR[si]BL[1471.875]\\n;W[sl]CR[sl]WL[1026.639]\\n;B[rk]CR[rk]BL[1469.303]\\n;W[rs]CR[rs]WL[1020.618]\\n;B[qs]CR[qs]BL[1444.608]\\n;W[dm]CR[dm]WL[999.707]\\n;B[dn]CR[dn]BL[1441.587]\\n;W[dl]CR[dl]WL[998.824]\\n;B[lc]CR[lc]BL[1422.708]\\n;W[lb]CR[lb]WL[982.615]\\n;B[]BL[1422.708]\\n;W[]WL[982.615]TW[ka][la][ma][na][oa][pa][qa][ra][sa][kb][mb][pb][kc][lc][mc][kd][ld][ke][le][me][ef][hf][if][kf][cg][dg][fg][gg][ig][jg][kg][ah][bh][dh][eh][fh][gh][hh][ih][jh][ai][bi][ci][di][ei][fi][gi][hi][ii][ji][aj][ej][fj][gj][bk][ck][fk][hk][ik][jk][fl][gl][hl][il][hm]TB[aa][ba][ca][da][ea][fa][ga][ha][ab][bb][cb][db][eb][fb][gb][hb][ac][bc][dc][ec][fc][gc][hc][ad][bd][cd][rd][sd][qe][se][qf][rf][sf][ng][og][pg][qg][rg][sg][nh][oh][ph][sh][ni][oi][qi][ri][mj][nj][oj][sj][mk][pk][ll][nl][pl][ql][sl][lm][nm][om][pm][sm][bn][cn][ln][nn][on][rn][sn][co][mo][no][oo][po][qo][ro][so][ap][cp][ep][mp][np][op][rp][sp][aq][cq][dq][fq][mq][nq][pq][sq][br][dr][fr][hr][kr][lr][nr][pr][rr][as][bs][ds][fs][gs][js][ks][ls][ms][ns][rs][ss]KGSDE[qa][lc][ld][le][me][hf][if][cg][dg][rg][hk][ik][jk][pk][nl][pl][ql][sl][nm][om][pm][sm][nn][on][rn][mo][po][qo][ro][so][mp][np][op][rp][sp][nq][sq][kr][nr][js][ks][ls][ms][ns][rs]C[alphamike [26k\\\\]: thx\\nZwom [22k\\\\]: fuck you\\nalphamike [26k\\\\]: for the game\\nalphamike [26k\\\\]: ;-)\\nalphamike [26k\\\\]: never mind\\n]KGSSW[84.50]KGSSB[165.00])\\n\""
      ]
     },
     "execution_count": 13,
     "metadata": {},
     "output_type": "execute_result"
    }
   ],
   "source": [
    "sgf=ReadGame(games[27])\n",
    "sgf"
   ]
  },
  {
   "cell_type": "code",
   "execution_count": 63,
   "metadata": {
    "collapsed": false
   },
   "outputs": [
    {
     "data": {
      "text/plain": [
       "('1k', '1k')"
      ]
     },
     "execution_count": 63,
     "metadata": {},
     "output_type": "execute_result"
    }
   ],
   "source": [
    "def GetKey(sgf,key='PW'):\n",
    "    a=sgf.find(key+'[')\n",
    "    b=sgf[a:].find(']')\n",
    "    return sgf[a+len(key)+1:a+b]\n",
    "\n",
    "def MyRank(sgf):\n",
    "    white=GetKey(sgf)\n",
    "    if white in ['Bogoliubon','Zwom','pdirac']:\n",
    "        return GetKey(sgf,key='WR')\n",
    "    elif GetKey(sgf,key='PB') in ['Bogoliubon','Zwom','pdirac']:\n",
    "        return GetKey(sgf,key='BR')\n",
    "    else:\n",
    "        return 'notmygame'\n",
    "    \n",
    "def WhoWon(sgf):\n",
    "    result=GetKey(sgf,'RE')\n",
    "    result=result.split('+')[0]\n",
    "    if result in ['B','W']:\n",
    "        return GetKey(sgf,key='P'+result)\n",
    "    \n",
    "def MyWin(name):\n",
    "    return int(name in ['Bogoliubon','Zwom','pdirac'])\n",
    "    \n",
    "GetKey(sgf,key='BR'),MyRank(sgf)"
   ]
  },
  {
   "cell_type": "code",
   "execution_count": 64,
   "metadata": {
    "collapsed": false
   },
   "outputs": [
    {
     "data": {
      "text/plain": [
       "('tf', 0)"
      ]
     },
     "execution_count": 64,
     "metadata": {},
     "output_type": "execute_result"
    }
   ],
   "source": [
    "WhoWon(sgf),MyWin(WhoWon(sgf))"
   ]
  },
  {
   "cell_type": "code",
   "execution_count": 20,
   "metadata": {
    "collapsed": true
   },
   "outputs": [],
   "source": [
    "RankDic={}\n",
    "for i in range(30):RankDic[str(i+1)+'k']=-(i+1)\n",
    "for i in range(9):RankDic[str(i+1)+'d']=i"
   ]
  },
  {
   "cell_type": "code",
   "execution_count": 21,
   "metadata": {
    "collapsed": false
   },
   "outputs": [
    {
     "data": {
      "text/plain": [
       "{'10k': -10,\n",
       " '11k': -11,\n",
       " '12k': -12,\n",
       " '13k': -13,\n",
       " '14k': -14,\n",
       " '15k': -15,\n",
       " '16k': -16,\n",
       " '17k': -17,\n",
       " '18k': -18,\n",
       " '19k': -19,\n",
       " '1d': 0,\n",
       " '1k': -1,\n",
       " '20k': -20,\n",
       " '21k': -21,\n",
       " '22k': -22,\n",
       " '23k': -23,\n",
       " '24k': -24,\n",
       " '25k': -25,\n",
       " '26k': -26,\n",
       " '27k': -27,\n",
       " '28k': -28,\n",
       " '29k': -29,\n",
       " '2d': 1,\n",
       " '2k': -2,\n",
       " '30k': -30,\n",
       " '3d': 2,\n",
       " '3k': -3,\n",
       " '4d': 3,\n",
       " '4k': -4,\n",
       " '5d': 4,\n",
       " '5k': -5,\n",
       " '6d': 5,\n",
       " '6k': -6,\n",
       " '7d': 6,\n",
       " '7k': -7,\n",
       " '8d': 7,\n",
       " '8k': -8,\n",
       " '9d': 8,\n",
       " '9k': -9}"
      ]
     },
     "execution_count": 21,
     "metadata": {},
     "output_type": "execute_result"
    }
   ],
   "source": [
    "RankDic"
   ]
  },
  {
   "cell_type": "code",
   "execution_count": 23,
   "metadata": {
    "collapsed": true
   },
   "outputs": [],
   "source": [
    "years=[str(i) for i in range(2017)[2004:]]\n",
    "months=[str(i+1) for i in range(12)]"
   ]
  },
  {
   "cell_type": "code",
   "execution_count": 31,
   "metadata": {
    "collapsed": false
   },
   "outputs": [
    {
     "name": "stdout",
     "output_type": "stream",
     "text": [
      "2004 1 0\n",
      "2004 2 0\n",
      "2004 3 0\n",
      "2004 4 0\n",
      "2004 5 0\n",
      "2004 6 0\n",
      "2004 7 0\n",
      "2004 8 0\n",
      "2004 9 0\n",
      "2004 10 11\n",
      "2004 11 158\n",
      "2004 12 119\n",
      "2005 1 141\n",
      "2005 2 293\n",
      "2005 3 221\n",
      "2005 4 132\n",
      "2005 5 116\n",
      "2005 6 113\n",
      "2005 7 45\n",
      "2005 8 77\n",
      "2005 9 72\n",
      "2005 10 85\n",
      "2005 11 83\n",
      "2005 12 70\n",
      "2006 1 97\n",
      "2006 2 71\n",
      "2006 3 80\n",
      "2006 4 61\n",
      "2006 5 91\n",
      "2006 6 63\n",
      "2006 7 90\n",
      "2006 8 72\n",
      "2006 9 58\n",
      "2006 10 74\n",
      "2006 11 71\n",
      "2006 12 67\n",
      "2007 1 42\n",
      "2007 2 33\n",
      "2007 3 33\n",
      "2007 4 87\n",
      "2007 5 46\n",
      "2007 6 24\n",
      "2007 7 39\n",
      "2007 8 43\n",
      "2007 9 40\n",
      "2007 10 24\n",
      "2007 11 45\n",
      "2007 12 28\n",
      "2008 1 16\n",
      "2008 2 30\n",
      "2008 3 22\n",
      "2008 4 31\n",
      "2008 5 52\n",
      "2008 6 42\n",
      "2008 7 40\n",
      "2008 8 106\n",
      "2008 9 63\n",
      "2008 10 104\n",
      "2008 11 27\n",
      "2008 12 60\n",
      "2009 1 53\n",
      "2009 2 31\n",
      "2009 3 81\n",
      "2009 4 49\n",
      "2009 5 33\n",
      "2009 6 77\n",
      "2009 7 43\n",
      "2009 8 38\n",
      "2009 9 28\n",
      "2009 10 26\n",
      "2009 11 43\n",
      "2009 12 26\n",
      "2010 1 20\n",
      "2010 2 5\n",
      "2010 3 5\n",
      "2010 4 11\n",
      "2010 5 21\n",
      "2010 6 7\n",
      "2010 7 7\n",
      "2010 8 0\n",
      "2010 9 0\n",
      "2010 10 1\n",
      "2010 11 0\n",
      "2010 12 3\n",
      "2011 1 1\n",
      "2011 2 16\n",
      "2011 3 18\n",
      "2011 4 25\n",
      "2011 5 68\n",
      "2011 6 66\n",
      "2011 7 31\n",
      "2011 8 33\n",
      "2011 9 7\n",
      "2011 10 62\n",
      "2011 11 79\n",
      "2011 12 110\n",
      "2012 1 18\n",
      "2012 2 19\n",
      "2012 3 75\n",
      "2012 4 77\n",
      "2012 5 7\n",
      "2012 6 5\n",
      "2012 7 7\n",
      "2012 8 4\n",
      "2012 9 5\n",
      "2012 10 42\n",
      "2012 11 4\n",
      "2012 12 2\n",
      "2013 1 10\n",
      "2013 2 9\n",
      "2013 3 11\n",
      "2013 4 28\n",
      "2013 5 5\n",
      "2013 6 11\n",
      "2013 7 1\n",
      "2013 8 84\n",
      "2013 9 23\n",
      "2013 10 14\n",
      "2013 11 44\n",
      "2013 12 14\n",
      "2014 1 4\n",
      "2014 2 5\n",
      "2014 3 20\n",
      "2014 4 7\n",
      "2014 5 10\n",
      "2014 6 5\n",
      "2014 7 1\n",
      "2014 8 4\n",
      "2014 9 6\n",
      "2014 10 1\n",
      "2014 11 4\n",
      "2014 12 4\n",
      "2015 1 2\n",
      "2015 2 0\n",
      "2015 3 0\n",
      "2015 4 3\n",
      "2015 5 0\n",
      "2015 6 0\n",
      "2015 7 22\n",
      "2015 8 1\n",
      "2015 9 0\n",
      "2015 10 2\n",
      "2015 11 0\n",
      "2015 12 35\n",
      "2016 1 17\n",
      "2016 2 4\n",
      "2016 3 0\n",
      "2016 4 0\n",
      "2016 5 0\n",
      "2016 6 0\n",
      "2016 7 0\n",
      "2016 8 0\n",
      "2016 9 0\n",
      "2016 10 0\n",
      "2016 11 0\n",
      "2016 12 0\n",
      "5508\n"
     ]
    }
   ],
   "source": [
    "gcnt=0\n",
    "grecord=[]\n",
    "for i in years:\n",
    "    for j in months:\n",
    "        ngames=len([k for k in games if k.find(i+'/'+j+'/')>-1])\n",
    "        print i,j,ngames\n",
    "        gcnt+=ngames\n",
    "        grecord.append(ngames)\n",
    "print gcnt"
   ]
  },
  {
   "cell_type": "code",
   "execution_count": 34,
   "metadata": {
    "collapsed": false
   },
   "outputs": [],
   "source": [
    "grecord=grecord[9:-10]"
   ]
  },
  {
   "cell_type": "code",
   "execution_count": 35,
   "metadata": {
    "collapsed": false
   },
   "outputs": [
    {
     "data": {
      "text/plain": [
       "137"
      ]
     },
     "execution_count": 35,
     "metadata": {},
     "output_type": "execute_result"
    }
   ],
   "source": [
    "len(grecord)"
   ]
  },
  {
   "cell_type": "code",
   "execution_count": 37,
   "metadata": {
    "collapsed": false
   },
   "outputs": [
    {
     "name": "stderr",
     "output_type": "stream",
     "text": [
      "TROOT::Append:0: RuntimeWarning: Replacing existing TH1: hist (Potential memory leak).\n"
     ]
    }
   ],
   "source": [
    "hist=TH1F(\"hist\",\"hist\",138,-0.5,137.5)\n",
    "for i,j in enumerate(grecord):\n",
    "    for k in range(j):\n",
    "        hist.Fill(i)"
   ]
  },
  {
   "cell_type": "code",
   "execution_count": 38,
   "metadata": {
    "collapsed": true
   },
   "outputs": [],
   "source": [
    "hist.Draw()"
   ]
  },
  {
   "cell_type": "code",
   "execution_count": 25,
   "metadata": {
    "collapsed": false
   },
   "outputs": [
    {
     "data": {
      "text/plain": [
       "5508"
      ]
     },
     "execution_count": 25,
     "metadata": {},
     "output_type": "execute_result"
    }
   ],
   "source": [
    "len(games)"
   ]
  },
  {
   "cell_type": "code",
   "execution_count": 90,
   "metadata": {
    "collapsed": true
   },
   "outputs": [],
   "source": [
    "ranktraj=[]\n",
    "mywin=[]\n",
    "handis=[]\n",
    "\n",
    "for i in games:\n",
    "    sgf=ReadGame(i)\n",
    "    try:\n",
    "        ranktraj.append(RankDic[MyRank(sgf)])\n",
    "        mywin.append(MyWin(WhoWon(sgf)))\n",
    "        tmp=GetKey(sgf,'HA')\n",
    "        if len(tmp) in range(25):handis.append(tmp)\n",
    "    except KeyError:\n",
    "        continue"
   ]
  },
  {
   "cell_type": "code",
   "execution_count": 66,
   "metadata": {
    "collapsed": false
   },
   "outputs": [],
   "source": [
    "import numpy as np\n",
    "import matplotlib.pyplot as plt\n",
    "ranktraj=np.array(ranktraj)\n",
    "mywin=np.array(mywin)\n",
    "%matplotlib inline"
   ]
  },
  {
   "cell_type": "code",
   "execution_count": 52,
   "metadata": {
    "collapsed": false
   },
   "outputs": [
    {
     "data": {
      "text/plain": [
       "[<matplotlib.lines.Line2D at 0x11b5ce6d0>]"
      ]
     },
     "execution_count": 52,
     "metadata": {},
     "output_type": "execute_result"
    },
    {
     "data": {
      "image/png": "[encoded data removed]",
      "text/plain": [
       "<matplotlib.figure.Figure at 0x1195a3dd0>"
      ]
     },
     "metadata": {},
     "output_type": "display_data"
    }
   ],
   "source": [
    "plt.plot(ranktraj)"
   ]
  },
  {
   "cell_type": "code",
   "execution_count": 46,
   "metadata": {
    "collapsed": false
   },
   "outputs": [
    {
     "data": {
      "text/plain": [
       "-1.02"
      ]
     },
     "execution_count": 46,
     "metadata": {},
     "output_type": "execute_result"
    }
   ],
   "source": [
    "ranktraj[-100:].mean()"
   ]
  },
  {
   "cell_type": "code",
   "execution_count": 48,
   "metadata": {
    "collapsed": false
   },
   "outputs": [
    {
     "data": {
      "text/plain": [
       "8"
      ]
     },
     "execution_count": 48,
     "metadata": {},
     "output_type": "execute_result"
    }
   ],
   "source": [
    "ranktraj.max()"
   ]
  },
  {
   "cell_type": "code",
   "execution_count": 69,
   "metadata": {
    "collapsed": false
   },
   "outputs": [
    {
     "data": {
      "text/plain": [
       "[<matplotlib.lines.Line2D at 0x11bb10650>]"
      ]
     },
     "execution_count": 69,
     "metadata": {},
     "output_type": "execute_result"
    },
    {
     "data": {
      "image/png": "[encoded data removed]",
      "text/plain": [
       "<matplotlib.figure.Figure at 0x11b8c0a50>"
      ]
     },
     "metadata": {},
     "output_type": "display_data"
    }
   ],
   "source": [
    "plt.plot(mywin[:25])"
   ]
  },
  {
   "cell_type": "code",
   "execution_count": 75,
   "metadata": {
    "collapsed": false
   },
   "outputs": [
    {
     "name": "stdout",
     "output_type": "stream",
     "text": [
      "1\n"
     ]
    }
   ],
   "source": [
    "streak=[1]\n",
    "current = mywin[0]\n",
    "print current\n",
    "for i in mywin[1:]:\n",
    "    if i==current:\n",
    "        streak[-1]+=1\n",
    "    else:\n",
    "        i=current\n",
    "        streak.append(1)"
   ]
  },
  {
   "cell_type": "code",
   "execution_count": 76,
   "metadata": {
    "collapsed": false
   },
   "outputs": [
    {
     "data": {
      "text/plain": [
       "(5402, 5402)"
      ]
     },
     "execution_count": 76,
     "metadata": {},
     "output_type": "execute_result"
    }
   ],
   "source": [
    "len(mywin),len(ranktraj)"
   ]
  },
  {
   "cell_type": "code",
   "execution_count": 79,
   "metadata": {
    "collapsed": false
   },
   "outputs": [],
   "source": [
    "wins=[j for i,j in enumerate(streak) if i%2==0]\n",
    "losses=[j for i,j in enumerate(streak) if i%2==1]"
   ]
  },
  {
   "cell_type": "code",
   "execution_count": 80,
   "metadata": {
    "collapsed": false
   },
   "outputs": [
    {
     "data": {
      "text/plain": [
       "15"
      ]
     },
     "execution_count": 80,
     "metadata": {},
     "output_type": "execute_result"
    }
   ],
   "source": [
    "max(wins)"
   ]
  },
  {
   "cell_type": "code",
   "execution_count": 81,
   "metadata": {
    "collapsed": false
   },
   "outputs": [
    {
     "data": {
      "text/plain": [
       "12"
      ]
     },
     "execution_count": 81,
     "metadata": {},
     "output_type": "execute_result"
    }
   ],
   "source": [
    "max(losses)"
   ]
  },
  {
   "cell_type": "code",
   "execution_count": 83,
   "metadata": {
    "collapsed": false
   },
   "outputs": [
    {
     "data": {
      "text/plain": [
       "[<matplotlib.lines.Line2D at 0x11d9e1550>]"
      ]
     },
     "execution_count": 83,
     "metadata": {},
     "output_type": "execute_result"
    },
    {
     "data": {
      "image/png": "[encoded data removed]",
      "text/plain": [
       "<matplotlib.figure.Figure at 0x11bf3b3d0>"
      ]
     },
     "metadata": {},
     "output_type": "display_data"
    }
   ],
   "source": [
    "plt.plot(wins)"
   ]
  },
  {
   "cell_type": "code",
   "execution_count": 85,
   "metadata": {
    "collapsed": false
   },
   "outputs": [
    {
     "data": {
      "text/plain": [
       "(2.0252600297176819, 1.9895910780669146)"
      ]
     },
     "execution_count": 85,
     "metadata": {},
     "output_type": "execute_result"
    }
   ],
   "source": [
    "np.mean(wins),np.mean(losses)"
   ]
  },
  {
   "cell_type": "code",
   "execution_count": 87,
   "metadata": {
    "collapsed": false
   },
   "outputs": [
    {
     "data": {
      "text/plain": [
       "False"
      ]
     },
     "execution_count": 87,
     "metadata": {},
     "output_type": "execute_result"
    }
   ],
   "source": [
    "GetKey(sgf,'HA') in range(25)"
   ]
  },
  {
   "cell_type": "code",
   "execution_count": 95,
   "metadata": {
    "collapsed": false
   },
   "outputs": [],
   "source": [
    "handis=[int(i) for i in handis]"
   ]
  },
  {
   "cell_type": "code",
   "execution_count": 99,
   "metadata": {
    "collapsed": false
   },
   "outputs": [
    {
     "data": {
      "text/plain": [
       "(array([ 481.,  259.,  139.,   64.,   55.,   12.,   12.,   57.]),\n",
       " array([ 2.   ,  2.875,  3.75 ,  4.625,  5.5  ,  6.375,  7.25 ,  8.125,  9.   ]),\n",
       " <a list of 8 Patch objects>)"
      ]
     },
     "execution_count": 99,
     "metadata": {},
     "output_type": "execute_result"
    },
    {
     "data": {
      "image/png": "[encoded data removed]",
      "text/plain": [
       "<matplotlib.figure.Figure at 0x11da4a150>"
      ]
     },
     "metadata": {},
     "output_type": "display_data"
    }
   ],
   "source": [
    "plt.hist(handis,bins=8)"
   ]
  },
  {
   "cell_type": "code",
   "execution_count": 97,
   "metadata": {
    "collapsed": false
   },
   "outputs": [
    {
     "data": {
      "text/plain": [
       "{2, 3, 4, 5, 6, 7, 8, 9}"
      ]
     },
     "execution_count": 97,
     "metadata": {},
     "output_type": "execute_result"
    }
   ],
   "source": [
    "set(handis)"
   ]
  },
  {
   "cell_type": "code",
   "execution_count": null,
   "metadata": {
    "collapsed": true
   },
   "outputs": [],
   "source": []
  }
 ],
 "metadata": {
  "kernelspec": {
   "display_name": "Python 2",
   "language": "python",
   "name": "python2"
  },
  "language_info": {
   "codemirror_mode": {
    "name": "ipython",
    "version": 2
   },
   "file_extension": ".py",
   "mimetype": "text/x-python",
   "name": "python",
   "nbconvert_exporter": "python",
   "pygments_lexer": "ipython2",
   "version": "2.7.11"
  }
 },
 "nbformat": 4,
 "nbformat_minor": 0
}
