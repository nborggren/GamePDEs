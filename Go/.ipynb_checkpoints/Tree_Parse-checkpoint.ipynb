{
 "cells": [
  {
   "cell_type": "code",
   "execution_count": 57,
   "metadata": {
    "collapsed": false
   },
   "outputs": [
    {
     "name": "stdout",
     "output_type": "stream",
     "text": [
      "5271 7229\n"
     ]
    }
   ],
   "source": [
    "import os\n",
    "\n",
    "def GetMoves(sgf):\n",
    "    tmp=''\n",
    "    for i,j in enumerate(sgf):\n",
    "        if j=='(':\n",
    "            tmp+=GetMoves(sgf[i:])\n",
    "        elif j==')':\n",
    "            tmp+=j\n",
    "            return tmp\n",
    "        else:\n",
    "            tmp+=j\n",
    "    return tmp\n",
    "\n",
    "def ReadGame(game,path='./GoDat/KGS/'):\n",
    "    g=open(path+game)\n",
    "    return g.read()\n",
    "\n",
    "def StripComments(game,path='/Users/nborggren/Codes/GamePDEs/Go/GoDat/KGS/'):\n",
    "    os.system('perl CommentFilter.pl '+path+game+' '+path+game.replace('.sgf','_nocom.sgf'))\n",
    "    \n",
    "def GetKey(sgf,key='PW'):\n",
    "    a=sgf.find(key+'[')\n",
    "    b=sgf[a:].find(']')\n",
    "    return sgf[a+len(key)+1:a+b]  \n",
    "\n",
    "def StripKey(sgf,key='CR'):\n",
    "    while sgf.find(key+'[')>0:\n",
    "        tmp=GetKey(sgf,key=key)\n",
    "        sgf=sgf.replace(key+'['+tmp+']','')\n",
    "    return sgf\n",
    "\n",
    "def CleanSGF(game,path='/Users/nborggren/Codes/GamePDEs/Go/GoDat/KGS/'):\n",
    "    StripComments(game)\n",
    "    sgf=ReadGame(game.replace('.sgf','_nocom.sgf'))\n",
    "    for i in ['CR','WL','BL','OB','OW','C']:\n",
    "        sgf=StripKey(sgf,key=i)\n",
    "    g=open(path+game.replace('.sgf','_clean.sgf'),'w')\n",
    "    g.write(sgf)\n",
    "    \n",
    "\n",
    "f=open('./GoDat/KGS/Borggren.games')\n",
    "mygames=f.read().split('\\n')\n",
    "games = [i for i in mygames if i.find('.sgf')>0 and i.find('/Bogoliubon.sgf')<0]\n",
    "myana = [i for i in mygames if i.find('/Bogoliubon.sgf')>0]\n",
    "print len(games),len(mygames)\n",
    "games.reverse()"
   ]
  },
  {
   "cell_type": "code",
   "execution_count": 5,
   "metadata": {
    "collapsed": false
   },
   "outputs": [],
   "source": [
    "games.reverse()"
   ]
  },
  {
   "cell_type": "code",
   "execution_count": 7,
   "metadata": {
    "collapsed": false
   },
   "outputs": [],
   "source": [
    "sgf=ReadGame(games[0])"
   ]
  },
  {
   "cell_type": "code",
   "execution_count": 8,
   "metadata": {
    "collapsed": false
   },
   "outputs": [
    {
     "name": "stdout",
     "output_type": "stream",
     "text": [
      "(;GM[1]FF[4]CA[UTF-8]AP[CGoban:3]ST[2]\n",
      "RU[Japanese]SZ[19]KM[6.50]TM[600]OT[5x40 byo-yomi]\n",
      "PW[Bogoliubon]PB[tf]WR[1k]BR[1k]DT[2016-02-24]PC[The KGS Go Server at http://www.gokgs.com/]C[tf [1k\\]: gg\n",
      "Bogoliubon [1k\\]: hello\n",
      "]RE[B+Resign]\n",
      ";B[pd]BL[594.971]C[Bogoliubon [1k\\]: you too\n",
      "]\n",
      ";W[dp]WL[595.166]\n",
      ";B[pp]BL[591.804]\n",
      ";W[dc]WL[591.429]\n",
      ";B[de]BL[583.597]\n",
      ";W[ce]WL[578.434]\n",
      ";B[dd]BL[576.991]\n",
      ";W[cd]WL[575.075]\n",
      ";B[ec]BL[576.342]\n",
      ";W[cf]WL[558.182]\n",
      ";B[db]BL[574.355]\n",
      ";W[cc]WL[556.579]\n",
      ";B[jc]BL[573.589]\n",
      ";W[nq]WL[518.558]\n",
      ";B[kp]BL[558.384]\n",
      ";W[no]WL[473.748]\n",
      ";B[pn]BL[547.169]\n",
      ";W[pr]WL[471.679]\n",
      ";B[qq]BL[541.444]\n",
      ";W[kr]WL[469.681]\n",
      ";B[qk]BL[540.433]\n",
      ";W[qf]WL[463.26]\n",
      ";B[qh]BL[529.959]\n",
      ";W[qc]WL[458.875]\n",
      ";B[pc]BL[526.683]\n",
      ";W[qd]WL[456.531]\n",
      ";B[pe]BL[525.706]\n",
      ";W[rf]WL[454.596]\n",
      ";B[og]BL[525]\n",
      ";W[fc]WL[451.855]\n",
      ";B[ed]BL[450.197]\n",
      ";W[fb]WL[428.26]\n",
      ";B[eb]BL[448.495]\n",
      ";W[df]WL[423.273]\n",
      ";B[fd]BL[445.608]\n",
      ";W[ke]WL[418.305]\n",
      ";B[ld]BL[432.425]\n",
      ";W[pl]WL[415.033]\n",
      ";B[ql]BL[430.263]\n",
      ";W[cn]WL[372.689]\n",
      ";B[fq]BL[407.454]\n",
      ";W[eq]WL[366.606]\n",
      ";B[fp]BL[405.088]\n",
      ";W[jq]WL[359.909]\n",
      ";B[mp]BL[394.449]\n",
      ";W[np]WL[358.138]\n",
      ";B[lr]BL[392.091]\n",
      ";W[lq]WL[345.519]\n",
      ";B[kq]BL[386.222]\n",
      ";W[mr]WL[343.439]\n",
      ";B[jr]BL[384.614]\n",
      ";W[ls]WL[342.085]\n",
      ";B[iq]BL[383.773]\n",
      ";W[dk]WL[330.386]\n",
      ";B[em]BL[277.696]\n",
      ";W[en]WL[270.908]\n",
      ";B[fn]BL[273.365]\n",
      ";W[fm]WL[267.985]\n",
      ";B[el]BL[169.323]\n",
      ";W[gm]WL[262.176]\n",
      ";B[dn]BL[132.125]\n",
      ";W[eo]WL[257.866]\n",
      ";B[fo]BL[130.472]\n",
      ";W[do]WL[237.685]\n",
      ";B[cm]BL[74.309]\n",
      ";W[dm]WL[234.727]\n",
      ";B[dl]BL[66.89]\n",
      ";W[cl]WL[232.259]\n",
      ";B[ek]BL[53.22]\n",
      ";W[bm]WL[210.526]\n",
      ";B[dj]BL[46.33]\n",
      ";W[ck]WL[208.603]\n",
      ";B[ej]BL[41.485]\n",
      ";W[im]WL[199.21]\n",
      ";B[ij]BL[40]OB[5]\n",
      ";W[gj]WL[166.427]\n",
      ";B[gk]BL[40]OB[5]\n",
      ";W[jp]WL[150.856]\n",
      ";B[jo]BL[40]OB[5]\n",
      ";W[ip]WL[149.61]\n",
      ";B[hp]BL[40]OB[5]\n",
      ";W[gn]WL[145.597]\n",
      ";B[io]BL[40]OB[5]\n",
      ";W[hk]WL[139.981]\n",
      ";B[hj]BL[40]OB[5]\n",
      ";W[ik]WL[129.289]\n",
      ";B[gi]BL[40]OB[5]\n",
      ";W[ff]WL[118.953]\n",
      ";B[gf]BL[40]OB[5]\n",
      ";W[jj]WL[115.138]\n",
      ";B[ji]BL[40]OB[5]\n",
      ";W[ki]WL[111.853]\n",
      ";B[kj]BL[40]OB[5]\n",
      ";W[jk]WL[108.716]\n",
      ";B[jh]BL[40]OB[5]\n",
      ";W[kh]WL[105.897]\n",
      ";B[jg]BL[40]OB[5]\n",
      ";W[kg]WL[103.125]\n",
      ";B[jf]BL[40]OB[5]\n",
      ";W[kf]WL[88.644]\n",
      ";B[lj]BL[40]OB[5]\n",
      ";W[mi]WL[84.952]\n",
      ";B[mj]BL[40]OB[5]\n",
      ";W[ni]WL[83.043]\n",
      ";B[lm]BL[40]OB[5]\n",
      ";W[ln]WL[68.888]\n",
      ";B[kn]BL[40]OB[5]\n",
      ";W[km]WL[63.68]\n",
      ";B[kl]BL[40]OB[5]\n",
      ";W[ll]WL[46.195]\n",
      ";B[jm]BL[40]OB[5]\n",
      ";W[kk]WL[44.546]\n",
      ";B[ml]BL[40]OB[5]\n",
      ";W[lk]WL[42.827]\n",
      ";B[mk]BL[40]OB[5]\n",
      ";W[mm]WL[39.609]\n",
      ";B[km]BL[40]OB[5]\n",
      ";W[nm]WL[22.887]\n",
      ";B[ok]BL[40]OB[5]\n",
      ";W[nk]WL[0.365]\n",
      ";B[nl]BL[40]OB[5]\n",
      ";W[pk]WL[40]OW[5]\n",
      ";B[oj]BL[40]OB[5]\n",
      ";W[je]WL[40]OW[5]\n",
      ";B[hf]BL[40]OB[5]C[Bogoliubon [1k\\]: I've misread ladders in my last 5 games.  \n",
      "Bogoliubon [1k\\]: maybe I should retire\n",
      "tf [1k\\]: oh\n",
      "]\n",
      ";W[ph]WL[40]OW[5]\n",
      ";B[pj]BL[40]OB[5]\n",
      ";W[pg]WL[40]OW[5]\n",
      ";B[of]BL[40]OB[5]\n",
      ";W[oh]WL[40]OW[5]\n",
      ";B[pb]BL[40]OB[5]\n",
      ";W[qb]WL[40]OW[5]\n",
      ";B[qa]BL[40]OB[5]\n",
      ";W[ra]WL[40]OW[5]\n",
      ";B[pa]BL[40]OB[5]\n",
      ";W[cj]WL[40]OW[5]\n",
      ";B[ie]BL[40]OB[5]\n",
      ";W[qi]WL[40]OW[5]\n",
      ";B[rj]BL[40]OB[5]\n",
      ";W[qr]WL[40]OW[5]\n",
      ";B[rr]BL[40]OB[5]\n",
      ";W[rs]WL[40]OW[5]\n",
      ";B[fr]BL[40]OB[5]\n",
      ";W[om]WL[40]OW[5]\n",
      ";B[pm]BL[40]OB[5]\n",
      ";W[ol]WL[40]OW[5]\n",
      ";B[nj]BL[40]OB[5]\n",
      ";W[ri]WL[40]OW[5]\n",
      ";B[qj]BL[40]OB[5]\n",
      ";W[rq]WL[40]OW[5]\n",
      ";B[rp]BL[40]OB[5]\n",
      ";W[sr]WL[40]OW[5]\n",
      ";B[dr]BL[40]OB[5]\n",
      ";W[cq]WL[40]OW[5]\n",
      ";B[cr]BL[40]OB[5]\n",
      ";W[br]WL[40]OW[5]\n",
      ";B[bs]BL[40]OB[5]\n",
      ";W[ar]WL[40]OW[5]\n",
      ";B[ci]BL[40]OB[5]\n",
      ";W[bi]WL[40]OW[5]\n",
      ";B[ch]BL[40]OB[5]\n",
      ";W[bh]WL[40]OW[5]\n",
      ";B[cb]BL[40]OB[5]\n",
      ";W[sp]WL[40]OW[5]\n",
      ";B[ro]BL[40]OB[5]\n",
      ";W[so]WL[40]OW[5]\n",
      ";B[sn]BL[40]OB[5]\n",
      ";W[sq]WL[40]OW[5]\n",
      ";B[rn]BL[40]OB[5]\n",
      ";W[ne]WL[40]OW[5]\n",
      ";B[mf]BL[40]OB[5]\n",
      ";W[me]WL[40]OW[5]\n",
      ";B[le]BL[40]OB[5]\n",
      ";W[lf]WL[40]OW[5]\n",
      ";B[mg]BL[40]OB[5]\n",
      ";W[li]WL[40]OW[5]\n",
      ";B[mc]BL[40]OB[5]\n",
      ";W[nc]WL[40]OW[5]\n",
      ";B[nb]BL[40]OB[5]\n",
      ";W[jd]WL[40]OW[5]\n",
      ";B[ic]BL[40]OB[5]\n",
      ";W[kc]WL[40]OW[5]\n",
      ";B[kb]BL[40]OB[5]\n",
      ";W[lc]WL[40]OW[5]\n",
      ";B[lb]BL[40]OB[5]\n",
      ";W[kd]WL[40]OW[5]\n",
      ";B[md]BL[40]OB[5]\n",
      ";W[nd]WL[40]OW[5]\n",
      ";B[mb]BL[40]OB[5]\n",
      ";W[sj]WL[40]OW[5]\n",
      ";B[sk]BL[40]OB[5]\n",
      ";W[si]WL[40]OW[5]\n",
      ";B[fg]BL[40]OB[5]\n",
      ";W[eg]WL[40]OW[5]\n",
      ";B[eh]BL[40]OB[5]\n",
      ";W[hi]WL[40]OW[5]\n",
      ";B[ii]BL[40]OB[5]\n",
      ";W[cg]WL[40]OW[5]\n",
      ";B[dh]BL[40]OB[5]C[tf [1k\\]: ty\n",
      "Bogoliubon [1k\\]: tyahiks\n",
      "Bogoliubon [1k\\]: thanks\n",
      "])\n",
      "\n"
     ]
    }
   ],
   "source": [
    "print sgf"
   ]
  },
  {
   "cell_type": "code",
   "execution_count": 31,
   "metadata": {
    "collapsed": true
   },
   "outputs": [],
   "source": [
    "for i in games:StripComments(i)"
   ]
  },
  {
   "cell_type": "code",
   "execution_count": 34,
   "metadata": {
    "collapsed": false
   },
   "outputs": [
    {
     "data": {
      "text/plain": [
       "'2016/2/24/Bogoliubon-tf.sgf'"
      ]
     },
     "execution_count": 34,
     "metadata": {},
     "output_type": "execute_result"
    }
   ],
   "source": [
    "games[0]"
   ]
  },
  {
   "cell_type": "code",
   "execution_count": 58,
   "metadata": {
    "collapsed": true
   },
   "outputs": [],
   "source": [
    "CleanSGF(games[0])"
   ]
  },
  {
   "cell_type": "code",
   "execution_count": 59,
   "metadata": {
    "collapsed": false
   },
   "outputs": [],
   "source": [
    "sgf=ReadGame(games[0].replace('.sgf','_clean.sgf'))"
   ]
  },
  {
   "cell_type": "code",
   "execution_count": 60,
   "metadata": {
    "collapsed": false
   },
   "outputs": [
    {
     "data": {
      "text/plain": [
       "'(;GM[1]FF[4]CA[UTF-8]AP[CGoban:3]ST[2]\\nRU[Japanese]SZ[19]KM[6.50]TM[600]OT[5x40 byo-yomi]\\nPW[Bogoliubon]PB[tf]WR[1k]BR[1k]DT[2016-02-24]PRE[B+Resign]\\n;B[pd]\\n;W[dp]\\n;B[pp]\\n;W[dc]\\n;B[de]\\n;W[ce]\\n;B[dd]\\n;W[cd]\\n;B[ec]\\n;W[cf]\\n;B[db]\\n;W[cc]\\n;B[jc]\\n;W[nq]\\n;B[kp]\\n;W[no]\\n;B[pn]\\n;W[pr]\\n;B[qq]\\n;W[kr]\\n;B[qk]\\n;W[qf]\\n;B[qh]\\n;W[qc]\\n;B[pc]\\n;W[qd]\\n;B[pe]\\n;W[rf]\\n;B[og]\\n;W[fc]\\n;B[ed]\\n;W[fb]\\n;B[eb]\\n;W[df]\\n;B[fd]\\n;W[ke]\\n;B[ld]\\n;W[pl]\\n;B[ql]\\n;W[cn]\\n;B[fq]\\n;W[eq]\\n;B[fp]\\n;W[jq]\\n;B[mp]\\n;W[np]\\n;B[lr]\\n;W[lq]\\n;B[kq]\\n;W[mr]\\n;B[jr]\\n;W[ls]\\n;B[iq]\\n;W[dk]\\n;B[em]\\n;W[en]\\n;B[fn]\\n;W[fm]\\n;B[el]\\n;W[gm]\\n;B[dn]\\n;W[eo]\\n;B[fo]\\n;W[do]\\n;B[cm]\\n;W[dm]\\n;B[dl]\\n;W[cl]\\n;B[ek]\\n;W[bm]\\n;B[dj]\\n;W[ck]\\n;B[ej]\\n;W[im]\\n;B[ij]\\n;W[gj]\\n;B[gk]\\n;W[jp]\\n;B[jo]\\n;W[ip]\\n;B[hp]\\n;W[gn]\\n;B[io]\\n;W[hk]\\n;B[hj]\\n;W[ik]\\n;B[gi]\\n;W[ff]\\n;B[gf]\\n;W[jj]\\n;B[ji]\\n;W[ki]\\n;B[kj]\\n;W[jk]\\n;B[jh]\\n;W[kh]\\n;B[jg]\\n;W[kg]\\n;B[jf]\\n;W[kf]\\n;B[lj]\\n;W[mi]\\n;B[mj]\\n;W[ni]\\n;B[lm]\\n;W[ln]\\n;B[kn]\\n;W[km]\\n;B[kl]\\n;W[ll]\\n;B[jm]\\n;W[kk]\\n;B[ml]\\n;W[lk]\\n;B[mk]\\n;W[mm]\\n;B[km]\\n;W[nm]\\n;B[ok]\\n;W[nk]\\n;B[nl]\\n;W[pk]\\n;B[oj]\\n;W[je]\\n;B[hf]\\n;W[ph]\\n;B[pj]\\n;W[pg]\\n;B[of]\\n;W[oh]\\n;B[pb]\\n;W[qb]\\n;B[qa]\\n;W[ra]\\n;B[pa]\\n;W[cj]\\n;B[ie]\\n;W[qi]\\n;B[rj]\\n;W[qr]\\n;B[rr]\\n;W[rs]\\n;B[fr]\\n;W[om]\\n;B[pm]\\n;W[ol]\\n;B[nj]\\n;W[ri]\\n;B[qj]\\n;W[rq]\\n;B[rp]\\n;W[sr]\\n;B[dr]\\n;W[cq]\\n;B[cr]\\n;W[br]\\n;B[bs]\\n;W[ar]\\n;B[ci]\\n;W[bi]\\n;B[ch]\\n;W[bh]\\n;B[cb]\\n;W[sp]\\n;B[ro]\\n;W[so]\\n;B[sn]\\n;W[sq]\\n;B[rn]\\n;W[ne]\\n;B[mf]\\n;W[me]\\n;B[le]\\n;W[lf]\\n;B[mg]\\n;W[li]\\n;B[mc]\\n;W[nc]\\n;B[nb]\\n;W[jd]\\n;B[ic]\\n;W[kc]\\n;B[kb]\\n;W[lc]\\n;B[lb]\\n;W[kd]\\n;B[md]\\n;W[nd]\\n;B[mb]\\n;W[sj]\\n;B[sk]\\n;W[si]\\n;B[fg]\\n;W[eg]\\n;B[eh]\\n;W[hi]\\n;B[ii]\\n;W[cg]\\n;B[dh])\\n'"
      ]
     },
     "execution_count": 60,
     "metadata": {},
     "output_type": "execute_result"
    }
   ],
   "source": [
    "sgf"
   ]
  },
  {
   "cell_type": "code",
   "execution_count": 28,
   "metadata": {
    "collapsed": false
   },
   "outputs": [],
   "source": [
    "sgf=StripKey(sgf,key='CR')"
   ]
  },
  {
   "cell_type": "code",
   "execution_count": 61,
   "metadata": {
    "collapsed": false
   },
   "outputs": [
    {
     "data": {
      "text/plain": [
       "200"
      ]
     },
     "execution_count": 61,
     "metadata": {},
     "output_type": "execute_result"
    }
   ],
   "source": [
    "sgf.count(';')"
   ]
  },
  {
   "cell_type": "code",
   "execution_count": 62,
   "metadata": {
    "collapsed": true
   },
   "outputs": [],
   "source": [
    "sgf=sgf.replace('\\n','')"
   ]
  },
  {
   "cell_type": "code",
   "execution_count": 68,
   "metadata": {
    "collapsed": false
   },
   "outputs": [],
   "source": [
    "moves=sgf.split(';')\n",
    "moves=moves[2:]"
   ]
  },
  {
   "cell_type": "code",
   "execution_count": 70,
   "metadata": {
    "collapsed": false
   },
   "outputs": [
    {
     "data": {
      "text/plain": [
       "['pd',\n",
       " 'dp',\n",
       " 'pp',\n",
       " 'dc',\n",
       " 'de',\n",
       " 'ce',\n",
       " 'dd',\n",
       " 'cd',\n",
       " 'ec',\n",
       " 'cf',\n",
       " 'db',\n",
       " 'cc',\n",
       " 'jc',\n",
       " 'nq',\n",
       " 'kp',\n",
       " 'no',\n",
       " 'pn',\n",
       " 'pr',\n",
       " 'qq',\n",
       " 'kr',\n",
       " 'qk',\n",
       " 'qf',\n",
       " 'qh',\n",
       " 'qc',\n",
       " 'pc',\n",
       " 'qd',\n",
       " 'pe',\n",
       " 'rf',\n",
       " 'og',\n",
       " 'fc',\n",
       " 'ed',\n",
       " 'fb',\n",
       " 'eb',\n",
       " 'df',\n",
       " 'fd',\n",
       " 'ke',\n",
       " 'ld',\n",
       " 'pl',\n",
       " 'ql',\n",
       " 'cn',\n",
       " 'fq',\n",
       " 'eq',\n",
       " 'fp',\n",
       " 'jq',\n",
       " 'mp',\n",
       " 'np',\n",
       " 'lr',\n",
       " 'lq',\n",
       " 'kq',\n",
       " 'mr',\n",
       " 'jr',\n",
       " 'ls',\n",
       " 'iq',\n",
       " 'dk',\n",
       " 'em',\n",
       " 'en',\n",
       " 'fn',\n",
       " 'fm',\n",
       " 'el',\n",
       " 'gm',\n",
       " 'dn',\n",
       " 'eo',\n",
       " 'fo',\n",
       " 'do',\n",
       " 'cm',\n",
       " 'dm',\n",
       " 'dl',\n",
       " 'cl',\n",
       " 'ek',\n",
       " 'bm',\n",
       " 'dj',\n",
       " 'ck',\n",
       " 'ej',\n",
       " 'im',\n",
       " 'ij',\n",
       " 'gj',\n",
       " 'gk',\n",
       " 'jp',\n",
       " 'jo',\n",
       " 'ip',\n",
       " 'hp',\n",
       " 'gn',\n",
       " 'io',\n",
       " 'hk',\n",
       " 'hj',\n",
       " 'ik',\n",
       " 'gi',\n",
       " 'ff',\n",
       " 'gf',\n",
       " 'jj',\n",
       " 'ji',\n",
       " 'ki',\n",
       " 'kj',\n",
       " 'jk',\n",
       " 'jh',\n",
       " 'kh',\n",
       " 'jg',\n",
       " 'kg',\n",
       " 'jf',\n",
       " 'kf',\n",
       " 'lj',\n",
       " 'mi',\n",
       " 'mj',\n",
       " 'ni',\n",
       " 'lm',\n",
       " 'ln',\n",
       " 'kn',\n",
       " 'km',\n",
       " 'kl',\n",
       " 'll',\n",
       " 'jm',\n",
       " 'kk',\n",
       " 'ml',\n",
       " 'lk',\n",
       " 'mk',\n",
       " 'mm',\n",
       " 'km',\n",
       " 'nm',\n",
       " 'ok',\n",
       " 'nk',\n",
       " 'nl',\n",
       " 'pk',\n",
       " 'oj',\n",
       " 'je',\n",
       " 'hf',\n",
       " 'ph',\n",
       " 'pj',\n",
       " 'pg',\n",
       " 'of',\n",
       " 'oh',\n",
       " 'pb',\n",
       " 'qb',\n",
       " 'qa',\n",
       " 'ra',\n",
       " 'pa',\n",
       " 'cj',\n",
       " 'ie',\n",
       " 'qi',\n",
       " 'rj',\n",
       " 'qr',\n",
       " 'rr',\n",
       " 'rs',\n",
       " 'fr',\n",
       " 'om',\n",
       " 'pm',\n",
       " 'ol',\n",
       " 'nj',\n",
       " 'ri',\n",
       " 'qj',\n",
       " 'rq',\n",
       " 'rp',\n",
       " 'sr',\n",
       " 'dr',\n",
       " 'cq',\n",
       " 'cr',\n",
       " 'br',\n",
       " 'bs',\n",
       " 'ar',\n",
       " 'ci',\n",
       " 'bi',\n",
       " 'ch',\n",
       " 'bh',\n",
       " 'cb',\n",
       " 'sp',\n",
       " 'ro',\n",
       " 'so',\n",
       " 'sn',\n",
       " 'sq',\n",
       " 'rn',\n",
       " 'ne',\n",
       " 'mf',\n",
       " 'me',\n",
       " 'le',\n",
       " 'lf',\n",
       " 'mg',\n",
       " 'li',\n",
       " 'mc',\n",
       " 'nc',\n",
       " 'nb',\n",
       " 'jd',\n",
       " 'ic',\n",
       " 'kc',\n",
       " 'kb',\n",
       " 'lc',\n",
       " 'lb',\n",
       " 'kd',\n",
       " 'md',\n",
       " 'nd',\n",
       " 'mb',\n",
       " 'sj',\n",
       " 'sk',\n",
       " 'si',\n",
       " 'fg',\n",
       " 'eg',\n",
       " 'eh',\n",
       " 'hi',\n",
       " 'ii',\n",
       " 'cg',\n",
       " 'dh']"
      ]
     },
     "execution_count": 70,
     "metadata": {},
     "output_type": "execute_result"
    }
   ],
   "source": [
    "locs=[i[2:4] for i in moves]\n",
    "locs"
   ]
  },
  {
   "cell_type": "code",
   "execution_count": 71,
   "metadata": {
    "collapsed": true
   },
   "outputs": [],
   "source": [
    "letters='abcdefghijklmnopqrs'"
   ]
  },
  {
   "cell_type": "code",
   "execution_count": 72,
   "metadata": {
    "collapsed": false
   },
   "outputs": [
    {
     "data": {
      "text/plain": [
       "19"
      ]
     },
     "execution_count": 72,
     "metadata": {},
     "output_type": "execute_result"
    }
   ],
   "source": [
    "len(letters)"
   ]
  },
  {
   "cell_type": "code",
   "execution_count": 75,
   "metadata": {
    "collapsed": false
   },
   "outputs": [
    {
     "data": {
      "text/plain": [
       "('abcdefghij', 'jklmnopqrs')"
      ]
     },
     "execution_count": 75,
     "metadata": {},
     "output_type": "execute_result"
    }
   ],
   "source": [
    "letters[0:10],letters[9:]"
   ]
  },
  {
   "cell_type": "code",
   "execution_count": null,
   "metadata": {
    "collapsed": true
   },
   "outputs": [],
   "source": []
  }
 ],
 "metadata": {
  "kernelspec": {
   "display_name": "Python 2",
   "language": "python",
   "name": "python2"
  },
  "language_info": {
   "codemirror_mode": {
    "name": "ipython",
    "version": 2
   },
   "file_extension": ".py",
   "mimetype": "text/x-python",
   "name": "python",
   "nbconvert_exporter": "python",
   "pygments_lexer": "ipython2",
   "version": "2.7.11"
  }
 },
 "nbformat": 4,
 "nbformat_minor": 0
}
